{
 "cells": [
  {
   "cell_type": "markdown",
   "metadata": {},
   "source": [
    "# LIVE TWEETS!  \n",
    "This is going to be very similar to the main project, however, this will let you go through the same thing with your own live tweets! All you have to do is add your own cusumerKey and consumerSecret and you're all good to go!  \n",
    "You even get to pick your own hashtags to compare!"
   ]
  },
  {
   "cell_type": "code",
   "execution_count": 4,
   "metadata": {
    "collapsed": true
   },
   "outputs": [],
   "source": [
    "#First, The Imports\n",
    "import tweepy\n",
    "import pandas as pd\n",
    "import matplotlib.pyplot as plt\n",
    "from pprint import pprint\n",
    "\n",
    "# Every returned Out[] is displayed, not just the last one. (Thanks NaRae!)\n",
    "from IPython.core.interactiveshell import InteractiveShell\n",
    "InteractiveShell.ast_node_interactivity = \"all\""
   ]
  },
  {
   "cell_type": "markdown",
   "metadata": {},
   "source": [
    "### Please insert your consumerKey and comsumerSecret in the cell below:"
   ]
  },
  {
   "cell_type": "code",
   "execution_count": 5,
   "metadata": {
    "collapsed": true
   },
   "outputs": [],
   "source": [
    "# the key variables\n",
    "consumerKey = \"Wnb1NHXFj8dJockenbOQtHRs1\"\n",
    "consumerSecret =\"B9R7aJwPxK3v5jDWprjBLf4Q6q4WWTI8TXHLjtc2MzHMq48Qas\""
   ]
  },
  {
   "cell_type": "code",
   "execution_count": 6,
   "metadata": {
    "collapsed": true
   },
   "outputs": [],
   "source": [
    "#authentication\n",
    "auth = tweepy.OAuthHandler(consumerKey, consumerSecret)\n",
    "\n",
    "#connecting to Twitter API\n",
    "api = tweepy.API(auth)"
   ]
  },
  {
   "cell_type": "markdown",
   "metadata": {},
   "source": [
    "### This time around, pick your own hashtags to compare! You'll need 4 (2 related to one topic, and 2 related to another, please enter them in the variables in the cell below:"
   ]
  },
  {
   "cell_type": "code",
   "execution_count": 7,
   "metadata": {
    "collapsed": true
   },
   "outputs": [],
   "source": [
    "# topic 1\n",
    "a = 'sleep'\n",
    "#topic 1, word 1\n",
    "a1 = '%23' + 'sleepdeprivation'\n",
    "#topic 1, word 2\n",
    "a2 = '%23' + \"nap\"\n",
    "\n",
    "#topic 2\n",
    "b = 'finals'\n",
    "#topic 2, word 1\n",
    "b1 = '%23' + \"crying\"\n",
    "#topic 2, word 2\n",
    "b2 = '%23' + \"professors\""
   ]
  },
  {
   "cell_type": "code",
   "execution_count": 8,
   "metadata": {
    "collapsed": true
   },
   "outputs": [],
   "source": [
    "#getting topic 1 and topic 2 search results\n",
    "ra1 = api.search(q = a1)\n",
    "ra2 = api.search(q = a2)\n",
    "rb1 = api.search(q = b1)\n",
    "rb2 = api.search(q = b2)"
   ]
  },
  {
   "cell_type": "code",
   "execution_count": 9,
   "metadata": {
    "collapsed": true
   },
   "outputs": [],
   "source": [
    "#Get the first 1000 items based on the search query\n",
    "for tweet in tweepy.Cursor(api.search, q=a1).items(1000):\n",
    "    ra1.append(tweet)\n",
    "for tweet in tweepy.Cursor(api.search, q=a2).items(1000):\n",
    "    ra2.append(tweet)\n",
    "for tweet in tweepy.Cursor(api.search, q=b1).items(1000):\n",
    "    rb1.append(tweet)\n",
    "for tweet in tweepy.Cursor(api.search, q=b2).items(1000):\n",
    "    rb2.append(tweet)"
   ]
  },
  {
   "cell_type": "code",
   "execution_count": 10,
   "metadata": {},
   "outputs": [
    {
     "data": {
      "text/plain": [
       "283"
      ]
     },
     "execution_count": 10,
     "metadata": {},
     "output_type": "execute_result"
    },
    {
     "data": {
      "text/plain": [
       "1015"
      ]
     },
     "execution_count": 10,
     "metadata": {},
     "output_type": "execute_result"
    },
    {
     "data": {
      "text/plain": [
       "1015"
      ]
     },
     "execution_count": 10,
     "metadata": {},
     "output_type": "execute_result"
    },
    {
     "data": {
      "text/plain": [
       "245"
      ]
     },
     "execution_count": 10,
     "metadata": {},
     "output_type": "execute_result"
    }
   ],
   "source": [
    "#Verify the number of items returned\n",
    "len(ra1)\n",
    "len(ra2)\n",
    "len(rb1)\n",
    "len(rb2)"
   ]
  },
  {
   "cell_type": "markdown",
   "metadata": {},
   "source": [
    "### AWESOME! Now, let's take a look at the first tweet form each hashtag and learn a little about them!"
   ]
  },
  {
   "cell_type": "code",
   "execution_count": 11,
   "metadata": {},
   "outputs": [
    {
     "name": "stdout",
     "output_type": "stream",
     "text": [
      "Sleep Deprivation May Treat Depression. But Would It Ever Be Prescribed? https://t.co/sRTXHfYxUN\n",
      "#sleepdeprivation #depression #mentalhealth\n"
     ]
    },
    {
     "data": {
      "text/plain": [
       "'en'"
      ]
     },
     "execution_count": 11,
     "metadata": {},
     "output_type": "execute_result"
    },
    {
     "data": {
      "text/plain": [
       "'mayfieldmed'"
      ]
     },
     "execution_count": 11,
     "metadata": {},
     "output_type": "execute_result"
    },
    {
     "data": {
      "text/plain": [
       "'#Medical & #laboratory #equipment service #repair #depotrepair #labtech #dental #veterinary #medtech #medicaldevice #hospital\\n800.667.3570'"
      ]
     },
     "execution_count": 11,
     "metadata": {},
     "output_type": "execute_result"
    },
    {
     "data": {
      "text/plain": [
       "datetime.datetime(2017, 11, 28, 20, 40, 5)"
      ]
     },
     "execution_count": 11,
     "metadata": {},
     "output_type": "execute_result"
    },
    {
     "data": {
      "text/plain": [
       "935609263678021632"
      ]
     },
     "execution_count": 11,
     "metadata": {},
     "output_type": "execute_result"
    },
    {
     "data": {
      "text/plain": [
       "0"
      ]
     },
     "execution_count": 11,
     "metadata": {},
     "output_type": "execute_result"
    }
   ],
   "source": [
    "#this is an example of a tweet\n",
    "tweeta1 = ra1[1] #get the data of the first tweet.\n",
    "\n",
    "#then, print tweet. \n",
    "print(tweeta1.text)\n",
    "\n",
    "#other additional info about the tweet for reference\n",
    "tweeta1.lang                    #the language of the tweet \n",
    "tweeta1.user.screen_name        #this is the username\n",
    "tweeta1.user.description        #self description of user by user posted on profile\n",
    "tweeta1.created_at              #date and time tweet was created\n",
    "tweeta1.id                      #Tweet ID #\n",
    "tweeta1.favorite_count          #how many likes the tweet received"
   ]
  },
  {
   "cell_type": "code",
   "execution_count": 12,
   "metadata": {},
   "outputs": [
    {
     "name": "stdout",
     "output_type": "stream",
     "text": [
      "👌🏽Menja els naps ratllats amb unes gotetes de llima i ajuda al teu sistema respiratori. Fes un suc de #nap i… https://t.co/viCkDa0sLZ\n"
     ]
    },
    {
     "data": {
      "text/plain": [
       "'und'"
      ]
     },
     "execution_count": 12,
     "metadata": {},
     "output_type": "execute_result"
    },
    {
     "data": {
      "text/plain": [
       "'CamidelHorta'"
      ]
     },
     "execution_count": 12,
     "metadata": {},
     "output_type": "execute_result"
    },
    {
     "data": {
      "text/plain": [
       "\"Comandes i consultes: info@camidelhorta.com L'Horta de València. Sense intermediaris. Promovent la Salut i l'Estima a la Terra i al Cos. Dissabtes al Mercat!\""
      ]
     },
     "execution_count": 12,
     "metadata": {},
     "output_type": "execute_result"
    },
    {
     "data": {
      "text/plain": [
       "datetime.datetime(2017, 11, 28, 21, 35, 53)"
      ]
     },
     "execution_count": 12,
     "metadata": {},
     "output_type": "execute_result"
    },
    {
     "data": {
      "text/plain": [
       "935623303632506883"
      ]
     },
     "execution_count": 12,
     "metadata": {},
     "output_type": "execute_result"
    },
    {
     "data": {
      "text/plain": [
       "0"
      ]
     },
     "execution_count": 12,
     "metadata": {},
     "output_type": "execute_result"
    }
   ],
   "source": [
    "#this is an example of a tweet\n",
    "tweeta2 = ra2[1] #get the data of the first tweet.\n",
    "\n",
    "#then, print tweet. \n",
    "print(tweeta2.text)\n",
    "\n",
    "#other additional info about the tweet for reference\n",
    "tweeta2.lang                    #the language of the tweet\n",
    "tweeta2.user.screen_name        #this is the username\n",
    "tweeta2.user.description        #self description of user by user posted on profile\n",
    "tweeta2.created_at              #date and time tweet was created\n",
    "tweeta2.id                      #Tweet ID #\n",
    "tweeta2.favorite_count          #how many likes the tweet received"
   ]
  },
  {
   "cell_type": "code",
   "execution_count": 13,
   "metadata": {},
   "outputs": [
    {
     "name": "stdout",
     "output_type": "stream",
     "text": [
      "Dennis wise, He's a very small man!!!!! #ImACeleb #crying\n"
     ]
    },
    {
     "data": {
      "text/plain": [
       "'en'"
      ]
     },
     "execution_count": 13,
     "metadata": {},
     "output_type": "execute_result"
    },
    {
     "data": {
      "text/plain": [
       "'LewisKevan'"
      ]
     },
     "execution_count": 13,
     "metadata": {},
     "output_type": "execute_result"
    },
    {
     "data": {
      "text/plain": [
       "''"
      ]
     },
     "execution_count": 13,
     "metadata": {},
     "output_type": "execute_result"
    },
    {
     "data": {
      "text/plain": [
       "datetime.datetime(2017, 11, 28, 21, 41, 28)"
      ]
     },
     "execution_count": 13,
     "metadata": {},
     "output_type": "execute_result"
    },
    {
     "data": {
      "text/plain": [
       "935624708057378816"
      ]
     },
     "execution_count": 13,
     "metadata": {},
     "output_type": "execute_result"
    },
    {
     "data": {
      "text/plain": [
       "2"
      ]
     },
     "execution_count": 13,
     "metadata": {},
     "output_type": "execute_result"
    }
   ],
   "source": [
    "#this is an example of a tweet\n",
    "tweetb1 = rb1[1] #get the data of the first tweet.\n",
    "\n",
    "#then, print tweet. \n",
    "print(tweetb1.text)\n",
    "\n",
    "#other additional info about the tweet for reference\n",
    "tweetb1.lang                    #the language of the tweet\n",
    "tweetb1.user.screen_name        #this is the username\n",
    "tweetb1.user.description        #self description of user by user posted on profile\n",
    "tweetb1.created_at              #date and time tweet was created\n",
    "tweetb1.id                      #Tweet ID #\n",
    "tweetb1.favorite_count          #how many likes the tweet received"
   ]
  },
  {
   "cell_type": "code",
   "execution_count": 14,
   "metadata": {},
   "outputs": [
    {
     "name": "stdout",
     "output_type": "stream",
     "text": [
      "#Professors with #industry experience &amp; small study groups - just two things that distinguish Universities of Appli… https://t.co/5hVRif6HEn\n"
     ]
    },
    {
     "data": {
      "text/plain": [
       "'en'"
      ]
     },
     "execution_count": 14,
     "metadata": {},
     "output_type": "execute_result"
    },
    {
     "data": {
      "text/plain": [
       "'UAS7_NY'"
      ]
     },
     "execution_count": 14,
     "metadata": {},
     "output_type": "execute_result"
    },
    {
     "data": {
      "text/plain": [
       "'7 German Universities of Applied Sciences leading in teaching & research. Providing study and internship opportunities in Germany to North American students.'"
      ]
     },
     "execution_count": 14,
     "metadata": {},
     "output_type": "execute_result"
    },
    {
     "data": {
      "text/plain": [
       "datetime.datetime(2017, 11, 28, 19, 25, 32)"
      ]
     },
     "execution_count": 14,
     "metadata": {},
     "output_type": "execute_result"
    },
    {
     "data": {
      "text/plain": [
       "935590499532058624"
      ]
     },
     "execution_count": 14,
     "metadata": {},
     "output_type": "execute_result"
    },
    {
     "data": {
      "text/plain": [
       "0"
      ]
     },
     "execution_count": 14,
     "metadata": {},
     "output_type": "execute_result"
    }
   ],
   "source": [
    "#this is an example of a tweet\n",
    "tweetb2 = rb2[1] #get the data of the first tweet.\n",
    "\n",
    "#then, print tweet. \n",
    "print(tweetb2.text)\n",
    "\n",
    "#other additional info about the tweet for reference\n",
    "tweetb2.lang                    #the language of the tweet\n",
    "tweetb2.user.screen_name        #this is the username\n",
    "tweetb2.user.description        #self description of user by user posted on profile\n",
    "tweetb2.created_at              #date and time tweet was created\n",
    "tweetb2.id                      #Tweet ID #\n",
    "tweetb2.favorite_count          #how many likes the tweet received"
   ]
  },
  {
   "cell_type": "markdown",
   "metadata": {},
   "source": [
    "### Sweet! Now let's clean these tweets into a dataframe and get going!"
   ]
  },
  {
   "cell_type": "code",
   "execution_count": 16,
   "metadata": {
    "collapsed": true
   },
   "outputs": [],
   "source": [
    "# this is a function found here: http://blog.impiyush.com/2015/03/data-analysis-using-twitter-api-and.html\n",
    "# I am using this to clean my data into a dataframe, it has been altered slightly (mostly deletion) for my project.\n",
    "def toDataFrame(tweets):\n",
    "\n",
    "    DataSet = pd.DataFrame()\n",
    "\n",
    "    DataSet['tweetID'] = [tweet.id for tweet in tweets]\n",
    "    DataSet['tweetRetweetCt'] = [tweet.retweet_count for tweet \n",
    "    in tweets]\n",
    "    DataSet['tweetFavoriteCt'] = [tweet.favorite_count for tweet \n",
    "    in tweets]\n",
    "    DataSet['tweetSource'] = [tweet.source for tweet in tweets]\n",
    "    DataSet['tweetCreated'] = [tweet.created_at for tweet in tweets]\n",
    "\n",
    "\n",
    "    DataSet['userID'] = [tweet.user.id for tweet in tweets]\n",
    "    DataSet['userScreen'] = [tweet.user.screen_name for tweet \n",
    "    in tweets]\n",
    "    DataSet['userName'] = [tweet.user.name for tweet in tweets]\n",
    "    DataSet['userLocation'] = [tweet.user.location for tweet in tweets]\n",
    "    DataSet['userTimezone'] = [tweet.user.time_zone for tweet \n",
    "    in tweets]\n",
    "\n",
    "    return DataSet"
   ]
  },
  {
   "cell_type": "code",
   "execution_count": 17,
   "metadata": {},
   "outputs": [
    {
     "data": {
      "text/html": [
       "<div>\n",
       "<style>\n",
       "    .dataframe thead tr:only-child th {\n",
       "        text-align: right;\n",
       "    }\n",
       "\n",
       "    .dataframe thead th {\n",
       "        text-align: left;\n",
       "    }\n",
       "\n",
       "    .dataframe tbody tr th {\n",
       "        vertical-align: top;\n",
       "    }\n",
       "</style>\n",
       "<table border=\"1\" class=\"dataframe\">\n",
       "  <thead>\n",
       "    <tr style=\"text-align: right;\">\n",
       "      <th></th>\n",
       "      <th>tweetID</th>\n",
       "      <th>tweetRetweetCt</th>\n",
       "      <th>tweetFavoriteCt</th>\n",
       "      <th>tweetSource</th>\n",
       "      <th>tweetCreated</th>\n",
       "      <th>userID</th>\n",
       "      <th>userScreen</th>\n",
       "      <th>userName</th>\n",
       "      <th>userLocation</th>\n",
       "      <th>userTimezone</th>\n",
       "      <th>Hashtag</th>\n",
       "    </tr>\n",
       "  </thead>\n",
       "  <tbody>\n",
       "    <tr>\n",
       "      <th>0</th>\n",
       "      <td>935613424440102924</td>\n",
       "      <td>1</td>\n",
       "      <td>0</td>\n",
       "      <td>Twitter for iPad</td>\n",
       "      <td>2017-11-28 20:56:37</td>\n",
       "      <td>913037741369315328</td>\n",
       "      <td>asleepystudent1</td>\n",
       "      <td>Sleepy Student</td>\n",
       "      <td></td>\n",
       "      <td>None</td>\n",
       "      <td>%23sleepdeprivation</td>\n",
       "    </tr>\n",
       "    <tr>\n",
       "      <th>1</th>\n",
       "      <td>935609263678021632</td>\n",
       "      <td>0</td>\n",
       "      <td>0</td>\n",
       "      <td>Hootsuite</td>\n",
       "      <td>2017-11-28 20:40:05</td>\n",
       "      <td>2655594823</td>\n",
       "      <td>mayfieldmed</td>\n",
       "      <td>Mayfield Medical Svs</td>\n",
       "      <td>St. Louis, MO</td>\n",
       "      <td>Eastern Time (US &amp; Canada)</td>\n",
       "      <td>%23sleepdeprivation</td>\n",
       "    </tr>\n",
       "    <tr>\n",
       "      <th>2</th>\n",
       "      <td>935588603442487296</td>\n",
       "      <td>0</td>\n",
       "      <td>1</td>\n",
       "      <td>Twitter Web Client</td>\n",
       "      <td>2017-11-28 19:18:00</td>\n",
       "      <td>784126715035398145</td>\n",
       "      <td>VoiceEclectics</td>\n",
       "      <td>Voice Eclectics</td>\n",
       "      <td>Hollywood, Los Angeles</td>\n",
       "      <td>None</td>\n",
       "      <td>%23sleepdeprivation</td>\n",
       "    </tr>\n",
       "    <tr>\n",
       "      <th>3</th>\n",
       "      <td>935587390181306368</td>\n",
       "      <td>0</td>\n",
       "      <td>1</td>\n",
       "      <td>Twitter for Android</td>\n",
       "      <td>2017-11-28 19:13:10</td>\n",
       "      <td>178039542</td>\n",
       "      <td>JWill_PediACCM</td>\n",
       "      <td>Julie Williamson</td>\n",
       "      <td>Atlanta, GA</td>\n",
       "      <td>Eastern Time (US &amp; Canada)</td>\n",
       "      <td>%23sleepdeprivation</td>\n",
       "    </tr>\n",
       "    <tr>\n",
       "      <th>4</th>\n",
       "      <td>935574955638558720</td>\n",
       "      <td>11</td>\n",
       "      <td>0</td>\n",
       "      <td>Twitter for Android</td>\n",
       "      <td>2017-11-28 18:23:46</td>\n",
       "      <td>931573776193654784</td>\n",
       "      <td>MatthewHibber10</td>\n",
       "      <td>Matthew Hibbert</td>\n",
       "      <td></td>\n",
       "      <td>None</td>\n",
       "      <td>%23sleepdeprivation</td>\n",
       "    </tr>\n",
       "  </tbody>\n",
       "</table>\n",
       "</div>"
      ],
      "text/plain": [
       "              tweetID  tweetRetweetCt  tweetFavoriteCt          tweetSource  \\\n",
       "0  935613424440102924               1                0     Twitter for iPad   \n",
       "1  935609263678021632               0                0            Hootsuite   \n",
       "2  935588603442487296               0                1   Twitter Web Client   \n",
       "3  935587390181306368               0                1  Twitter for Android   \n",
       "4  935574955638558720              11                0  Twitter for Android   \n",
       "\n",
       "         tweetCreated              userID       userScreen  \\\n",
       "0 2017-11-28 20:56:37  913037741369315328  asleepystudent1   \n",
       "1 2017-11-28 20:40:05          2655594823      mayfieldmed   \n",
       "2 2017-11-28 19:18:00  784126715035398145   VoiceEclectics   \n",
       "3 2017-11-28 19:13:10           178039542   JWill_PediACCM   \n",
       "4 2017-11-28 18:23:46  931573776193654784  MatthewHibber10   \n",
       "\n",
       "               userName            userLocation                userTimezone  \\\n",
       "0        Sleepy Student                                                None   \n",
       "1  Mayfield Medical Svs           St. Louis, MO  Eastern Time (US & Canada)   \n",
       "2       Voice Eclectics  Hollywood, Los Angeles                        None   \n",
       "3      Julie Williamson             Atlanta, GA  Eastern Time (US & Canada)   \n",
       "4       Matthew Hibbert                                                None   \n",
       "\n",
       "               Hashtag  \n",
       "0  %23sleepdeprivation  \n",
       "1  %23sleepdeprivation  \n",
       "2  %23sleepdeprivation  \n",
       "3  %23sleepdeprivation  \n",
       "4  %23sleepdeprivation  "
      ]
     },
     "execution_count": 17,
     "metadata": {},
     "output_type": "execute_result"
    },
    {
     "data": {
      "text/html": [
       "<div>\n",
       "<style>\n",
       "    .dataframe thead tr:only-child th {\n",
       "        text-align: right;\n",
       "    }\n",
       "\n",
       "    .dataframe thead th {\n",
       "        text-align: left;\n",
       "    }\n",
       "\n",
       "    .dataframe tbody tr th {\n",
       "        vertical-align: top;\n",
       "    }\n",
       "</style>\n",
       "<table border=\"1\" class=\"dataframe\">\n",
       "  <thead>\n",
       "    <tr style=\"text-align: right;\">\n",
       "      <th></th>\n",
       "      <th>tweetID</th>\n",
       "      <th>tweetRetweetCt</th>\n",
       "      <th>tweetFavoriteCt</th>\n",
       "      <th>tweetSource</th>\n",
       "      <th>tweetCreated</th>\n",
       "      <th>userID</th>\n",
       "      <th>userScreen</th>\n",
       "      <th>userName</th>\n",
       "      <th>userLocation</th>\n",
       "      <th>userTimezone</th>\n",
       "      <th>Hashtag</th>\n",
       "    </tr>\n",
       "  </thead>\n",
       "  <tbody>\n",
       "    <tr>\n",
       "      <th>0</th>\n",
       "      <td>935626956019773442</td>\n",
       "      <td>0</td>\n",
       "      <td>1</td>\n",
       "      <td>Twitter for iPhone</td>\n",
       "      <td>2017-11-28 21:50:24</td>\n",
       "      <td>3052432903</td>\n",
       "      <td>pknrz</td>\n",
       "      <td>ronnie</td>\n",
       "      <td>MacLaren's Pub</td>\n",
       "      <td>Pacific Time (US &amp; Canada)</td>\n",
       "      <td>%23crying</td>\n",
       "    </tr>\n",
       "    <tr>\n",
       "      <th>1</th>\n",
       "      <td>935624708057378816</td>\n",
       "      <td>0</td>\n",
       "      <td>2</td>\n",
       "      <td>Twitter for iPhone</td>\n",
       "      <td>2017-11-28 21:41:28</td>\n",
       "      <td>316029115</td>\n",
       "      <td>LewisKevan</td>\n",
       "      <td>lewkev</td>\n",
       "      <td>scarborough!</td>\n",
       "      <td>None</td>\n",
       "      <td>%23crying</td>\n",
       "    </tr>\n",
       "    <tr>\n",
       "      <th>2</th>\n",
       "      <td>935622249125679105</td>\n",
       "      <td>0</td>\n",
       "      <td>1</td>\n",
       "      <td>Twitter for iPhone</td>\n",
       "      <td>2017-11-28 21:31:41</td>\n",
       "      <td>92133219</td>\n",
       "      <td>CatrionaSheehan</td>\n",
       "      <td>Catriona Sheehan</td>\n",
       "      <td>Limerick💚&amp; Cork/Fermoy</td>\n",
       "      <td>Hawaii</td>\n",
       "      <td>%23crying</td>\n",
       "    </tr>\n",
       "    <tr>\n",
       "      <th>3</th>\n",
       "      <td>935617798751031297</td>\n",
       "      <td>0</td>\n",
       "      <td>0</td>\n",
       "      <td>Twitter for Android</td>\n",
       "      <td>2017-11-28 21:14:00</td>\n",
       "      <td>3438631527</td>\n",
       "      <td>Eternallyvivid</td>\n",
       "      <td>Galy Szentgyorgyi</td>\n",
       "      <td>its pronounced as Gal-ee</td>\n",
       "      <td>None</td>\n",
       "      <td>%23crying</td>\n",
       "    </tr>\n",
       "    <tr>\n",
       "      <th>4</th>\n",
       "      <td>935617764495990784</td>\n",
       "      <td>0</td>\n",
       "      <td>1</td>\n",
       "      <td>Twitter for Android</td>\n",
       "      <td>2017-11-28 21:13:52</td>\n",
       "      <td>886553540994375680</td>\n",
       "      <td>AsanaAdams</td>\n",
       "      <td>AsanaAdams</td>\n",
       "      <td></td>\n",
       "      <td>None</td>\n",
       "      <td>%23crying</td>\n",
       "    </tr>\n",
       "  </tbody>\n",
       "</table>\n",
       "</div>"
      ],
      "text/plain": [
       "              tweetID  tweetRetweetCt  tweetFavoriteCt          tweetSource  \\\n",
       "0  935626956019773442               0                1   Twitter for iPhone   \n",
       "1  935624708057378816               0                2   Twitter for iPhone   \n",
       "2  935622249125679105               0                1   Twitter for iPhone   \n",
       "3  935617798751031297               0                0  Twitter for Android   \n",
       "4  935617764495990784               0                1  Twitter for Android   \n",
       "\n",
       "         tweetCreated              userID       userScreen           userName  \\\n",
       "0 2017-11-28 21:50:24          3052432903            pknrz             ronnie   \n",
       "1 2017-11-28 21:41:28           316029115       LewisKevan             lewkev   \n",
       "2 2017-11-28 21:31:41            92133219  CatrionaSheehan   Catriona Sheehan   \n",
       "3 2017-11-28 21:14:00          3438631527   Eternallyvivid  Galy Szentgyorgyi   \n",
       "4 2017-11-28 21:13:52  886553540994375680       AsanaAdams         AsanaAdams   \n",
       "\n",
       "               userLocation                userTimezone    Hashtag  \n",
       "0            MacLaren's Pub  Pacific Time (US & Canada)  %23crying  \n",
       "1              scarborough!                        None  %23crying  \n",
       "2    Limerick💚& Cork/Fermoy                      Hawaii  %23crying  \n",
       "3  its pronounced as Gal-ee                        None  %23crying  \n",
       "4                                                  None  %23crying  "
      ]
     },
     "execution_count": 17,
     "metadata": {},
     "output_type": "execute_result"
    }
   ],
   "source": [
    "#Do this funciton on the tweets, then connect the dataframes\n",
    "a1_df = toDataFrame(ra1)\n",
    "a2_df = toDataFrame(ra2)\n",
    "b1_df = toDataFrame(rb1)\n",
    "b2_df = toDataFrame(rb2)\n",
    "\n",
    "#Adding a column to say which hashtag it came from\n",
    "a1_df['Hashtag'] = a1\n",
    "a2_df['Hashtag'] = a2 \n",
    "b1_df['Hashtag'] = b1\n",
    "b2_df['Hashtag'] = b2\n",
    "\n",
    "# now to combine into 2 larger ones\n",
    "a_df = pd.concat([a1_df, a2_df])\n",
    "b_df = pd.concat([b1_df, b2_df])\n",
    "\n",
    "#Take a look at the new dataframes\n",
    "a_df.head()\n",
    "b_df.head()"
   ]
  },
  {
   "cell_type": "code",
   "execution_count": null,
   "metadata": {
    "collapsed": true
   },
   "outputs": [],
   "source": [
    "#write your dataframes to a csv file, if you want to be able to use it later.\n",
    "# Write out the DF as a new CSV file\n",
    "a_df.to_csv('a_tweets.csv')\n",
    "b_df.to_csv('b_tweets.csv')"
   ]
  },
  {
   "cell_type": "markdown",
   "metadata": {},
   "source": [
    "### Now that the data has been cleaned a bit, let's start comparing!  \n",
    "### Size comparison:"
   ]
  },
  {
   "cell_type": "code",
   "execution_count": 18,
   "metadata": {},
   "outputs": [
    {
     "data": {
      "text/plain": [
       "14278"
      ]
     },
     "execution_count": 18,
     "metadata": {},
     "output_type": "execute_result"
    },
    {
     "data": {
      "text/plain": [
       "13860"
      ]
     },
     "execution_count": 18,
     "metadata": {},
     "output_type": "execute_result"
    }
   ],
   "source": [
    "a_df.size\n",
    "b_df.size"
   ]
  },
  {
   "cell_type": "markdown",
   "metadata": {},
   "source": [
    "### Number of favorites vs. retweets comparison"
   ]
  },
  {
   "cell_type": "code",
   "execution_count": 19,
   "metadata": {
    "collapsed": true
   },
   "outputs": [],
   "source": [
    "a_fav_total = a_df['tweetFavoriteCt'].sum()\n",
    "a_rt_total = a_df['tweetRetweetCt'].sum()\n",
    "\n",
    "b_fav_total = b_df['tweetFavoriteCt'].sum()\n",
    "b_rt_total = b_df['tweetRetweetCt'].sum()"
   ]
  },
  {
   "cell_type": "code",
   "execution_count": 20,
   "metadata": {},
   "outputs": [
    {
     "data": {
      "text/html": [
       "<div>\n",
       "<style>\n",
       "    .dataframe thead tr:only-child th {\n",
       "        text-align: right;\n",
       "    }\n",
       "\n",
       "    .dataframe thead th {\n",
       "        text-align: left;\n",
       "    }\n",
       "\n",
       "    .dataframe tbody tr th {\n",
       "        vertical-align: top;\n",
       "    }\n",
       "</style>\n",
       "<table border=\"1\" class=\"dataframe\">\n",
       "  <thead>\n",
       "    <tr style=\"text-align: right;\">\n",
       "      <th></th>\n",
       "      <th>sleep</th>\n",
       "      <th>finals</th>\n",
       "    </tr>\n",
       "  </thead>\n",
       "  <tbody>\n",
       "    <tr>\n",
       "      <th>Favorites</th>\n",
       "      <td>1830</td>\n",
       "      <td>NaN</td>\n",
       "    </tr>\n",
       "  </tbody>\n",
       "</table>\n",
       "</div>"
      ],
      "text/plain": [
       "          sleep finals\n",
       "Favorites  1830    NaN"
      ]
     },
     "execution_count": 20,
     "metadata": {},
     "output_type": "execute_result"
    },
    {
     "data": {
      "text/html": [
       "<div>\n",
       "<style>\n",
       "    .dataframe thead tr:only-child th {\n",
       "        text-align: right;\n",
       "    }\n",
       "\n",
       "    .dataframe thead th {\n",
       "        text-align: left;\n",
       "    }\n",
       "\n",
       "    .dataframe tbody tr th {\n",
       "        vertical-align: top;\n",
       "    }\n",
       "</style>\n",
       "<table border=\"1\" class=\"dataframe\">\n",
       "  <thead>\n",
       "    <tr style=\"text-align: right;\">\n",
       "      <th></th>\n",
       "      <th>sleep</th>\n",
       "      <th>finals</th>\n",
       "    </tr>\n",
       "  </thead>\n",
       "  <tbody>\n",
       "    <tr>\n",
       "      <th>Retweets</th>\n",
       "      <td>8538</td>\n",
       "      <td>NaN</td>\n",
       "    </tr>\n",
       "  </tbody>\n",
       "</table>\n",
       "</div>"
      ],
      "text/plain": [
       "         sleep finals\n",
       "Retweets  8538    NaN"
      ]
     },
     "execution_count": 20,
     "metadata": {},
     "output_type": "execute_result"
    },
    {
     "data": {
      "text/html": [
       "<div>\n",
       "<style>\n",
       "    .dataframe thead tr:only-child th {\n",
       "        text-align: right;\n",
       "    }\n",
       "\n",
       "    .dataframe thead th {\n",
       "        text-align: left;\n",
       "    }\n",
       "\n",
       "    .dataframe tbody tr th {\n",
       "        vertical-align: top;\n",
       "    }\n",
       "</style>\n",
       "<table border=\"1\" class=\"dataframe\">\n",
       "  <thead>\n",
       "    <tr style=\"text-align: right;\">\n",
       "      <th></th>\n",
       "      <th>sleep</th>\n",
       "      <th>finals</th>\n",
       "    </tr>\n",
       "  </thead>\n",
       "  <tbody>\n",
       "    <tr>\n",
       "      <th>Favorites</th>\n",
       "      <td>1830</td>\n",
       "      <td>2360</td>\n",
       "    </tr>\n",
       "  </tbody>\n",
       "</table>\n",
       "</div>"
      ],
      "text/plain": [
       "          sleep finals\n",
       "Favorites  1830   2360"
      ]
     },
     "execution_count": 20,
     "metadata": {},
     "output_type": "execute_result"
    },
    {
     "data": {
      "text/html": [
       "<div>\n",
       "<style>\n",
       "    .dataframe thead tr:only-child th {\n",
       "        text-align: right;\n",
       "    }\n",
       "\n",
       "    .dataframe thead th {\n",
       "        text-align: left;\n",
       "    }\n",
       "\n",
       "    .dataframe tbody tr th {\n",
       "        vertical-align: top;\n",
       "    }\n",
       "</style>\n",
       "<table border=\"1\" class=\"dataframe\">\n",
       "  <thead>\n",
       "    <tr style=\"text-align: right;\">\n",
       "      <th></th>\n",
       "      <th>sleep</th>\n",
       "      <th>finals</th>\n",
       "    </tr>\n",
       "  </thead>\n",
       "  <tbody>\n",
       "    <tr>\n",
       "      <th>Retweets</th>\n",
       "      <td>8538</td>\n",
       "      <td>5334</td>\n",
       "    </tr>\n",
       "  </tbody>\n",
       "</table>\n",
       "</div>"
      ],
      "text/plain": [
       "         sleep finals\n",
       "Retweets  8538   5334"
      ]
     },
     "execution_count": 20,
     "metadata": {},
     "output_type": "execute_result"
    },
    {
     "data": {
      "text/plain": [
       "<matplotlib.axes._subplots.AxesSubplot at 0x118152c88>"
      ]
     },
     "execution_count": 20,
     "metadata": {},
     "output_type": "execute_result"
    },
    {
     "data": {
      "image/png": "[encoded data removed]",
      "text/plain": [
       "<matplotlib.figure.Figure at 0x11817c978>"
      ]
     },
     "metadata": {},
     "output_type": "display_data"
    },
    {
     "data": {
      "text/plain": [
       "<matplotlib.axes._subplots.AxesSubplot at 0x11a6f3588>"
      ]
     },
     "execution_count": 20,
     "metadata": {},
     "output_type": "execute_result"
    },
    {
     "data": {
      "image/png": "[encoded data removed]",
      "text/plain": [
       "<matplotlib.figure.Figure at 0x11a70a828>"
      ]
     },
     "metadata": {},
     "output_type": "display_data"
    }
   ],
   "source": [
    "# okay, now for the bar graph, again\n",
    "fav = pd.DataFrame(columns = [a, b])\n",
    "rt = pd.DataFrame(columns = [a, b])\n",
    "fav.set_value('Favorites', a, a_fav_total)\n",
    "rt.set_value('Retweets', a, a_rt_total)\n",
    "fav.set_value('Favorites', b, b_fav_total)\n",
    "rt.set_value('Retweets', b, b_rt_total)\n",
    "\n",
    "fav.plot.bar(figsize=(4,4))\n",
    "plt.show()\n",
    "rt.plot.bar(figsize=(4,4))\n",
    "plt.show()"
   ]
  },
  {
   "cell_type": "code",
   "execution_count": 21,
   "metadata": {},
   "outputs": [
    {
     "data": {
      "text/plain": [
       "43.67541766109785"
      ]
     },
     "execution_count": 21,
     "metadata": {},
     "output_type": "execute_result"
    },
    {
     "data": {
      "text/plain": [
       "56.324582338902154"
      ]
     },
     "execution_count": 21,
     "metadata": {},
     "output_type": "execute_result"
    },
    {
     "data": {
      "text/plain": [
       "61.548442906574394"
      ]
     },
     "execution_count": 21,
     "metadata": {},
     "output_type": "execute_result"
    },
    {
     "data": {
      "text/plain": [
       "38.451557093425606"
      ]
     },
     "execution_count": 21,
     "metadata": {},
     "output_type": "execute_result"
    },
    {
     "data": {
      "text/plain": [
       "([<matplotlib.patches.Wedge at 0x11a783c50>,\n",
       "  <matplotlib.patches.Wedge at 0x11a99b5c0>],\n",
       " [<matplotlib.text.Text at 0x11a991a90>,\n",
       "  <matplotlib.text.Text at 0x11a9a3390>],\n",
       " [<matplotlib.text.Text at 0x11a99b048>,\n",
       "  <matplotlib.text.Text at 0x11a9a3908>])"
      ]
     },
     "execution_count": 21,
     "metadata": {},
     "output_type": "execute_result"
    },
    {
     "data": {
      "text/plain": [
       "(-1.2306095006859297,\n",
       " 1.1162241883841064,\n",
       " -1.1069158865461863,\n",
       " 1.1210080470849155)"
      ]
     },
     "execution_count": 21,
     "metadata": {},
     "output_type": "execute_result"
    },
    {
     "data": {
      "image/png": "[encoded data removed]",
      "text/plain": [
       "<matplotlib.figure.Figure at 0x11a783c88>"
      ]
     },
     "metadata": {},
     "output_type": "display_data"
    },
    {
     "data": {
      "text/plain": [
       "([<matplotlib.patches.Wedge at 0x11a8f9320>,\n",
       "  <matplotlib.patches.Wedge at 0x11a9e32e8>],\n",
       " [<matplotlib.text.Text at 0x11a9da7b8>,\n",
       "  <matplotlib.text.Text at 0x11a9e90b8>],\n",
       " [<matplotlib.text.Text at 0x11a9dad30>,\n",
       "  <matplotlib.text.Text at 0x11a9e9630>])"
      ]
     },
     "execution_count": 21,
     "metadata": {},
     "output_type": "execute_result"
    },
    {
     "data": {
      "text/plain": [
       "(-1.2119670953716286,\n",
       " 1.125767289512938,\n",
       " -1.1474795516327836,\n",
       " 1.1022609310301326)"
      ]
     },
     "execution_count": 21,
     "metadata": {},
     "output_type": "execute_result"
    },
    {
     "data": {
      "image/png": "[encoded data removed]",
      "text/plain": [
       "<matplotlib.figure.Figure at 0x11a8f92b0>"
      ]
     },
     "metadata": {},
     "output_type": "display_data"
    }
   ],
   "source": [
    "#figuring out percents\n",
    "ab_fav_sum = a_fav_total + b_fav_total\n",
    "ab_rt_sum = a_rt_total + b_rt_total\n",
    "\n",
    "a_fav_per = (a_fav_total/ab_fav_sum)*100\n",
    "a_fav_per\n",
    "b_fav_per = (b_fav_total/ab_fav_sum)*100\n",
    "b_fav_per\n",
    "\n",
    "a_rt_per = (a_rt_total/ab_rt_sum)*100\n",
    "a_rt_per\n",
    "b_rt_per = (b_rt_total/ab_rt_sum)*100\n",
    "b_rt_per\n",
    "\n",
    "#pie charts\n",
    "\n",
    "# Pie chart, where the slices will be ordered and plotted counter-clockwise:\n",
    "labels = [a,b]\n",
    "sizes = [a_fav_per, b_fav_per]\n",
    "explode = (0.1, 0)\n",
    "\n",
    "fig1, ax1 = plt.subplots()\n",
    "ax1.pie(sizes, explode=explode, labels=labels, autopct='%1.1f%%',\n",
    "        shadow=True, startangle=90)\n",
    "ax1.axis('equal')  # Equal aspect ratio ensures that pie is drawn as a circle.\n",
    "\n",
    "plt.show()\n",
    "\n",
    "labels = [a,b]\n",
    "sizes = [a_rt_per, b_rt_per]\n",
    "explode = (0.1, 0)\n",
    "\n",
    "fig1, ax1 = plt.subplots()\n",
    "ax1.pie(sizes, explode=explode, labels=labels, autopct='%1.1f%%',\n",
    "        shadow=True, startangle=90)\n",
    "ax1.axis('equal')  # Equal aspect ratio ensures that pie is drawn as a circle.\n",
    "\n",
    "plt.show()\n",
    "\n",
    "#Favrites and then RT"
   ]
  },
  {
   "cell_type": "code",
   "execution_count": null,
   "metadata": {
    "collapsed": true
   },
   "outputs": [],
   "source": []
  }
 ],
 "metadata": {
  "kernelspec": {
   "display_name": "Python 3",
   "language": "python",
   "name": "python3"
  },
  "language_info": {
   "codemirror_mode": {
    "name": "ipython",
    "version": 3
   },
   "file_extension": ".py",
   "mimetype": "text/x-python",
   "name": "python",
   "nbconvert_exporter": "python",
   "pygments_lexer": "ipython3",
   "version": "3.6.1"
  }
 },
 "nbformat": 4,
 "nbformat_minor": 2
}
