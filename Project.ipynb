{
 "cells": [
  {
   "cell_type": "markdown",
   "metadata": {},
   "source": [
    "# Let's Get That Data!"
   ]
  },
  {
   "cell_type": "code",
   "execution_count": 12,
   "metadata": {
    "collapsed": true
   },
   "outputs": [],
   "source": [
    "#First, The Imports\n",
    "import tweepy\n",
    "import pandas as pd\n",
    "import matplotlib.pyplot as plt\n",
    "from pprint import pprint"
   ]
  },
  {
   "cell_type": "code",
   "execution_count": 28,
   "metadata": {
    "collapsed": true
   },
   "outputs": [],
   "source": [
    "# the key variables\n",
    "consumerKey = \"XXXXXXXXXXX\"\n",
    "consumerSecret =\"XXXXXXXXXXX\""
   ]
  },
  {
   "cell_type": "code",
   "execution_count": 29,
   "metadata": {
    "collapsed": true
   },
   "outputs": [],
   "source": [
    "#authentication\n",
    "auth = tweepy.OAuthHandler(consumerKey, consumerSecret)\n",
    "\n",
    "#connecting to Twitter API\n",
    "api = tweepy.API(auth)"
   ]
  },
  {
   "cell_type": "code",
   "execution_count": 42,
   "metadata": {},
   "outputs": [],
   "source": [
    "#getting cat and dog search results\n",
    "#NOTE: The dog neologisms I will compare: doggo and doge\n",
    "#NOTE: The cat neologisms I will compare: kitteh and toebeans\n",
    "rDog = api.search(q='%23dog')\n",
    "rDoggo = api.search(q='%23doggo')\n",
    "rDoge = api.search(q='%23doge')\n",
    "rCat = api.search(q='%23cat')\n",
    "rToeBeans = api.search(q='%23toebeans')\n",
    "rKitteh = api.search(q='%23kitteh')"
   ]
  },
  {
   "cell_type": "code",
   "execution_count": null,
   "metadata": {},
   "outputs": [],
   "source": [
    "#Get the first 1000 items based on the search query\n",
    "for tweet in tweepy.Cursor(api.search, q='%23dog').items(1000):\n",
    "    rDog.append(tweet)\n",
    "for tweet in tweepy.Cursor(api.search, q='%23doggo').items(1000):\n",
    "    rDoggo.append(tweet)\n",
    "for tweet in tweepy.Cursor(api.search, q='%23doge').items(1000):\n",
    "    rDoge.append(tweet)\n",
    "for tweet in tweepy.Cursor(api.search, q='%23cat').items(1000):\n",
    "    rCat.append(tweet)\n",
    "for tweet in tweepy.Cursor(api.search, q='%23toebeans').items(1000):\n",
    "    rToeBeans.append(tweet)\n",
    "for tweet in tweepy.Cursor(api.search, q='%23kitteh').items(1000):\n",
    "    rKitteh.append(tweet)\n",
    "\n",
    "# Verify the number of items returned\n",
    "len(rDoggo)"
   ]
  },
  {
   "cell_type": "code",
   "execution_count": null,
   "metadata": {
    "collapsed": true
   },
   "outputs": [],
   "source": []
  }
 ],
 "metadata": {
  "kernelspec": {
   "display_name": "Python 3",
   "language": "python",
   "name": "python3"
  },
  "language_info": {
   "codemirror_mode": {
    "name": "ipython",
    "version": 3
   },
   "file_extension": ".py",
   "mimetype": "text/x-python",
   "name": "python",
   "nbconvert_exporter": "python",
   "pygments_lexer": "ipython3",
   "version": "3.6.1"
  }
 },
 "nbformat": 4,
 "nbformat_minor": 2
}
