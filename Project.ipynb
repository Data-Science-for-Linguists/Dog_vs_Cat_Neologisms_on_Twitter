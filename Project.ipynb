{
 "cells": [
  {
   "cell_type": "markdown",
   "metadata": {},
   "source": [
    "# Let's Get That Data!"
   ]
  },
  {
   "cell_type": "code",
   "execution_count": 1,
   "metadata": {
    "collapsed": true
   },
   "outputs": [],
   "source": [
    "#First, The Imports\n",
    "import tweepy\n",
    "import pandas as pd\n",
    "import matplotlib.pyplot as plt\n",
    "from pprint import pprint\n",
    "\n",
    "# Every returned Out[] is displayed, not just the last one. (Thanks NaRae!)\n",
    "from IPython.core.interactiveshell import InteractiveShell\n",
    "InteractiveShell.ast_node_interactivity = \"all\""
   ]
  },
  {
   "cell_type": "code",
   "execution_count": 2,
   "metadata": {
    "collapsed": true
   },
   "outputs": [],
   "source": [
    "# the key variables\n",
    "consumerKey = \"XXXXXXXX\"\n",
    "consumerSecret =\"XXXXXXX\""
   ]
  },
  {
   "cell_type": "code",
   "execution_count": 3,
   "metadata": {
    "collapsed": true
   },
   "outputs": [],
   "source": [
    "#authentication\n",
    "auth = tweepy.OAuthHandler(consumerKey, consumerSecret)\n",
    "\n",
    "#connecting to Twitter API\n",
    "api = tweepy.API(auth)"
   ]
  },
  {
   "cell_type": "code",
   "execution_count": 4,
   "metadata": {
    "collapsed": true
   },
   "outputs": [],
   "source": [
    "# this is helpful for later but I need to read in the .csv files so I can append them later\n",
    "#tcat = pd.read_csv(r'cat_tweets.csv')\n",
    "#tdog = pd.read_csv(r'dog_tweets.csv')\n",
    "filepath = \"/Users/Margaret/Documents/Data_Science/Project_Margaret/\""
   ]
  },
  {
   "cell_type": "code",
   "execution_count": 5,
   "metadata": {
    "collapsed": true
   },
   "outputs": [],
   "source": [
    "#getting cat and dog search results\n",
    "#NOTE: The dog neologisms I will compare: doggo and doge\n",
    "#NOTE: The cat neologisms I will compare: kitteh and toebeans\n",
    "rDog = api.search(q='%23dog')\n",
    "rDogs = api.search(q='%23dogs')\n",
    "rDoggo = api.search(q='%23doggo')\n",
    "rDoge = api.search(q='%23doge')\n",
    "rCat = api.search(q='%23cat')\n",
    "rCats = api.search(q='%23cats')\n",
    "rToeBeans = api.search(q='%23toebeans')\n",
    "rKitteh = api.search(q='%23kitteh')"
   ]
  },
  {
   "cell_type": "code",
   "execution_count": 6,
   "metadata": {
    "collapsed": true
   },
   "outputs": [],
   "source": [
    "#Get the first 1000 items based on the search query\n",
    "for tweet in tweepy.Cursor(api.search, q='%23dog').items(1000):\n",
    "    rDog.append(tweet)\n",
    "for tweet in tweepy.Cursor(api.search, q='%23doggo').items(1000):\n",
    "    rDoggo.append(tweet)\n",
    "for tweet in tweepy.Cursor(api.search, q='%23doge').items(1000):\n",
    "    rDoge.append(tweet)\n",
    "for tweet in tweepy.Cursor(api.search, q='%23cat').items(1000):\n",
    "    rCat.append(tweet)\n",
    "for tweet in tweepy.Cursor(api.search, q='%23toebeans').items(1000):\n",
    "    rToeBeans.append(tweet)\n",
    "for tweet in tweepy.Cursor(api.search, q='%23kitteh').items(1000):\n",
    "    rKitteh.append(tweet)"
   ]
  },
  {
   "cell_type": "code",
   "execution_count": 7,
   "metadata": {
    "collapsed": true
   },
   "outputs": [],
   "source": [
    "#Adding in the plurals\n",
    "for tweet in tweepy.Cursor(api.search, q='%23dogs').items(1000):\n",
    "    rDogs.append(tweet)\n",
    "for tweet in tweepy.Cursor(api.search, q='%23cats').items(1000):\n",
    "    rCats.append(tweet)"
   ]
  },
  {
   "cell_type": "code",
   "execution_count": 8,
   "metadata": {},
   "outputs": [
    {
     "data": {
      "text/plain": [
       "1015"
      ]
     },
     "execution_count": 8,
     "metadata": {},
     "output_type": "execute_result"
    },
    {
     "data": {
      "text/plain": [
       "1015"
      ]
     },
     "execution_count": 8,
     "metadata": {},
     "output_type": "execute_result"
    },
    {
     "data": {
      "text/plain": [
       "1015"
      ]
     },
     "execution_count": 8,
     "metadata": {},
     "output_type": "execute_result"
    },
    {
     "data": {
      "text/plain": [
       "1015"
      ]
     },
     "execution_count": 8,
     "metadata": {},
     "output_type": "execute_result"
    },
    {
     "data": {
      "text/plain": [
       "1015"
      ]
     },
     "execution_count": 8,
     "metadata": {},
     "output_type": "execute_result"
    },
    {
     "data": {
      "text/plain": [
       "1015"
      ]
     },
     "execution_count": 8,
     "metadata": {},
     "output_type": "execute_result"
    },
    {
     "data": {
      "text/plain": [
       "73"
      ]
     },
     "execution_count": 8,
     "metadata": {},
     "output_type": "execute_result"
    },
    {
     "data": {
      "text/plain": [
       "160"
      ]
     },
     "execution_count": 8,
     "metadata": {},
     "output_type": "execute_result"
    }
   ],
   "source": [
    "#Verify the number of items returned\n",
    "len(rDog)\n",
    "len(rDogs)\n",
    "len(rDoge)\n",
    "len(rDoggo)\n",
    "len(rCat)\n",
    "len(rCats)\n",
    "len(rToeBeans)\n",
    "len(rKitteh)"
   ]
  },
  {
   "cell_type": "markdown",
   "metadata": {
    "collapsed": true
   },
   "source": [
    "### Even already it is interesting to see that ToeBeans and Kitteh are already returning a lot less results. This likely means that they are fairly unpopular terms (at least to tag your tweet with) which is interesting.  \n",
    "#### This also means that if this trend continues (which it has been up to this point), it is already clear that Dogs get more posts than cats.\n",
    "  \n",
    "### Below is an example of a tweet as well as some additional information about it. This is the only tweet I will show, in attempts to not go against the data-sharing agreement. However, this is what the data I'm working with looks like."
   ]
  },
  {
   "cell_type": "code",
   "execution_count": 10,
   "metadata": {},
   "outputs": [
    {
     "name": "stdout",
     "output_type": "stream",
     "text": [
      "RT @collectivewhim: How COOL is this Robot #dog?! If your #kid is into #tech they will♥programming their own #pet! #Christmas #Toys #Coding…\n"
     ]
    },
    {
     "data": {
      "text/plain": [
       "'en'"
      ]
     },
     "execution_count": 10,
     "metadata": {},
     "output_type": "execute_result"
    },
    {
     "data": {
      "text/plain": [
       "'MoneySvgParent'"
      ]
     },
     "execution_count": 10,
     "metadata": {},
     "output_type": "execute_result"
    },
    {
     "data": {
      "text/plain": [
       "'Mom. Blogger. Writer. Social Media Influencer. Speaker. Featuring Family Travel. Food. Twitter Parties.'"
      ]
     },
     "execution_count": 10,
     "metadata": {},
     "output_type": "execute_result"
    },
    {
     "data": {
      "text/plain": [
       "datetime.datetime(2017, 11, 2, 16, 25, 41)"
      ]
     },
     "execution_count": 10,
     "metadata": {},
     "output_type": "execute_result"
    },
    {
     "data": {
      "text/plain": [
       "926123155495714817"
      ]
     },
     "execution_count": 10,
     "metadata": {},
     "output_type": "execute_result"
    },
    {
     "data": {
      "text/plain": [
       "0"
      ]
     },
     "execution_count": 10,
     "metadata": {},
     "output_type": "execute_result"
    }
   ],
   "source": [
    "#this is an example of a tweet\n",
    "tweet1 = rDog[1] #get the data of the first tweet.\n",
    "\n",
    "#then, print tweet. \n",
    "print(tweet1.text)\n",
    "\n",
    "#other additional info about the tweet for reference\n",
    "tweet1.lang                    #the tweet is in English\n",
    "tweet1.user.screen_name        #this is the username\n",
    "tweet1.user.description        #self description of user by user posted on profile\n",
    "tweet1.created_at              #date and time tweet was created\n",
    "tweet1.id                      #Tweet ID #\n",
    "tweet1.favorite_count          #how many likes the tweet received (in this case 0)"
   ]
  },
  {
   "cell_type": "code",
   "execution_count": 9,
   "metadata": {
    "collapsed": true
   },
   "outputs": [],
   "source": [
    "# this is a function found here: http://blog.impiyush.com/2015/03/data-analysis-using-twitter-api-and.html\n",
    "# I am using this to clean my data into a dataframe, it has been altered slightly (mostly deletion) for my project.\n",
    "def toDataFrame(tweets):\n",
    "\n",
    "    DataSet = pd.DataFrame()\n",
    "\n",
    "    DataSet['tweetID'] = [tweet.id for tweet in tweets]\n",
    "    DataSet['tweetRetweetCt'] = [tweet.retweet_count for tweet \n",
    "    in tweets]\n",
    "    DataSet['tweetFavoriteCt'] = [tweet.favorite_count for tweet \n",
    "    in tweets]\n",
    "    DataSet['tweetSource'] = [tweet.source for tweet in tweets]\n",
    "    DataSet['tweetCreated'] = [tweet.created_at for tweet in tweets]\n",
    "\n",
    "\n",
    "    DataSet['userID'] = [tweet.user.id for tweet in tweets]\n",
    "    DataSet['userScreen'] = [tweet.user.screen_name for tweet \n",
    "    in tweets]\n",
    "    DataSet['userName'] = [tweet.user.name for tweet in tweets]\n",
    "    DataSet['userLocation'] = [tweet.user.location for tweet in tweets]\n",
    "    DataSet['userTimezone'] = [tweet.user.time_zone for tweet \n",
    "    in tweets]\n",
    "\n",
    "    return DataSet"
   ]
  },
  {
   "cell_type": "code",
   "execution_count": 10,
   "metadata": {
    "collapsed": true
   },
   "outputs": [],
   "source": [
    "#Do this funciton on the tweets, then connect the dataframes\n",
    "dog_df = toDataFrame(rDog)\n",
    "dogs_df = toDataFrame(rDogs)\n",
    "doge_df = toDataFrame(rDoge)\n",
    "doggo_df = toDataFrame(rDoggo)\n",
    "cat_df = toDataFrame(rCat)\n",
    "cats_df = toDataFrame(rCats)\n",
    "toebeans_df = toDataFrame(rToeBeans)\n",
    "kitteh_df = toDataFrame(rKitteh)\n",
    "\n",
    "#Adding a column to say which hashtag it came from\n",
    "dog_df['Hashtag'] = \"dog\"\n",
    "dogs_df['Hashtag'] = \"dogs\" \n",
    "doge_df['Hashtag'] = \"doge\"\n",
    "doggo_df['Hashtag'] = \"doggo\"\n",
    "cat_df['Hashtag'] = \"cat\"\n",
    "cats_df['Hashtag'] = \"cats\"\n",
    "toebeans_df['Hashtag'] = \"toebeans\"\n",
    "kitteh_df['Hashtag'] = \"kitteh\"\n",
    "\n",
    "# now to combine into 2 larger ones, overall cat related, overall dog related\n",
    "tcat_df = pd.concat([cat_df, cats_df, toebeans_df, kitteh_df])\n",
    "tdog_df = pd.concat([dog_df, dogs_df, doge_df, doggo_df])\n",
    "\n",
    "# NOTE: Still need to figure out a good way to get rid of possible redundant tweets? \n",
    "#or maybe not? \n",
    "#I could potentially use that as a statistic? - which could be interesting. \n",
    "#either way, for now I'm going to leave it and make that decision a little later. "
   ]
  },
  {
   "cell_type": "code",
   "execution_count": null,
   "metadata": {
    "collapsed": true
   },
   "outputs": [],
   "source": [
    "#Method to get the tweets later\n",
    "def lookup_tweets(tweet_IDs, api):\n",
    "    full_tweets = []\n",
    "    tweet_count = len(tweet_IDs)\n",
    "    try:\n",
    "        for i in range((tweet_count / 100) + 1):\n",
    "            # Catch the last group if it is less than 100 tweets\n",
    "            end_loc = min((i + 1) * 100, tweet_count)\n",
    "            full_tweets.extend(\n",
    "                api.statuses_lookup(id=tweet_IDs[i * 100:end_loc])\n",
    "            )\n",
    "        return full_tweets\n",
    "    except tweepy.TweepError:\n",
    "        print 'Something went wrong, quitting...'\n",
    "\n",
    "api = tweepy.API(auth, wait_on_rate_limit=True, wait_on_rate_limit_notify=True)\n",
    "\n",
    "# do whatever it is to get por.TweetID - the list of all IDs to look up (which is my dataframe)\n",
    "\n",
    "results = lookup_tweets(por.TweetID, api)\n",
    "\n",
    "for tweet in results:\n",
    "    if tweet:\n",
    "        print tweet.text"
   ]
  },
  {
   "cell_type": "code",
   "execution_count": 11,
   "metadata": {
    "collapsed": true
   },
   "outputs": [],
   "source": [
    "#read in old csv files\n",
    "tcat = pd.read_csv(filepath + 'cat_tweets.csv')\n",
    "tdog = pd.read_csv(filepath + 'dog_tweets.csv')"
   ]
  },
  {
   "cell_type": "code",
   "execution_count": 12,
   "metadata": {
    "collapsed": true
   },
   "outputs": [],
   "source": [
    "#append the old and new csv\n",
    "tcat_df = tcat_df.append(tcat)\n",
    "tdog_df = tdog_df.append(tdog)"
   ]
  },
  {
   "cell_type": "code",
   "execution_count": 13,
   "metadata": {
    "collapsed": true
   },
   "outputs": [],
   "source": [
    "# Write out the DF as a new CSV file\n",
    "tcat_df.to_csv('cat_tweets.csv')\n",
    "tdog_df.to_csv('dog_tweets.csv')"
   ]
  },
  {
   "cell_type": "code",
   "execution_count": 14,
   "metadata": {},
   "outputs": [
    {
     "data": {
      "text/plain": [
       "126406"
      ]
     },
     "execution_count": 14,
     "metadata": {},
     "output_type": "execute_result"
    },
    {
     "data": {
      "text/plain": [
       "227360"
      ]
     },
     "execution_count": 14,
     "metadata": {},
     "output_type": "execute_result"
    }
   ],
   "source": [
    "tcat_df.size\n",
    "tdog_df.size"
   ]
  },
  {
   "cell_type": "markdown",
   "metadata": {},
   "source": [
    "## Let's attempt some analysis.  \n",
    "- again not completely sure how much I can share, so for now I'm only going to use the most recently gathered data. (The only rule is \"as much as necissary but no more\" and I don't really know what can be classified as \"necessary\")."
   ]
  },
  {
   "cell_type": "code",
   "execution_count": 20,
   "metadata": {},
   "outputs": [
    {
     "data": {
      "text/plain": [
       "0.33946173441134125"
      ]
     },
     "execution_count": 20,
     "metadata": {},
     "output_type": "execute_result"
    },
    {
     "data": {
      "text/plain": [
       "915.6320744268468"
      ]
     },
     "execution_count": 20,
     "metadata": {},
     "output_type": "execute_result"
    },
    {
     "data": {
      "text/plain": [
       "0.715948275862069"
      ]
     },
     "execution_count": 20,
     "metadata": {},
     "output_type": "execute_result"
    },
    {
     "data": {
      "text/plain": [
       "26.108374384236452"
      ]
     },
     "execution_count": 20,
     "metadata": {},
     "output_type": "execute_result"
    }
   ],
   "source": [
    "# Trying a favorite vs. retweet comparison\n",
    "cat_fav = tcat_df['tweetFavoriteCt'].mean()\n",
    "cat_fav\n",
    "cat_rt = tcat_df['tweetRetweetCt'].mean()\n",
    "cat_rt\n",
    "dog_fav = tdog_df['tweetFavoriteCt'].mean()\n",
    "dog_fav\n",
    "dog_rt = tdog_df['tweetRetweetCt'].mean()\n",
    "dog_rt"
   ]
  },
  {
   "cell_type": "code",
   "execution_count": 28,
   "metadata": {},
   "outputs": [
    {
     "data": {
      "text/html": [
       "<div>\n",
       "<style>\n",
       "    .dataframe thead tr:only-child th {\n",
       "        text-align: right;\n",
       "    }\n",
       "\n",
       "    .dataframe thead th {\n",
       "        text-align: left;\n",
       "    }\n",
       "\n",
       "    .dataframe tbody tr th {\n",
       "        vertical-align: top;\n",
       "    }\n",
       "</style>\n",
       "<table border=\"1\" class=\"dataframe\">\n",
       "  <thead>\n",
       "    <tr style=\"text-align: right;\">\n",
       "      <th></th>\n",
       "      <th>CATS</th>\n",
       "      <th>DOGS</th>\n",
       "    </tr>\n",
       "  </thead>\n",
       "  <tbody>\n",
       "    <tr>\n",
       "      <th>Favorites</th>\n",
       "      <td>0.339462</td>\n",
       "      <td>NaN</td>\n",
       "    </tr>\n",
       "  </tbody>\n",
       "</table>\n",
       "</div>"
      ],
      "text/plain": [
       "               CATS DOGS\n",
       "Favorites  0.339462  NaN"
      ]
     },
     "execution_count": 28,
     "metadata": {},
     "output_type": "execute_result"
    },
    {
     "data": {
      "text/html": [
       "<div>\n",
       "<style>\n",
       "    .dataframe thead tr:only-child th {\n",
       "        text-align: right;\n",
       "    }\n",
       "\n",
       "    .dataframe thead th {\n",
       "        text-align: left;\n",
       "    }\n",
       "\n",
       "    .dataframe tbody tr th {\n",
       "        vertical-align: top;\n",
       "    }\n",
       "</style>\n",
       "<table border=\"1\" class=\"dataframe\">\n",
       "  <thead>\n",
       "    <tr style=\"text-align: right;\">\n",
       "      <th></th>\n",
       "      <th>CATS</th>\n",
       "      <th>DOGS</th>\n",
       "    </tr>\n",
       "  </thead>\n",
       "  <tbody>\n",
       "    <tr>\n",
       "      <th>Favorites</th>\n",
       "      <td>0.339462</td>\n",
       "      <td>NaN</td>\n",
       "    </tr>\n",
       "    <tr>\n",
       "      <th>Retweets</th>\n",
       "      <td>915.632</td>\n",
       "      <td>NaN</td>\n",
       "    </tr>\n",
       "  </tbody>\n",
       "</table>\n",
       "</div>"
      ],
      "text/plain": [
       "               CATS DOGS\n",
       "Favorites  0.339462  NaN\n",
       "Retweets    915.632  NaN"
      ]
     },
     "execution_count": 28,
     "metadata": {},
     "output_type": "execute_result"
    },
    {
     "data": {
      "text/html": [
       "<div>\n",
       "<style>\n",
       "    .dataframe thead tr:only-child th {\n",
       "        text-align: right;\n",
       "    }\n",
       "\n",
       "    .dataframe thead th {\n",
       "        text-align: left;\n",
       "    }\n",
       "\n",
       "    .dataframe tbody tr th {\n",
       "        vertical-align: top;\n",
       "    }\n",
       "</style>\n",
       "<table border=\"1\" class=\"dataframe\">\n",
       "  <thead>\n",
       "    <tr style=\"text-align: right;\">\n",
       "      <th></th>\n",
       "      <th>CATS</th>\n",
       "      <th>DOGS</th>\n",
       "    </tr>\n",
       "  </thead>\n",
       "  <tbody>\n",
       "    <tr>\n",
       "      <th>Favorites</th>\n",
       "      <td>0.339462</td>\n",
       "      <td>0.715948</td>\n",
       "    </tr>\n",
       "    <tr>\n",
       "      <th>Retweets</th>\n",
       "      <td>915.632</td>\n",
       "      <td>NaN</td>\n",
       "    </tr>\n",
       "  </tbody>\n",
       "</table>\n",
       "</div>"
      ],
      "text/plain": [
       "               CATS      DOGS\n",
       "Favorites  0.339462  0.715948\n",
       "Retweets    915.632       NaN"
      ]
     },
     "execution_count": 28,
     "metadata": {},
     "output_type": "execute_result"
    },
    {
     "data": {
      "text/html": [
       "<div>\n",
       "<style>\n",
       "    .dataframe thead tr:only-child th {\n",
       "        text-align: right;\n",
       "    }\n",
       "\n",
       "    .dataframe thead th {\n",
       "        text-align: left;\n",
       "    }\n",
       "\n",
       "    .dataframe tbody tr th {\n",
       "        vertical-align: top;\n",
       "    }\n",
       "</style>\n",
       "<table border=\"1\" class=\"dataframe\">\n",
       "  <thead>\n",
       "    <tr style=\"text-align: right;\">\n",
       "      <th></th>\n",
       "      <th>CATS</th>\n",
       "      <th>DOGS</th>\n",
       "    </tr>\n",
       "  </thead>\n",
       "  <tbody>\n",
       "    <tr>\n",
       "      <th>Favorites</th>\n",
       "      <td>0.339462</td>\n",
       "      <td>0.715948</td>\n",
       "    </tr>\n",
       "    <tr>\n",
       "      <th>Retweets</th>\n",
       "      <td>915.632</td>\n",
       "      <td>26.1084</td>\n",
       "    </tr>\n",
       "  </tbody>\n",
       "</table>\n",
       "</div>"
      ],
      "text/plain": [
       "               CATS      DOGS\n",
       "Favorites  0.339462  0.715948\n",
       "Retweets    915.632   26.1084"
      ]
     },
     "execution_count": 28,
     "metadata": {},
     "output_type": "execute_result"
    },
    {
     "data": {
      "text/plain": [
       "<matplotlib.axes._subplots.AxesSubplot at 0x11b77ad68>"
      ]
     },
     "execution_count": 28,
     "metadata": {},
     "output_type": "execute_result"
    },
    {
     "data": {
      "image/png": "[encoded data removed]",
      "text/plain": [
       "<matplotlib.figure.Figure at 0x11b746780>"
      ]
     },
     "metadata": {},
     "output_type": "display_data"
    }
   ],
   "source": [
    "# okay, now for the bar graph\n",
    "grouped = pd.DataFrame(columns = ['CATS', 'DOGS'])\n",
    "grouped.set_value('Favorites', 'CATS', cat_fav)\n",
    "grouped.set_value('Retweets', 'CATS', cat_rt)\n",
    "grouped.set_value('Favorites', 'DOGS', dog_fav)\n",
    "grouped.set_value('Retweets', 'DOGS', dog_rt)\n",
    "\n",
    "grouped.plot.bar(figsize=(4,10))\n",
    "plt.show()"
   ]
  },
  {
   "cell_type": "markdown",
   "metadata": {},
   "source": [
    "### The number of favorites vs. the number of retweets, is so different you have to make the height 50 before you even see anything for the favorites, so why not take a closer look with two graphs?.. but this time using total sums instead of means..."
   ]
  },
  {
   "cell_type": "code",
   "execution_count": 22,
   "metadata": {
    "collapsed": true
   },
   "outputs": [],
   "source": [
    "#let's take a closer look at that, shall we?\n",
    "#getting sums\n",
    "cat_fav_total = tcat_df['tweetFavoriteCt'].sum()\n",
    "cat_rt_total = tcat_df['tweetRetweetCt'].sum()\n",
    "\n",
    "dog_fav_total = tdog_df['tweetFavoriteCt'].sum()\n",
    "dog_rt_total = tdog_df['tweetRetweetCt'].sum()"
   ]
  },
  {
   "cell_type": "code",
   "execution_count": 23,
   "metadata": {},
   "outputs": [
    {
     "data": {
      "text/html": [
       "<div>\n",
       "<style>\n",
       "    .dataframe thead tr:only-child th {\n",
       "        text-align: right;\n",
       "    }\n",
       "\n",
       "    .dataframe thead th {\n",
       "        text-align: left;\n",
       "    }\n",
       "\n",
       "    .dataframe tbody tr th {\n",
       "        vertical-align: top;\n",
       "    }\n",
       "</style>\n",
       "<table border=\"1\" class=\"dataframe\">\n",
       "  <thead>\n",
       "    <tr style=\"text-align: right;\">\n",
       "      <th></th>\n",
       "      <th>CATS</th>\n",
       "      <th>DOGS</th>\n",
       "    </tr>\n",
       "  </thead>\n",
       "  <tbody>\n",
       "    <tr>\n",
       "      <th>Favorites</th>\n",
       "      <td>3065</td>\n",
       "      <td>NaN</td>\n",
       "    </tr>\n",
       "  </tbody>\n",
       "</table>\n",
       "</div>"
      ],
      "text/plain": [
       "           CATS DOGS\n",
       "Favorites  3065  NaN"
      ]
     },
     "execution_count": 23,
     "metadata": {},
     "output_type": "execute_result"
    },
    {
     "data": {
      "text/html": [
       "<div>\n",
       "<style>\n",
       "    .dataframe thead tr:only-child th {\n",
       "        text-align: right;\n",
       "    }\n",
       "\n",
       "    .dataframe thead th {\n",
       "        text-align: left;\n",
       "    }\n",
       "\n",
       "    .dataframe tbody tr th {\n",
       "        vertical-align: top;\n",
       "    }\n",
       "</style>\n",
       "<table border=\"1\" class=\"dataframe\">\n",
       "  <thead>\n",
       "    <tr style=\"text-align: right;\">\n",
       "      <th></th>\n",
       "      <th>CATS</th>\n",
       "      <th>DOGS</th>\n",
       "    </tr>\n",
       "  </thead>\n",
       "  <tbody>\n",
       "    <tr>\n",
       "      <th>Retweets</th>\n",
       "      <td>8267242</td>\n",
       "      <td>NaN</td>\n",
       "    </tr>\n",
       "  </tbody>\n",
       "</table>\n",
       "</div>"
      ],
      "text/plain": [
       "             CATS DOGS\n",
       "Retweets  8267242  NaN"
      ]
     },
     "execution_count": 23,
     "metadata": {},
     "output_type": "execute_result"
    },
    {
     "data": {
      "text/html": [
       "<div>\n",
       "<style>\n",
       "    .dataframe thead tr:only-child th {\n",
       "        text-align: right;\n",
       "    }\n",
       "\n",
       "    .dataframe thead th {\n",
       "        text-align: left;\n",
       "    }\n",
       "\n",
       "    .dataframe tbody tr th {\n",
       "        vertical-align: top;\n",
       "    }\n",
       "</style>\n",
       "<table border=\"1\" class=\"dataframe\">\n",
       "  <thead>\n",
       "    <tr style=\"text-align: right;\">\n",
       "      <th></th>\n",
       "      <th>CATS</th>\n",
       "      <th>DOGS</th>\n",
       "    </tr>\n",
       "  </thead>\n",
       "  <tbody>\n",
       "    <tr>\n",
       "      <th>Favorites</th>\n",
       "      <td>3065</td>\n",
       "      <td>11627</td>\n",
       "    </tr>\n",
       "  </tbody>\n",
       "</table>\n",
       "</div>"
      ],
      "text/plain": [
       "           CATS   DOGS\n",
       "Favorites  3065  11627"
      ]
     },
     "execution_count": 23,
     "metadata": {},
     "output_type": "execute_result"
    },
    {
     "data": {
      "text/html": [
       "<div>\n",
       "<style>\n",
       "    .dataframe thead tr:only-child th {\n",
       "        text-align: right;\n",
       "    }\n",
       "\n",
       "    .dataframe thead th {\n",
       "        text-align: left;\n",
       "    }\n",
       "\n",
       "    .dataframe tbody tr th {\n",
       "        vertical-align: top;\n",
       "    }\n",
       "</style>\n",
       "<table border=\"1\" class=\"dataframe\">\n",
       "  <thead>\n",
       "    <tr style=\"text-align: right;\">\n",
       "      <th></th>\n",
       "      <th>CATS</th>\n",
       "      <th>DOGS</th>\n",
       "    </tr>\n",
       "  </thead>\n",
       "  <tbody>\n",
       "    <tr>\n",
       "      <th>Retweets</th>\n",
       "      <td>8267242</td>\n",
       "      <td>424000</td>\n",
       "    </tr>\n",
       "  </tbody>\n",
       "</table>\n",
       "</div>"
      ],
      "text/plain": [
       "             CATS    DOGS\n",
       "Retweets  8267242  424000"
      ]
     },
     "execution_count": 23,
     "metadata": {},
     "output_type": "execute_result"
    },
    {
     "data": {
      "text/plain": [
       "<matplotlib.axes._subplots.AxesSubplot at 0x11af8ed30>"
      ]
     },
     "execution_count": 23,
     "metadata": {},
     "output_type": "execute_result"
    },
    {
     "data": {
      "image/png": "[encoded data removed]",
      "text/plain": [
       "<matplotlib.figure.Figure at 0x11b1fe160>"
      ]
     },
     "metadata": {},
     "output_type": "display_data"
    },
    {
     "data": {
      "text/plain": [
       "<matplotlib.axes._subplots.AxesSubplot at 0x11af4f278>"
      ]
     },
     "execution_count": 23,
     "metadata": {},
     "output_type": "execute_result"
    },
    {
     "data": {
      "image/png": "[encoded data removed]",
      "text/plain": [
       "<matplotlib.figure.Figure at 0x11b155f60>"
      ]
     },
     "metadata": {},
     "output_type": "display_data"
    }
   ],
   "source": [
    "# okay, now for the bar graph, again\n",
    "fav = pd.DataFrame(columns = ['CATS', 'DOGS'])\n",
    "rt = pd.DataFrame(columns = ['CATS', 'DOGS'])\n",
    "fav.set_value('Favorites', 'CATS', cat_fav_total)\n",
    "rt.set_value('Retweets', 'CATS', cat_rt_total)\n",
    "fav.set_value('Favorites', 'DOGS', dog_fav_total)\n",
    "rt.set_value('Retweets', 'DOGS', dog_rt_total)\n",
    "\n",
    "fav.plot.bar(figsize=(4,4))\n",
    "plt.show()\n",
    "rt.plot.bar(figsize=(4,4))\n",
    "plt.show()"
   ]
  },
  {
   "cell_type": "code",
   "execution_count": 33,
   "metadata": {},
   "outputs": [
    {
     "data": {
      "text/plain": [
       "20.861693438606043"
      ]
     },
     "execution_count": 33,
     "metadata": {},
     "output_type": "execute_result"
    },
    {
     "data": {
      "text/plain": [
       "79.13830656139396"
      ]
     },
     "execution_count": 33,
     "metadata": {},
     "output_type": "execute_result"
    },
    {
     "data": {
      "text/plain": [
       "95.12152578423199"
      ]
     },
     "execution_count": 33,
     "metadata": {},
     "output_type": "execute_result"
    },
    {
     "data": {
      "text/plain": [
       "4.878474215768011"
      ]
     },
     "execution_count": 33,
     "metadata": {},
     "output_type": "execute_result"
    },
    {
     "data": {
      "text/plain": [
       "([<matplotlib.patches.Wedge at 0x11c134630>,\n",
       "  <matplotlib.patches.Wedge at 0x11c2c1908>],\n",
       " [<matplotlib.text.Text at 0x11c2b7dd8>,\n",
       "  <matplotlib.text.Text at 0x11c2c86d8>],\n",
       " [<matplotlib.text.Text at 0x11c2c1390>,\n",
       "  <matplotlib.text.Text at 0x11c2c8c50>])"
      ]
     },
     "execution_count": 33,
     "metadata": {},
     "output_type": "execute_result"
    },
    {
     "data": {
      "text/plain": [
       "(-1.1287795697859777,\n",
       " 1.1030602643274017,\n",
       " -1.1070503152331383,\n",
       " 1.183392080918394)"
      ]
     },
     "execution_count": 33,
     "metadata": {},
     "output_type": "execute_result"
    },
    {
     "data": {
      "image/png": "[encoded data removed]",
      "text/plain": [
       "<matplotlib.figure.Figure at 0x11c1346a0>"
      ]
     },
     "metadata": {},
     "output_type": "display_data"
    },
    {
     "data": {
      "text/plain": [
       "([<matplotlib.patches.Wedge at 0x11c22b748>,\n",
       "  <matplotlib.patches.Wedge at 0x11c39e1d0>],\n",
       " [<matplotlib.text.Text at 0x11c3976a0>,\n",
       "  <matplotlib.text.Text at 0x11c39ef60>],\n",
       " [<matplotlib.text.Text at 0x11c397c18>,\n",
       "  <matplotlib.text.Text at 0x11c3a7518>])"
      ]
     },
     "execution_count": 33,
     "metadata": {},
     "output_type": "execute_result"
    },
    {
     "data": {
      "text/plain": [
       "(-1.1226015200986625,\n",
       " 1.0930205503727115,\n",
       " -1.2114783883192941,\n",
       " 1.1053084984418842)"
      ]
     },
     "execution_count": 33,
     "metadata": {},
     "output_type": "execute_result"
    },
    {
     "data": {
      "image/png": "[encoded data removed]",
      "text/plain": [
       "<matplotlib.figure.Figure at 0x11c22b6d8>"
      ]
     },
     "metadata": {},
     "output_type": "display_data"
    }
   ],
   "source": [
    "#figuring out percents\n",
    "cd_fav_sum = cat_fav_total + dog_fav_total\n",
    "cd_rt_sum = cat_rt_total + dog_rt_total\n",
    "\n",
    "cat_fav_per = (cat_fav_total/cd_fav_sum)*100\n",
    "cat_fav_per\n",
    "dog_fav_per = (dog_fav_total/cd_fav_sum)*100\n",
    "dog_fav_per\n",
    "\n",
    "cat_rt_per = (cat_rt_total/cd_rt_sum)*100\n",
    "cat_rt_per\n",
    "dog_rt_per = (dog_rt_total/cd_rt_sum)*100\n",
    "dog_rt_per\n",
    "\n",
    "#pie charts\n",
    "\n",
    "# Pie chart, where the slices will be ordered and plotted counter-clockwise:\n",
    "labels = ['CATS','DOGS']\n",
    "sizes = [cat_fav_per, dog_fav_per]\n",
    "explode = (0.1, 0)\n",
    "\n",
    "fig1, ax1 = plt.subplots()\n",
    "ax1.pie(sizes, explode=explode, labels=labels, autopct='%1.1f%%',\n",
    "        shadow=True, startangle=90)\n",
    "ax1.axis('equal')  # Equal aspect ratio ensures that pie is drawn as a circle.\n",
    "\n",
    "plt.show()\n",
    "\n",
    "labels = ['CATS','DOGS']\n",
    "sizes = [cat_rt_per, dog_rt_per]\n",
    "explode = (0.1, 0)\n",
    "\n",
    "fig1, ax1 = plt.subplots()\n",
    "ax1.pie(sizes, explode=explode, labels=labels, autopct='%1.1f%%',\n",
    "        shadow=True, startangle=90)\n",
    "ax1.axis('equal')  # Equal aspect ratio ensures that pie is drawn as a circle.\n",
    "\n",
    "plt.show()"
   ]
  },
  {
   "cell_type": "markdown",
   "metadata": {},
   "source": [
    "### It loks like dog posts are more likely to be favorites on average than cat posts on Twitter, but cat posts are more likelt to be retweeted? - this is an interesting change \n",
    "### It is also clear that retweeting is much more common than favoriting posts"
   ]
  },
  {
   "cell_type": "markdown",
   "metadata": {},
   "source": [
    "## Let's look at location and find the most popular place for cat posts vs. dog posts"
   ]
  },
  {
   "cell_type": "code",
   "execution_count": 74,
   "metadata": {},
   "outputs": [
    {
     "data": {
      "text/html": [
       "<div>\n",
       "<style>\n",
       "    .dataframe thead tr:only-child th {\n",
       "        text-align: right;\n",
       "    }\n",
       "\n",
       "    .dataframe thead th {\n",
       "        text-align: left;\n",
       "    }\n",
       "\n",
       "    .dataframe tbody tr th {\n",
       "        vertical-align: top;\n",
       "    }\n",
       "</style>\n",
       "<table border=\"1\" class=\"dataframe\">\n",
       "  <thead>\n",
       "    <tr style=\"text-align: right;\">\n",
       "      <th></th>\n",
       "      <th>tweetRetweetCt</th>\n",
       "      <th>tweetFavoriteCt</th>\n",
       "    </tr>\n",
       "    <tr>\n",
       "      <th>userLocation</th>\n",
       "      <th></th>\n",
       "      <th></th>\n",
       "    </tr>\n",
       "  </thead>\n",
       "  <tbody>\n",
       "    <tr>\n",
       "      <th></th>\n",
       "      <td>36.904762</td>\n",
       "      <td>0.219048</td>\n",
       "    </tr>\n",
       "    <tr>\n",
       "      <th>UK</th>\n",
       "      <td>1.000000</td>\n",
       "      <td>0.000000</td>\n",
       "    </tr>\n",
       "    <tr>\n",
       "      <th>#Ohio</th>\n",
       "      <td>31.833333</td>\n",
       "      <td>0.000000</td>\n",
       "    </tr>\n",
       "    <tr>\n",
       "      <th>#OtabaeDay</th>\n",
       "      <td>3.000000</td>\n",
       "      <td>0.000000</td>\n",
       "    </tr>\n",
       "    <tr>\n",
       "      <th>(In Vancouver)</th>\n",
       "      <td>2.000000</td>\n",
       "      <td>1.000000</td>\n",
       "    </tr>\n",
       "  </tbody>\n",
       "</table>\n",
       "</div>"
      ],
      "text/plain": [
       "                tweetRetweetCt  tweetFavoriteCt\n",
       "userLocation                                   \n",
       "                     36.904762         0.219048\n",
       " UK                   1.000000         0.000000\n",
       "#Ohio                31.833333         0.000000\n",
       "#OtabaeDay            3.000000         0.000000\n",
       "(In Vancouver)        2.000000         1.000000"
      ]
     },
     "execution_count": 74,
     "metadata": {},
     "output_type": "execute_result"
    }
   ],
   "source": [
    "#Get rid of none values for the timezone\n",
    "timecat_df = tcat_df[tcat_df.userTimezone.notnull()]\n",
    "pop_cat = timecat_df.groupby('userLocation')[['tweetRetweetCt', 'tweetFavoriteCt']].mean()\n",
    "pop_cat.head()"
   ]
  },
  {
   "cell_type": "code",
   "execution_count": 75,
   "metadata": {},
   "outputs": [
    {
     "data": {
      "text/html": [
       "<div>\n",
       "<style>\n",
       "    .dataframe thead tr:only-child th {\n",
       "        text-align: right;\n",
       "    }\n",
       "\n",
       "    .dataframe thead th {\n",
       "        text-align: left;\n",
       "    }\n",
       "\n",
       "    .dataframe tbody tr th {\n",
       "        vertical-align: top;\n",
       "    }\n",
       "</style>\n",
       "<table border=\"1\" class=\"dataframe\">\n",
       "  <thead>\n",
       "    <tr style=\"text-align: right;\">\n",
       "      <th></th>\n",
       "      <th>tweetRetweetCt</th>\n",
       "      <th>tweetFavoriteCt</th>\n",
       "    </tr>\n",
       "  </thead>\n",
       "  <tbody>\n",
       "    <tr>\n",
       "      <th>count</th>\n",
       "      <td>837.000000</td>\n",
       "      <td>837.000000</td>\n",
       "    </tr>\n",
       "    <tr>\n",
       "      <th>mean</th>\n",
       "      <td>25.013922</td>\n",
       "      <td>0.622074</td>\n",
       "    </tr>\n",
       "    <tr>\n",
       "      <th>std</th>\n",
       "      <td>178.635741</td>\n",
       "      <td>3.641473</td>\n",
       "    </tr>\n",
       "    <tr>\n",
       "      <th>min</th>\n",
       "      <td>0.000000</td>\n",
       "      <td>0.000000</td>\n",
       "    </tr>\n",
       "    <tr>\n",
       "      <th>25%</th>\n",
       "      <td>0.000000</td>\n",
       "      <td>0.000000</td>\n",
       "    </tr>\n",
       "    <tr>\n",
       "      <th>50%</th>\n",
       "      <td>1.000000</td>\n",
       "      <td>0.000000</td>\n",
       "    </tr>\n",
       "    <tr>\n",
       "      <th>75%</th>\n",
       "      <td>5.000000</td>\n",
       "      <td>0.000000</td>\n",
       "    </tr>\n",
       "    <tr>\n",
       "      <th>max</th>\n",
       "      <td>3044.000000</td>\n",
       "      <td>74.500000</td>\n",
       "    </tr>\n",
       "  </tbody>\n",
       "</table>\n",
       "</div>"
      ],
      "text/plain": [
       "       tweetRetweetCt  tweetFavoriteCt\n",
       "count      837.000000       837.000000\n",
       "mean        25.013922         0.622074\n",
       "std        178.635741         3.641473\n",
       "min          0.000000         0.000000\n",
       "25%          0.000000         0.000000\n",
       "50%          1.000000         0.000000\n",
       "75%          5.000000         0.000000\n",
       "max       3044.000000        74.500000"
      ]
     },
     "execution_count": 75,
     "metadata": {},
     "output_type": "execute_result"
    }
   ],
   "source": [
    "pop_cat.describe()"
   ]
  },
  {
   "cell_type": "code",
   "execution_count": 76,
   "metadata": {},
   "outputs": [
    {
     "data": {
      "text/html": [
       "<div>\n",
       "<style>\n",
       "    .dataframe thead tr:only-child th {\n",
       "        text-align: right;\n",
       "    }\n",
       "\n",
       "    .dataframe thead th {\n",
       "        text-align: left;\n",
       "    }\n",
       "\n",
       "    .dataframe tbody tr th {\n",
       "        vertical-align: top;\n",
       "    }\n",
       "</style>\n",
       "<table border=\"1\" class=\"dataframe\">\n",
       "  <thead>\n",
       "    <tr style=\"text-align: right;\">\n",
       "      <th></th>\n",
       "      <th>tweetRetweetCt</th>\n",
       "      <th>tweetFavoriteCt</th>\n",
       "    </tr>\n",
       "    <tr>\n",
       "      <th>userLocation</th>\n",
       "      <th></th>\n",
       "      <th></th>\n",
       "    </tr>\n",
       "  </thead>\n",
       "  <tbody>\n",
       "    <tr>\n",
       "      <th></th>\n",
       "      <td>22.621032</td>\n",
       "      <td>0.459325</td>\n",
       "    </tr>\n",
       "    <tr>\n",
       "      <th>Arizona</th>\n",
       "      <td>3.000000</td>\n",
       "      <td>0.000000</td>\n",
       "    </tr>\n",
       "    <tr>\n",
       "      <th>Great Britain</th>\n",
       "      <td>0.000000</td>\n",
       "      <td>2.000000</td>\n",
       "    </tr>\n",
       "    <tr>\n",
       "      <th>In some place</th>\n",
       "      <td>1.500000</td>\n",
       "      <td>0.000000</td>\n",
       "    </tr>\n",
       "    <tr>\n",
       "      <th>Phoenix Arizona</th>\n",
       "      <td>7.000000</td>\n",
       "      <td>0.000000</td>\n",
       "    </tr>\n",
       "  </tbody>\n",
       "</table>\n",
       "</div>"
      ],
      "text/plain": [
       "                  tweetRetweetCt  tweetFavoriteCt\n",
       "userLocation                                     \n",
       "                       22.621032         0.459325\n",
       " Arizona                3.000000         0.000000\n",
       " Great Britain          0.000000         2.000000\n",
       " In some place          1.500000         0.000000\n",
       " Phoenix Arizona        7.000000         0.000000"
      ]
     },
     "execution_count": 76,
     "metadata": {},
     "output_type": "execute_result"
    }
   ],
   "source": [
    "timedog_df = tdog_df[tdog_df.userTimezone.notnull()]\n",
    "pop_dog = timedog_df.groupby('userLocation')[['tweetRetweetCt', 'tweetFavoriteCt']].mean()\n",
    "pop_dog.head()"
   ]
  },
  {
   "cell_type": "code",
   "execution_count": 77,
   "metadata": {},
   "outputs": [
    {
     "data": {
      "text/html": [
       "<div>\n",
       "<style>\n",
       "    .dataframe thead tr:only-child th {\n",
       "        text-align: right;\n",
       "    }\n",
       "\n",
       "    .dataframe thead th {\n",
       "        text-align: left;\n",
       "    }\n",
       "\n",
       "    .dataframe tbody tr th {\n",
       "        vertical-align: top;\n",
       "    }\n",
       "</style>\n",
       "<table border=\"1\" class=\"dataframe\">\n",
       "  <thead>\n",
       "    <tr style=\"text-align: right;\">\n",
       "      <th></th>\n",
       "      <th>tweetRetweetCt</th>\n",
       "      <th>tweetFavoriteCt</th>\n",
       "    </tr>\n",
       "  </thead>\n",
       "  <tbody>\n",
       "    <tr>\n",
       "      <th>count</th>\n",
       "      <td>1108.000000</td>\n",
       "      <td>1108.000000</td>\n",
       "    </tr>\n",
       "    <tr>\n",
       "      <th>mean</th>\n",
       "      <td>41.737362</td>\n",
       "      <td>0.477169</td>\n",
       "    </tr>\n",
       "    <tr>\n",
       "      <th>std</th>\n",
       "      <td>120.027097</td>\n",
       "      <td>2.161566</td>\n",
       "    </tr>\n",
       "    <tr>\n",
       "      <th>min</th>\n",
       "      <td>0.000000</td>\n",
       "      <td>0.000000</td>\n",
       "    </tr>\n",
       "    <tr>\n",
       "      <th>25%</th>\n",
       "      <td>0.000000</td>\n",
       "      <td>0.000000</td>\n",
       "    </tr>\n",
       "    <tr>\n",
       "      <th>50%</th>\n",
       "      <td>1.000000</td>\n",
       "      <td>0.000000</td>\n",
       "    </tr>\n",
       "    <tr>\n",
       "      <th>75%</th>\n",
       "      <td>22.000000</td>\n",
       "      <td>0.000000</td>\n",
       "    </tr>\n",
       "    <tr>\n",
       "      <th>max</th>\n",
       "      <td>1460.000000</td>\n",
       "      <td>35.585366</td>\n",
       "    </tr>\n",
       "  </tbody>\n",
       "</table>\n",
       "</div>"
      ],
      "text/plain": [
       "       tweetRetweetCt  tweetFavoriteCt\n",
       "count     1108.000000      1108.000000\n",
       "mean        41.737362         0.477169\n",
       "std        120.027097         2.161566\n",
       "min          0.000000         0.000000\n",
       "25%          0.000000         0.000000\n",
       "50%          1.000000         0.000000\n",
       "75%         22.000000         0.000000\n",
       "max       1460.000000        35.585366"
      ]
     },
     "execution_count": 77,
     "metadata": {},
     "output_type": "execute_result"
    }
   ],
   "source": [
    "pop_dog.describe()"
   ]
  },
  {
   "cell_type": "markdown",
   "metadata": {},
   "source": [
    "#### What can we gather from this so far:\n",
    "- dogs are retweeted more often than cats, but cats are liked more (THIS CHANGED SUDDENLY)\n",
    "- cat mean: rt: 25, fav: 0.62\n",
    "- dog mean: rt: 41.7, fav: 0.47\n",
    "- it looks like the cat df has an extremely popular post with over 3,000 rt\n",
    "- the most popular dog post is 1/2 of that\n",
    "- It is also interesting that people are more likely to favorite a cat tweet, but then more likely to retweet a dog tweet."
   ]
  },
  {
   "cell_type": "markdown",
   "metadata": {},
   "source": [
    "## Moving on to Timezone"
   ]
  },
  {
   "cell_type": "code",
   "execution_count": 82,
   "metadata": {},
   "outputs": [
    {
     "data": {
      "text/html": [
       "<div>\n",
       "<style>\n",
       "    .dataframe thead tr:only-child th {\n",
       "        text-align: right;\n",
       "    }\n",
       "\n",
       "    .dataframe thead th {\n",
       "        text-align: left;\n",
       "    }\n",
       "\n",
       "    .dataframe tbody tr th {\n",
       "        vertical-align: top;\n",
       "    }\n",
       "</style>\n",
       "<table border=\"1\" class=\"dataframe\">\n",
       "  <thead>\n",
       "    <tr style=\"text-align: right;\">\n",
       "      <th></th>\n",
       "      <th>tweetRetweetCt</th>\n",
       "      <th>tweetFavoriteCt</th>\n",
       "    </tr>\n",
       "    <tr>\n",
       "      <th>userTimezone</th>\n",
       "      <th></th>\n",
       "      <th></th>\n",
       "    </tr>\n",
       "  </thead>\n",
       "  <tbody>\n",
       "    <tr>\n",
       "      <th>Abu Dhabi</th>\n",
       "      <td>489.000000</td>\n",
       "      <td>0.000000</td>\n",
       "    </tr>\n",
       "    <tr>\n",
       "      <th>Alaska</th>\n",
       "      <td>17.869565</td>\n",
       "      <td>0.086957</td>\n",
       "    </tr>\n",
       "    <tr>\n",
       "      <th>America/Argentina/Buenos_Aires</th>\n",
       "      <td>3.666667</td>\n",
       "      <td>0.000000</td>\n",
       "    </tr>\n",
       "    <tr>\n",
       "      <th>America/Chicago</th>\n",
       "      <td>31.000000</td>\n",
       "      <td>0.250000</td>\n",
       "    </tr>\n",
       "    <tr>\n",
       "      <th>America/Detroit</th>\n",
       "      <td>29.000000</td>\n",
       "      <td>0.000000</td>\n",
       "    </tr>\n",
       "  </tbody>\n",
       "</table>\n",
       "</div>"
      ],
      "text/plain": [
       "                                tweetRetweetCt  tweetFavoriteCt\n",
       "userTimezone                                                   \n",
       "Abu Dhabi                           489.000000         0.000000\n",
       "Alaska                               17.869565         0.086957\n",
       "America/Argentina/Buenos_Aires        3.666667         0.000000\n",
       "America/Chicago                      31.000000         0.250000\n",
       "America/Detroit                      29.000000         0.000000"
      ]
     },
     "execution_count": 82,
     "metadata": {},
     "output_type": "execute_result"
    }
   ],
   "source": [
    "tz_cat = timecat_df.groupby('userTimezone')[['tweetRetweetCt', 'tweetFavoriteCt']].mean()\n",
    "tz_cat.head()"
   ]
  },
  {
   "cell_type": "code",
   "execution_count": 83,
   "metadata": {},
   "outputs": [
    {
     "data": {
      "text/html": [
       "<div>\n",
       "<style>\n",
       "    .dataframe thead tr:only-child th {\n",
       "        text-align: right;\n",
       "    }\n",
       "\n",
       "    .dataframe thead th {\n",
       "        text-align: left;\n",
       "    }\n",
       "\n",
       "    .dataframe tbody tr th {\n",
       "        vertical-align: top;\n",
       "    }\n",
       "</style>\n",
       "<table border=\"1\" class=\"dataframe\">\n",
       "  <thead>\n",
       "    <tr style=\"text-align: right;\">\n",
       "      <th></th>\n",
       "      <th>tweetRetweetCt</th>\n",
       "      <th>tweetFavoriteCt</th>\n",
       "    </tr>\n",
       "  </thead>\n",
       "  <tbody>\n",
       "    <tr>\n",
       "      <th>count</th>\n",
       "      <td>104.000000</td>\n",
       "      <td>104.000000</td>\n",
       "    </tr>\n",
       "    <tr>\n",
       "      <th>mean</th>\n",
       "      <td>41.629981</td>\n",
       "      <td>0.499828</td>\n",
       "    </tr>\n",
       "    <tr>\n",
       "      <th>std</th>\n",
       "      <td>159.075238</td>\n",
       "      <td>1.289660</td>\n",
       "    </tr>\n",
       "    <tr>\n",
       "      <th>min</th>\n",
       "      <td>0.000000</td>\n",
       "      <td>0.000000</td>\n",
       "    </tr>\n",
       "    <tr>\n",
       "      <th>25%</th>\n",
       "      <td>0.500000</td>\n",
       "      <td>0.000000</td>\n",
       "    </tr>\n",
       "    <tr>\n",
       "      <th>50%</th>\n",
       "      <td>4.086957</td>\n",
       "      <td>0.023810</td>\n",
       "    </tr>\n",
       "    <tr>\n",
       "      <th>75%</th>\n",
       "      <td>18.452199</td>\n",
       "      <td>0.375000</td>\n",
       "    </tr>\n",
       "    <tr>\n",
       "      <th>max</th>\n",
       "      <td>1460.000000</td>\n",
       "      <td>10.222222</td>\n",
       "    </tr>\n",
       "  </tbody>\n",
       "</table>\n",
       "</div>"
      ],
      "text/plain": [
       "       tweetRetweetCt  tweetFavoriteCt\n",
       "count      104.000000       104.000000\n",
       "mean        41.629981         0.499828\n",
       "std        159.075238         1.289660\n",
       "min          0.000000         0.000000\n",
       "25%          0.500000         0.000000\n",
       "50%          4.086957         0.023810\n",
       "75%         18.452199         0.375000\n",
       "max       1460.000000        10.222222"
      ]
     },
     "execution_count": 83,
     "metadata": {},
     "output_type": "execute_result"
    }
   ],
   "source": [
    "tz_cat.describe()"
   ]
  },
  {
   "cell_type": "markdown",
   "metadata": {},
   "source": [
    "### Things to take note for cats:  \n",
    "- Max: rt: 1460, fav: 10.2\n",
    "- Most favorited tweet is from: JST\n",
    "- Most retweeted tweet is from: Istanbul\n",
    "- Mean: rt: 41.6, fav: 0.50"
   ]
  },
  {
   "cell_type": "code",
   "execution_count": 84,
   "metadata": {},
   "outputs": [
    {
     "data": {
      "text/html": [
       "<div>\n",
       "<style>\n",
       "    .dataframe thead tr:only-child th {\n",
       "        text-align: right;\n",
       "    }\n",
       "\n",
       "    .dataframe thead th {\n",
       "        text-align: left;\n",
       "    }\n",
       "\n",
       "    .dataframe tbody tr th {\n",
       "        vertical-align: top;\n",
       "    }\n",
       "</style>\n",
       "<table border=\"1\" class=\"dataframe\">\n",
       "  <thead>\n",
       "    <tr style=\"text-align: right;\">\n",
       "      <th></th>\n",
       "      <th>tweetRetweetCt</th>\n",
       "      <th>tweetFavoriteCt</th>\n",
       "    </tr>\n",
       "    <tr>\n",
       "      <th>userTimezone</th>\n",
       "      <th></th>\n",
       "      <th></th>\n",
       "    </tr>\n",
       "  </thead>\n",
       "  <tbody>\n",
       "    <tr>\n",
       "      <th>Adelaide</th>\n",
       "      <td>0.000000</td>\n",
       "      <td>0.500000</td>\n",
       "    </tr>\n",
       "    <tr>\n",
       "      <th>Africa/Tunis</th>\n",
       "      <td>182.000000</td>\n",
       "      <td>0.000000</td>\n",
       "    </tr>\n",
       "    <tr>\n",
       "      <th>Alaska</th>\n",
       "      <td>8.045455</td>\n",
       "      <td>0.090909</td>\n",
       "    </tr>\n",
       "    <tr>\n",
       "      <th>America/Boise</th>\n",
       "      <td>0.000000</td>\n",
       "      <td>0.000000</td>\n",
       "    </tr>\n",
       "    <tr>\n",
       "      <th>America/Caracas</th>\n",
       "      <td>1.500000</td>\n",
       "      <td>0.000000</td>\n",
       "    </tr>\n",
       "  </tbody>\n",
       "</table>\n",
       "</div>"
      ],
      "text/plain": [
       "                 tweetRetweetCt  tweetFavoriteCt\n",
       "userTimezone                                    \n",
       "Adelaide               0.000000         0.500000\n",
       "Africa/Tunis         182.000000         0.000000\n",
       "Alaska                 8.045455         0.090909\n",
       "America/Boise          0.000000         0.000000\n",
       "America/Caracas        1.500000         0.000000"
      ]
     },
     "execution_count": 84,
     "metadata": {},
     "output_type": "execute_result"
    }
   ],
   "source": [
    "tz_dog = timedog_df.groupby('userTimezone')[['tweetRetweetCt', 'tweetFavoriteCt']].mean()\n",
    "tz_dog.head()"
   ]
  },
  {
   "cell_type": "code",
   "execution_count": 85,
   "metadata": {},
   "outputs": [
    {
     "data": {
      "text/html": [
       "<div>\n",
       "<style>\n",
       "    .dataframe thead tr:only-child th {\n",
       "        text-align: right;\n",
       "    }\n",
       "\n",
       "    .dataframe thead th {\n",
       "        text-align: left;\n",
       "    }\n",
       "\n",
       "    .dataframe tbody tr th {\n",
       "        vertical-align: top;\n",
       "    }\n",
       "</style>\n",
       "<table border=\"1\" class=\"dataframe\">\n",
       "  <thead>\n",
       "    <tr style=\"text-align: right;\">\n",
       "      <th></th>\n",
       "      <th>tweetRetweetCt</th>\n",
       "      <th>tweetFavoriteCt</th>\n",
       "    </tr>\n",
       "  </thead>\n",
       "  <tbody>\n",
       "    <tr>\n",
       "      <th>count</th>\n",
       "      <td>116.000000</td>\n",
       "      <td>116.000000</td>\n",
       "    </tr>\n",
       "    <tr>\n",
       "      <th>mean</th>\n",
       "      <td>56.021512</td>\n",
       "      <td>0.465491</td>\n",
       "    </tr>\n",
       "    <tr>\n",
       "      <th>std</th>\n",
       "      <td>170.128107</td>\n",
       "      <td>1.126535</td>\n",
       "    </tr>\n",
       "    <tr>\n",
       "      <th>min</th>\n",
       "      <td>0.000000</td>\n",
       "      <td>0.000000</td>\n",
       "    </tr>\n",
       "    <tr>\n",
       "      <th>25%</th>\n",
       "      <td>2.458333</td>\n",
       "      <td>0.000000</td>\n",
       "    </tr>\n",
       "    <tr>\n",
       "      <th>50%</th>\n",
       "      <td>12.089286</td>\n",
       "      <td>0.000000</td>\n",
       "    </tr>\n",
       "    <tr>\n",
       "      <th>75%</th>\n",
       "      <td>39.375000</td>\n",
       "      <td>0.519048</td>\n",
       "    </tr>\n",
       "    <tr>\n",
       "      <th>max</th>\n",
       "      <td>1460.000000</td>\n",
       "      <td>10.400000</td>\n",
       "    </tr>\n",
       "  </tbody>\n",
       "</table>\n",
       "</div>"
      ],
      "text/plain": [
       "       tweetRetweetCt  tweetFavoriteCt\n",
       "count      116.000000       116.000000\n",
       "mean        56.021512         0.465491\n",
       "std        170.128107         1.126535\n",
       "min          0.000000         0.000000\n",
       "25%          2.458333         0.000000\n",
       "50%         12.089286         0.000000\n",
       "75%         39.375000         0.519048\n",
       "max       1460.000000        10.400000"
      ]
     },
     "execution_count": 85,
     "metadata": {},
     "output_type": "execute_result"
    }
   ],
   "source": [
    "tz_dog.describe()"
   ]
  },
  {
   "cell_type": "markdown",
   "metadata": {},
   "source": [
    "### Things to take note for dogs:  \n",
    "- Max: rt: 1460, fav: 10.4\n",
    "- Most favorited tweet is from: America/Los_Angeles\n",
    "- Most retweeted tweet is from: Nairobi\n",
    "- Mean: rt: 56, fav: 0.46"
   ]
  },
  {
   "cell_type": "markdown",
   "metadata": {},
   "source": [
    "### Some interesting findings:\n",
    "- as I continue to play with the data I'm noticing some interesting things. \n",
    "- you can actually watch with this stuff (if you update frequently enough) specific memes gain popularity."
   ]
  },
  {
   "cell_type": "markdown",
   "metadata": {},
   "source": [
    "## Figuring out length of post"
   ]
  },
  {
   "cell_type": "code",
   "execution_count": null,
   "metadata": {
    "collapsed": true
   },
   "outputs": [],
   "source": []
  }
 ],
 "metadata": {
  "kernelspec": {
   "display_name": "Python 3",
   "language": "python",
   "name": "python3"
  },
  "language_info": {
   "codemirror_mode": {
    "name": "ipython",
    "version": 3
   },
   "file_extension": ".py",
   "mimetype": "text/x-python",
   "name": "python",
   "nbconvert_exporter": "python",
   "pygments_lexer": "ipython3",
   "version": "3.6.1"
  }
 },
 "nbformat": 4,
 "nbformat_minor": 2
}
