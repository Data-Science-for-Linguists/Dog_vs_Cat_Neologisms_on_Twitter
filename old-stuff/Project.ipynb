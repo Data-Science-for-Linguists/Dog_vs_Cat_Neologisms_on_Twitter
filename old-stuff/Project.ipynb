{
 "cells": [
  {
   "cell_type": "markdown",
   "metadata": {},
   "source": [
    "# Let's Get That Data!"
   ]
  },
  {
   "cell_type": "markdown",
   "metadata": {},
   "source": [
    "## NOTE: this is an old notebook file.  \n",
    "### To see my project please go to the notebook file named Doggos-vs-Kittehs   \n",
    "### it should be in the same repo. thanks!"
   ]
  },
  {
   "cell_type": "code",
   "execution_count": 1,
   "metadata": {
    "collapsed": true
   },
   "outputs": [],
   "source": [
    "#First, The Imports\n",
    "import tweepy\n",
    "import pandas as pd\n",
    "import matplotlib.pyplot as plt\n",
    "from pprint import pprint\n",
    "\n",
    "# Every returned Out[] is displayed, not just the last one. (Thanks NaRae!)\n",
    "from IPython.core.interactiveshell import InteractiveShell\n",
    "InteractiveShell.ast_node_interactivity = \"all\""
   ]
  },
  {
   "cell_type": "code",
   "execution_count": 2,
   "metadata": {
    "collapsed": true
   },
   "outputs": [],
   "source": [
    "# the key variables\n",
    "consumerKey = \"XXXXXXX\"\n",
    "consumerSecret =\"XXXXXX\""
   ]
  },
  {
   "cell_type": "code",
   "execution_count": 3,
   "metadata": {
    "collapsed": true
   },
   "outputs": [],
   "source": [
    "#authentication\n",
    "auth = tweepy.OAuthHandler(consumerKey, consumerSecret)\n",
    "\n",
    "#connecting to Twitter API\n",
    "api = tweepy.API(auth)"
   ]
  },
  {
   "cell_type": "code",
   "execution_count": 4,
   "metadata": {
    "collapsed": true
   },
   "outputs": [],
   "source": [
    "# this is helpful for later but I need to read in the .csv files so I can append them later\n",
    "#tcat = pd.read_csv(r'cat_tweets.csv')\n",
    "#tdog = pd.read_csv(r'dog_tweets.csv')\n",
    "filepath = \"/Users/Margaret/Documents/Data_Science/Project_Margaret/\""
   ]
  },
  {
   "cell_type": "code",
   "execution_count": null,
   "metadata": {
    "collapsed": true
   },
   "outputs": [],
   "source": [
    "#getting cat and dog search results\n",
    "#NOTE: The dog neologisms I will compare: doggo and doge\n",
    "#NOTE: The cat neologisms I will compare: kitteh and toebeans\n",
    "rDog = api.search(q='%23dog')\n",
    "rDogs = api.search(q='%23dogs')\n",
    "rDoggo = api.search(q='%23doggo')\n",
    "rDoge = api.search(q='%23doge')\n",
    "rCat = api.search(q='%23cat')\n",
    "rCats = api.search(q='%23cats')\n",
    "rToeBeans = api.search(q='%23toebeans')\n",
    "rKitteh = api.search(q='%23kitteh')"
   ]
  },
  {
   "cell_type": "code",
   "execution_count": null,
   "metadata": {
    "collapsed": true
   },
   "outputs": [],
   "source": [
    "#Get the first 1000 items based on the search query\n",
    "for tweet in tweepy.Cursor(api.search, q='%23dog').items(1000):\n",
    "    rDog.append(tweet)\n",
    "for tweet in tweepy.Cursor(api.search, q='%23doggo').items(1000):\n",
    "    rDoggo.append(tweet)\n",
    "for tweet in tweepy.Cursor(api.search, q='%23doge').items(1000):\n",
    "    rDoge.append(tweet)\n",
    "for tweet in tweepy.Cursor(api.search, q='%23cat').items(1000):\n",
    "    rCat.append(tweet)\n",
    "for tweet in tweepy.Cursor(api.search, q='%23toebeans').items(1000):\n",
    "    rToeBeans.append(tweet)\n",
    "for tweet in tweepy.Cursor(api.search, q='%23kitteh').items(1000):\n",
    "    rKitteh.append(tweet)"
   ]
  },
  {
   "cell_type": "code",
   "execution_count": null,
   "metadata": {
    "collapsed": true
   },
   "outputs": [],
   "source": [
    "#Adding in the plurals\n",
    "#for tweet in tweepy.Cursor(api.search, q='%23dogs').items(1000):\n",
    "#    rDogs.append(tweet)\n",
    "#for tweet in tweepy.Cursor(api.search, q='%23cats').items(1000):\n",
    "#    rCats.append(tweet)"
   ]
  },
  {
   "cell_type": "code",
   "execution_count": null,
   "metadata": {
    "collapsed": true
   },
   "outputs": [],
   "source": [
    "#Verify the number of items returned\n",
    "len(rDog)\n",
    "len(rDogs)\n",
    "len(rDoge)\n",
    "len(rDoggo)\n",
    "len(rCat)\n",
    "len(rCats)\n",
    "len(rToeBeans)\n",
    "len(rKitteh)"
   ]
  },
  {
   "cell_type": "markdown",
   "metadata": {
    "collapsed": true
   },
   "source": [
    "### Even already it is interesting to see that ToeBeans and Kitteh are already returning a lot less results. This likely means that they are fairly unpopular terms (at least to tag your tweet with) which is interesting.  \n",
    "#### This also means that if this trend continues (which it has been up to this point), it is already clear that Dogs get more posts than cats.\n",
    "  \n",
    "### Below is an example of a tweet as well as some additional information about it. This is the only tweet I will show, in attempts to not go against the data-sharing agreement. However, this is what the data I'm working with looks like."
   ]
  },
  {
   "cell_type": "code",
   "execution_count": null,
   "metadata": {
    "collapsed": true
   },
   "outputs": [],
   "source": [
    "#this is an example of a tweet\n",
    "tweet1 = rDog[1] #get the data of the first tweet.\n",
    "\n",
    "#then, print tweet. \n",
    "print(tweet1.text)\n",
    "\n",
    "#other additional info about the tweet for reference\n",
    "tweet1.lang                    #the tweet is in English \n",
    "tweet1.user.screen_name        #this is the username\n",
    "tweet1.user.description        #self description of user by user posted on profile\n",
    "tweet1.created_at              #date and time tweet was created\n",
    "tweet1.id                      #Tweet ID #\n",
    "tweet1.favorite_count          #how many likes the tweet received (in this case 0)"
   ]
  },
  {
   "cell_type": "code",
   "execution_count": null,
   "metadata": {
    "collapsed": true
   },
   "outputs": [],
   "source": [
    "# this is a function found here: http://blog.impiyush.com/2015/03/data-analysis-using-twitter-api-and.html\n",
    "# I am using this to clean my data into a dataframe, it has been altered slightly (mostly deletion) for my project.\n",
    "def toDataFrame(tweets):\n",
    "\n",
    "    DataSet = pd.DataFrame()\n",
    "\n",
    "    DataSet['tweetID'] = [tweet.id for tweet in tweets]\n",
    "    DataSet['tweetRetweetCt'] = [tweet.retweet_count for tweet \n",
    "    in tweets]\n",
    "    DataSet['tweetFavoriteCt'] = [tweet.favorite_count for tweet \n",
    "    in tweets]\n",
    "    DataSet['tweetSource'] = [tweet.source for tweet in tweets]\n",
    "    DataSet['tweetCreated'] = [tweet.created_at for tweet in tweets]\n",
    "\n",
    "\n",
    "    DataSet['userID'] = [tweet.user.id for tweet in tweets]\n",
    "    DataSet['userScreen'] = [tweet.user.screen_name for tweet \n",
    "    in tweets]\n",
    "    DataSet['userName'] = [tweet.user.name for tweet in tweets]\n",
    "    DataSet['userLocation'] = [tweet.user.location for tweet in tweets]\n",
    "    DataSet['userTimezone'] = [tweet.user.time_zone for tweet \n",
    "    in tweets]\n",
    "\n",
    "    return DataSet"
   ]
  },
  {
   "cell_type": "code",
   "execution_count": null,
   "metadata": {
    "collapsed": true
   },
   "outputs": [],
   "source": [
    "#Do this funciton on the tweets, then connect the dataframes\n",
    "dog_df = toDataFrame(rDog)\n",
    "dogs_df = toDataFrame(rDogs)\n",
    "doge_df = toDataFrame(rDoge)\n",
    "doggo_df = toDataFrame(rDoggo)\n",
    "cat_df = toDataFrame(rCat)\n",
    "cats_df = toDataFrame(rCats)\n",
    "toebeans_df = toDataFrame(rToeBeans)\n",
    "kitteh_df = toDataFrame(rKitteh)\n",
    "\n",
    "#Adding a column to say which hashtag it came from\n",
    "dog_df['Hashtag'] = \"dog\"\n",
    "dogs_df['Hashtag'] = \"dogs\" \n",
    "doge_df['Hashtag'] = \"doge\"\n",
    "doggo_df['Hashtag'] = \"doggo\"\n",
    "cat_df['Hashtag'] = \"cat\"\n",
    "cats_df['Hashtag'] = \"cats\"\n",
    "toebeans_df['Hashtag'] = \"toebeans\"\n",
    "kitteh_df['Hashtag'] = \"kitteh\"\n",
    "\n",
    "# now to combine into 2 larger ones, overall cat related, overall dog related\n",
    "#tcat_df = pd.concat([cat_df, toebeans_df, kitteh_df])\n",
    "#tdog_df = pd.concat([dog_df, doge_df, doggo_df])\n",
    "\n",
    "# now to combine into 2 larger ones, overall cat related, overall dog related\n",
    "tcat_df = pd.concat([cat_df, cats_df, toebeans_df, kitteh_df])\n",
    "tdog_df = pd.concat([dog_df, dogs_df, doge_df, doggo_df])\n",
    "\n",
    "# NOTE: Still need to figure out a good way to get rid of possible redundant tweets? \n",
    "#or maybe not? \n",
    "#I could potentially use that as a statistic? - which could be interesting. \n",
    "#either way, for now I'm going to leave it and make that decision a little later. "
   ]
  },
  {
   "cell_type": "code",
   "execution_count": null,
   "metadata": {
    "collapsed": true
   },
   "outputs": [],
   "source": [
    "#Method to get the tweets later\n",
    "def lookup_tweets(tweet_IDs, api):\n",
    "    full_tweets = []\n",
    "    tweet_count = len(tweet_IDs)\n",
    "    try:\n",
    "        for i in range((tweet_count / 100) + 1):\n",
    "            # Catch the last group if it is less than 100 tweets\n",
    "            end_loc = min((i + 1) * 100, tweet_count)\n",
    "            full_tweets.extend(\n",
    "                api.statuses_lookup(id=tweet_IDs[i * 100:end_loc])\n",
    "            )\n",
    "        return full_tweets\n",
    "    except tweepy.TweepError:\n",
    "        print 'Something went wrong, quitting...'\n",
    "\n",
    "api = tweepy.API(auth, wait_on_rate_limit=True, wait_on_rate_limit_notify=True)\n",
    "\n",
    "# do whatever it is to get por.TweetID - the list of all IDs to look up (which is my dataframe)\n",
    "\n",
    "results = lookup_tweets(por.TweetID, api)\n",
    "\n",
    "for tweet in results:\n",
    "    if tweet:\n",
    "        print tweet.text"
   ]
  },
  {
   "cell_type": "code",
   "execution_count": 7,
   "metadata": {},
   "outputs": [
    {
     "data": {
      "text/html": [
       "<div>\n",
       "<style>\n",
       "    .dataframe thead tr:only-child th {\n",
       "        text-align: right;\n",
       "    }\n",
       "\n",
       "    .dataframe thead th {\n",
       "        text-align: left;\n",
       "    }\n",
       "\n",
       "    .dataframe tbody tr th {\n",
       "        vertical-align: top;\n",
       "    }\n",
       "</style>\n",
       "<table border=\"1\" class=\"dataframe\">\n",
       "  <thead>\n",
       "    <tr style=\"text-align: right;\">\n",
       "      <th></th>\n",
       "      <th>Unnamed: 0</th>\n",
       "      <th>Hashtag</th>\n",
       "      <th>Unnamed: 0.1</th>\n",
       "      <th>Unnamed: 0.1.1</th>\n",
       "      <th>Unnamed: 0.1.1</th>\n",
       "      <th>tweetCreated</th>\n",
       "      <th>tweetFavoriteCt</th>\n",
       "      <th>tweetID</th>\n",
       "      <th>tweetRetweetCt</th>\n",
       "      <th>tweetSource</th>\n",
       "      <th>userID</th>\n",
       "      <th>userLocation</th>\n",
       "      <th>userName</th>\n",
       "      <th>userScreen</th>\n",
       "      <th>userTimezone</th>\n",
       "    </tr>\n",
       "  </thead>\n",
       "  <tbody>\n",
       "    <tr>\n",
       "      <th>0</th>\n",
       "      <td>0</td>\n",
       "      <td>cat</td>\n",
       "      <td>NaN</td>\n",
       "      <td>NaN</td>\n",
       "      <td>NaN</td>\n",
       "      <td>2017-11-19 04:09:14</td>\n",
       "      <td>0</td>\n",
       "      <td>932098414392893440</td>\n",
       "      <td>5</td>\n",
       "      <td>Tweedle-deee</td>\n",
       "      <td>771578403300401153</td>\n",
       "      <td>Los Angeles, CA</td>\n",
       "      <td>Daily Cat Fill</td>\n",
       "      <td>DailyCatFill</td>\n",
       "      <td>Pacific Time (US &amp; Canada)</td>\n",
       "    </tr>\n",
       "    <tr>\n",
       "      <th>1</th>\n",
       "      <td>1</td>\n",
       "      <td>cat</td>\n",
       "      <td>NaN</td>\n",
       "      <td>NaN</td>\n",
       "      <td>NaN</td>\n",
       "      <td>2017-11-19 04:09:13</td>\n",
       "      <td>0</td>\n",
       "      <td>932098412740214784</td>\n",
       "      <td>12</td>\n",
       "      <td>Twitter Web Client</td>\n",
       "      <td>2968186857</td>\n",
       "      <td>Pennsylvania, USA</td>\n",
       "      <td>S Brown</td>\n",
       "      <td>SusieQ6shooter</td>\n",
       "      <td>NaN</td>\n",
       "    </tr>\n",
       "    <tr>\n",
       "      <th>2</th>\n",
       "      <td>2</td>\n",
       "      <td>cat</td>\n",
       "      <td>NaN</td>\n",
       "      <td>NaN</td>\n",
       "      <td>NaN</td>\n",
       "      <td>2017-11-19 04:09:13</td>\n",
       "      <td>0</td>\n",
       "      <td>932098410911383553</td>\n",
       "      <td>6</td>\n",
       "      <td>Twitter for iPhone</td>\n",
       "      <td>2906610308</td>\n",
       "      <td>NaN</td>\n",
       "      <td>Sharon Wheeler</td>\n",
       "      <td>sharry378</td>\n",
       "      <td>NaN</td>\n",
       "    </tr>\n",
       "    <tr>\n",
       "      <th>3</th>\n",
       "      <td>3</td>\n",
       "      <td>cat</td>\n",
       "      <td>NaN</td>\n",
       "      <td>NaN</td>\n",
       "      <td>NaN</td>\n",
       "      <td>2017-11-19 04:09:09</td>\n",
       "      <td>0</td>\n",
       "      <td>932098396290027520</td>\n",
       "      <td>1</td>\n",
       "      <td>Twitter for iPhone</td>\n",
       "      <td>3308566236</td>\n",
       "      <td>パラダイス</td>\n",
       "      <td>どんぐり亭りすぞう</td>\n",
       "      <td>DONRISU3150</td>\n",
       "      <td>NaN</td>\n",
       "    </tr>\n",
       "    <tr>\n",
       "      <th>4</th>\n",
       "      <td>4</td>\n",
       "      <td>cat</td>\n",
       "      <td>NaN</td>\n",
       "      <td>NaN</td>\n",
       "      <td>NaN</td>\n",
       "      <td>2017-11-19 04:09:07</td>\n",
       "      <td>0</td>\n",
       "      <td>932098387876331520</td>\n",
       "      <td>5</td>\n",
       "      <td>Twitter for iPhone</td>\n",
       "      <td>858653933920632832</td>\n",
       "      <td>東京 練馬区</td>\n",
       "      <td>ノルル</td>\n",
       "      <td>Norurudazo</td>\n",
       "      <td>NaN</td>\n",
       "    </tr>\n",
       "  </tbody>\n",
       "</table>\n",
       "</div>"
      ],
      "text/plain": [
       "   Unnamed: 0 Hashtag  Unnamed: 0.1  Unnamed: 0.1.1  Unnamed: 0.1.1  \\\n",
       "0           0     cat           NaN             NaN             NaN   \n",
       "1           1     cat           NaN             NaN             NaN   \n",
       "2           2     cat           NaN             NaN             NaN   \n",
       "3           3     cat           NaN             NaN             NaN   \n",
       "4           4     cat           NaN             NaN             NaN   \n",
       "\n",
       "          tweetCreated  tweetFavoriteCt             tweetID  tweetRetweetCt  \\\n",
       "0  2017-11-19 04:09:14                0  932098414392893440               5   \n",
       "1  2017-11-19 04:09:13                0  932098412740214784              12   \n",
       "2  2017-11-19 04:09:13                0  932098410911383553               6   \n",
       "3  2017-11-19 04:09:09                0  932098396290027520               1   \n",
       "4  2017-11-19 04:09:07                0  932098387876331520               5   \n",
       "\n",
       "          tweetSource              userID       userLocation        userName  \\\n",
       "0        Tweedle-deee  771578403300401153    Los Angeles, CA  Daily Cat Fill   \n",
       "1  Twitter Web Client          2968186857  Pennsylvania, USA         S Brown   \n",
       "2  Twitter for iPhone          2906610308                NaN  Sharon Wheeler   \n",
       "3  Twitter for iPhone          3308566236              パラダイス       どんぐり亭りすぞう   \n",
       "4  Twitter for iPhone  858653933920632832             東京 練馬区             ノルル   \n",
       "\n",
       "       userScreen                userTimezone  \n",
       "0    DailyCatFill  Pacific Time (US & Canada)  \n",
       "1  SusieQ6shooter                         NaN  \n",
       "2       sharry378                         NaN  \n",
       "3     DONRISU3150                         NaN  \n",
       "4      Norurudazo                         NaN  "
      ]
     },
     "execution_count": 7,
     "metadata": {},
     "output_type": "execute_result"
    }
   ],
   "source": [
    "#read in old csv files\n",
    "tcat = pd.read_csv(filepath + 'cat_tweets.csv')\n",
    "tdog = pd.read_csv(filepath + 'dog_tweets.csv')\n",
    "\n",
    "tcat.head()"
   ]
  },
  {
   "cell_type": "code",
   "execution_count": null,
   "metadata": {
    "collapsed": true
   },
   "outputs": [],
   "source": [
    "#append the old and new csv\n",
    "tcat_df = tcat_df.append(tcat)\n",
    "tdog_df = tdog_df.append(tdog)"
   ]
  },
  {
   "cell_type": "code",
   "execution_count": null,
   "metadata": {
    "collapsed": true
   },
   "outputs": [],
   "source": [
    "# Write out the DF as a new CSV file\n",
    "tcat_df.to_csv('cat_tweets.csv')\n",
    "tdog_df.to_csv('dog_tweets.csv')"
   ]
  },
  {
   "cell_type": "code",
   "execution_count": 8,
   "metadata": {},
   "outputs": [
    {
     "data": {
      "text/plain": [
       "79185"
      ]
     },
     "execution_count": 8,
     "metadata": {},
     "output_type": "execute_result"
    },
    {
     "data": {
      "text/plain": [
       "197595"
      ]
     },
     "execution_count": 8,
     "metadata": {},
     "output_type": "execute_result"
    }
   ],
   "source": [
    "tcat_df.size\n",
    "tdog_df.size"
   ]
  },
  {
   "cell_type": "markdown",
   "metadata": {},
   "source": [
    "## Let's attempt some analysis.  \n",
    "- again not completely sure how much I can share, so for now I'm only going to use the most recently gathered data. (The only rule is \"as much as necissary but no more\" and I don't really know what can be classified as \"necessary\")."
   ]
  },
  {
   "cell_type": "code",
   "execution_count": 9,
   "metadata": {},
   "outputs": [
    {
     "data": {
      "text/plain": [
       "0.7270316347793143"
      ]
     },
     "execution_count": 9,
     "metadata": {},
     "output_type": "execute_result"
    },
    {
     "data": {
      "text/plain": [
       "2275.2095093767757"
      ]
     },
     "execution_count": 9,
     "metadata": {},
     "output_type": "execute_result"
    },
    {
     "data": {
      "text/plain": [
       "0.8065740529871708"
      ]
     },
     "execution_count": 9,
     "metadata": {},
     "output_type": "execute_result"
    },
    {
     "data": {
      "text/plain": [
       "42.87132771578228"
      ]
     },
     "execution_count": 9,
     "metadata": {},
     "output_type": "execute_result"
    }
   ],
   "source": [
    "# Trying a favorite vs. retweet comparison\n",
    "cat_fav = tcat_df['tweetFavoriteCt'].mean()\n",
    "cat_fav\n",
    "cat_rt = tcat_df['tweetRetweetCt'].mean()\n",
    "cat_rt\n",
    "dog_fav = tdog_df['tweetFavoriteCt'].mean()\n",
    "dog_fav\n",
    "dog_rt = tdog_df['tweetRetweetCt'].mean()\n",
    "dog_rt"
   ]
  },
  {
   "cell_type": "code",
   "execution_count": 10,
   "metadata": {},
   "outputs": [
    {
     "data": {
      "text/html": [
       "<div>\n",
       "<style>\n",
       "    .dataframe thead tr:only-child th {\n",
       "        text-align: right;\n",
       "    }\n",
       "\n",
       "    .dataframe thead th {\n",
       "        text-align: left;\n",
       "    }\n",
       "\n",
       "    .dataframe tbody tr th {\n",
       "        vertical-align: top;\n",
       "    }\n",
       "</style>\n",
       "<table border=\"1\" class=\"dataframe\">\n",
       "  <thead>\n",
       "    <tr style=\"text-align: right;\">\n",
       "      <th></th>\n",
       "      <th>CATS</th>\n",
       "      <th>DOGS</th>\n",
       "    </tr>\n",
       "  </thead>\n",
       "  <tbody>\n",
       "    <tr>\n",
       "      <th>Favorites</th>\n",
       "      <td>0.727032</td>\n",
       "      <td>NaN</td>\n",
       "    </tr>\n",
       "  </tbody>\n",
       "</table>\n",
       "</div>"
      ],
      "text/plain": [
       "               CATS DOGS\n",
       "Favorites  0.727032  NaN"
      ]
     },
     "execution_count": 10,
     "metadata": {},
     "output_type": "execute_result"
    },
    {
     "data": {
      "text/html": [
       "<div>\n",
       "<style>\n",
       "    .dataframe thead tr:only-child th {\n",
       "        text-align: right;\n",
       "    }\n",
       "\n",
       "    .dataframe thead th {\n",
       "        text-align: left;\n",
       "    }\n",
       "\n",
       "    .dataframe tbody tr th {\n",
       "        vertical-align: top;\n",
       "    }\n",
       "</style>\n",
       "<table border=\"1\" class=\"dataframe\">\n",
       "  <thead>\n",
       "    <tr style=\"text-align: right;\">\n",
       "      <th></th>\n",
       "      <th>CATS</th>\n",
       "      <th>DOGS</th>\n",
       "    </tr>\n",
       "  </thead>\n",
       "  <tbody>\n",
       "    <tr>\n",
       "      <th>Favorites</th>\n",
       "      <td>0.727032</td>\n",
       "      <td>NaN</td>\n",
       "    </tr>\n",
       "    <tr>\n",
       "      <th>Retweets</th>\n",
       "      <td>2275.21</td>\n",
       "      <td>NaN</td>\n",
       "    </tr>\n",
       "  </tbody>\n",
       "</table>\n",
       "</div>"
      ],
      "text/plain": [
       "               CATS DOGS\n",
       "Favorites  0.727032  NaN\n",
       "Retweets    2275.21  NaN"
      ]
     },
     "execution_count": 10,
     "metadata": {},
     "output_type": "execute_result"
    },
    {
     "data": {
      "text/html": [
       "<div>\n",
       "<style>\n",
       "    .dataframe thead tr:only-child th {\n",
       "        text-align: right;\n",
       "    }\n",
       "\n",
       "    .dataframe thead th {\n",
       "        text-align: left;\n",
       "    }\n",
       "\n",
       "    .dataframe tbody tr th {\n",
       "        vertical-align: top;\n",
       "    }\n",
       "</style>\n",
       "<table border=\"1\" class=\"dataframe\">\n",
       "  <thead>\n",
       "    <tr style=\"text-align: right;\">\n",
       "      <th></th>\n",
       "      <th>CATS</th>\n",
       "      <th>DOGS</th>\n",
       "    </tr>\n",
       "  </thead>\n",
       "  <tbody>\n",
       "    <tr>\n",
       "      <th>Favorites</th>\n",
       "      <td>0.727032</td>\n",
       "      <td>0.806574</td>\n",
       "    </tr>\n",
       "    <tr>\n",
       "      <th>Retweets</th>\n",
       "      <td>2275.21</td>\n",
       "      <td>NaN</td>\n",
       "    </tr>\n",
       "  </tbody>\n",
       "</table>\n",
       "</div>"
      ],
      "text/plain": [
       "               CATS      DOGS\n",
       "Favorites  0.727032  0.806574\n",
       "Retweets    2275.21       NaN"
      ]
     },
     "execution_count": 10,
     "metadata": {},
     "output_type": "execute_result"
    },
    {
     "data": {
      "text/html": [
       "<div>\n",
       "<style>\n",
       "    .dataframe thead tr:only-child th {\n",
       "        text-align: right;\n",
       "    }\n",
       "\n",
       "    .dataframe thead th {\n",
       "        text-align: left;\n",
       "    }\n",
       "\n",
       "    .dataframe tbody tr th {\n",
       "        vertical-align: top;\n",
       "    }\n",
       "</style>\n",
       "<table border=\"1\" class=\"dataframe\">\n",
       "  <thead>\n",
       "    <tr style=\"text-align: right;\">\n",
       "      <th></th>\n",
       "      <th>CATS</th>\n",
       "      <th>DOGS</th>\n",
       "    </tr>\n",
       "  </thead>\n",
       "  <tbody>\n",
       "    <tr>\n",
       "      <th>Favorites</th>\n",
       "      <td>0.727032</td>\n",
       "      <td>0.806574</td>\n",
       "    </tr>\n",
       "    <tr>\n",
       "      <th>Retweets</th>\n",
       "      <td>2275.21</td>\n",
       "      <td>42.8713</td>\n",
       "    </tr>\n",
       "  </tbody>\n",
       "</table>\n",
       "</div>"
      ],
      "text/plain": [
       "               CATS      DOGS\n",
       "Favorites  0.727032  0.806574\n",
       "Retweets    2275.21   42.8713"
      ]
     },
     "execution_count": 10,
     "metadata": {},
     "output_type": "execute_result"
    },
    {
     "data": {
      "text/plain": [
       "<matplotlib.axes._subplots.AxesSubplot at 0x116501588>"
      ]
     },
     "execution_count": 10,
     "metadata": {},
     "output_type": "execute_result"
    },
    {
     "data": {
      "image/png": "[encoded data removed]",
      "text/plain": [
       "<matplotlib.figure.Figure at 0x116507d30>"
      ]
     },
     "metadata": {},
     "output_type": "display_data"
    }
   ],
   "source": [
    "# okay, now for the bar graph\n",
    "grouped = pd.DataFrame(columns = ['CATS', 'DOGS'])\n",
    "grouped.set_value('Favorites', 'CATS', cat_fav)\n",
    "grouped.set_value('Retweets', 'CATS', cat_rt)\n",
    "grouped.set_value('Favorites', 'DOGS', dog_fav)\n",
    "grouped.set_value('Retweets', 'DOGS', dog_rt)\n",
    "\n",
    "grouped.plot.bar(figsize=(4,10))\n",
    "plt.show()"
   ]
  },
  {
   "cell_type": "markdown",
   "metadata": {},
   "source": [
    "### The number of favorites vs. the number of retweets, is so different you have to make the height 50 before you even see anything for the favorites, so why not take a closer look with two graphs?.. but this time using total sums instead of means..."
   ]
  },
  {
   "cell_type": "code",
   "execution_count": 11,
   "metadata": {
    "collapsed": true
   },
   "outputs": [],
   "source": [
    "#let's take a closer look at that, shall we?\n",
    "#getting sums\n",
    "cat_fav_total = tcat_df['tweetFavoriteCt'].sum()\n",
    "cat_rt_total = tcat_df['tweetRetweetCt'].sum()\n",
    "\n",
    "dog_fav_total = tdog_df['tweetFavoriteCt'].sum()\n",
    "dog_rt_total = tdog_df['tweetRetweetCt'].sum()"
   ]
  },
  {
   "cell_type": "code",
   "execution_count": 12,
   "metadata": {},
   "outputs": [
    {
     "data": {
      "text/html": [
       "<div>\n",
       "<style>\n",
       "    .dataframe thead tr:only-child th {\n",
       "        text-align: right;\n",
       "    }\n",
       "\n",
       "    .dataframe thead th {\n",
       "        text-align: left;\n",
       "    }\n",
       "\n",
       "    .dataframe tbody tr th {\n",
       "        vertical-align: top;\n",
       "    }\n",
       "</style>\n",
       "<table border=\"1\" class=\"dataframe\">\n",
       "  <thead>\n",
       "    <tr style=\"text-align: right;\">\n",
       "      <th></th>\n",
       "      <th>CATS</th>\n",
       "      <th>DOGS</th>\n",
       "    </tr>\n",
       "  </thead>\n",
       "  <tbody>\n",
       "    <tr>\n",
       "      <th>Favorites</th>\n",
       "      <td>3838</td>\n",
       "      <td>NaN</td>\n",
       "    </tr>\n",
       "  </tbody>\n",
       "</table>\n",
       "</div>"
      ],
      "text/plain": [
       "           CATS DOGS\n",
       "Favorites  3838  NaN"
      ]
     },
     "execution_count": 12,
     "metadata": {},
     "output_type": "execute_result"
    },
    {
     "data": {
      "text/html": [
       "<div>\n",
       "<style>\n",
       "    .dataframe thead tr:only-child th {\n",
       "        text-align: right;\n",
       "    }\n",
       "\n",
       "    .dataframe thead th {\n",
       "        text-align: left;\n",
       "    }\n",
       "\n",
       "    .dataframe tbody tr th {\n",
       "        vertical-align: top;\n",
       "    }\n",
       "</style>\n",
       "<table border=\"1\" class=\"dataframe\">\n",
       "  <thead>\n",
       "    <tr style=\"text-align: right;\">\n",
       "      <th></th>\n",
       "      <th>CATS</th>\n",
       "      <th>DOGS</th>\n",
       "    </tr>\n",
       "  </thead>\n",
       "  <tbody>\n",
       "    <tr>\n",
       "      <th>Retweets</th>\n",
       "      <td>12010831</td>\n",
       "      <td>NaN</td>\n",
       "    </tr>\n",
       "  </tbody>\n",
       "</table>\n",
       "</div>"
      ],
      "text/plain": [
       "              CATS DOGS\n",
       "Retweets  12010831  NaN"
      ]
     },
     "execution_count": 12,
     "metadata": {},
     "output_type": "execute_result"
    },
    {
     "data": {
      "text/html": [
       "<div>\n",
       "<style>\n",
       "    .dataframe thead tr:only-child th {\n",
       "        text-align: right;\n",
       "    }\n",
       "\n",
       "    .dataframe thead th {\n",
       "        text-align: left;\n",
       "    }\n",
       "\n",
       "    .dataframe tbody tr th {\n",
       "        vertical-align: top;\n",
       "    }\n",
       "</style>\n",
       "<table border=\"1\" class=\"dataframe\">\n",
       "  <thead>\n",
       "    <tr style=\"text-align: right;\">\n",
       "      <th></th>\n",
       "      <th>CATS</th>\n",
       "      <th>DOGS</th>\n",
       "    </tr>\n",
       "  </thead>\n",
       "  <tbody>\n",
       "    <tr>\n",
       "      <th>Favorites</th>\n",
       "      <td>3838</td>\n",
       "      <td>10625</td>\n",
       "    </tr>\n",
       "  </tbody>\n",
       "</table>\n",
       "</div>"
      ],
      "text/plain": [
       "           CATS   DOGS\n",
       "Favorites  3838  10625"
      ]
     },
     "execution_count": 12,
     "metadata": {},
     "output_type": "execute_result"
    },
    {
     "data": {
      "text/html": [
       "<div>\n",
       "<style>\n",
       "    .dataframe thead tr:only-child th {\n",
       "        text-align: right;\n",
       "    }\n",
       "\n",
       "    .dataframe thead th {\n",
       "        text-align: left;\n",
       "    }\n",
       "\n",
       "    .dataframe tbody tr th {\n",
       "        vertical-align: top;\n",
       "    }\n",
       "</style>\n",
       "<table border=\"1\" class=\"dataframe\">\n",
       "  <thead>\n",
       "    <tr style=\"text-align: right;\">\n",
       "      <th></th>\n",
       "      <th>CATS</th>\n",
       "      <th>DOGS</th>\n",
       "    </tr>\n",
       "  </thead>\n",
       "  <tbody>\n",
       "    <tr>\n",
       "      <th>Retweets</th>\n",
       "      <td>12010831</td>\n",
       "      <td>564744</td>\n",
       "    </tr>\n",
       "  </tbody>\n",
       "</table>\n",
       "</div>"
      ],
      "text/plain": [
       "              CATS    DOGS\n",
       "Retweets  12010831  564744"
      ]
     },
     "execution_count": 12,
     "metadata": {},
     "output_type": "execute_result"
    },
    {
     "data": {
      "text/plain": [
       "<matplotlib.axes._subplots.AxesSubplot at 0x1158091d0>"
      ]
     },
     "execution_count": 12,
     "metadata": {},
     "output_type": "execute_result"
    },
    {
     "data": {
      "image/png": "[encoded data removed]",
      "text/plain": [
       "<matplotlib.figure.Figure at 0x115809a90>"
      ]
     },
     "metadata": {},
     "output_type": "display_data"
    },
    {
     "data": {
      "text/plain": [
       "<matplotlib.axes._subplots.AxesSubplot at 0x115ee06a0>"
      ]
     },
     "execution_count": 12,
     "metadata": {},
     "output_type": "execute_result"
    },
    {
     "data": {
      "image/png": "[encoded data removed]",
      "text/plain": [
       "<matplotlib.figure.Figure at 0x115ef6940>"
      ]
     },
     "metadata": {},
     "output_type": "display_data"
    }
   ],
   "source": [
    "# okay, now for the bar graph, again\n",
    "fav = pd.DataFrame(columns = ['CATS', 'DOGS'])\n",
    "rt = pd.DataFrame(columns = ['CATS', 'DOGS'])\n",
    "fav.set_value('Favorites', 'CATS', cat_fav_total)\n",
    "rt.set_value('Retweets', 'CATS', cat_rt_total)\n",
    "fav.set_value('Favorites', 'DOGS', dog_fav_total)\n",
    "rt.set_value('Retweets', 'DOGS', dog_rt_total)\n",
    "\n",
    "fav.plot.bar(figsize=(4,4))\n",
    "plt.show()\n",
    "rt.plot.bar(figsize=(4,4))\n",
    "plt.show()"
   ]
  },
  {
   "cell_type": "code",
   "execution_count": 13,
   "metadata": {},
   "outputs": [
    {
     "data": {
      "text/plain": [
       "26.536679803636865"
      ]
     },
     "execution_count": 13,
     "metadata": {},
     "output_type": "execute_result"
    },
    {
     "data": {
      "text/plain": [
       "73.46332019636314"
      ]
     },
     "execution_count": 13,
     "metadata": {},
     "output_type": "execute_result"
    },
    {
     "data": {
      "text/plain": [
       "95.50919938054523"
      ]
     },
     "execution_count": 13,
     "metadata": {},
     "output_type": "execute_result"
    },
    {
     "data": {
      "text/plain": [
       "4.4908006194547765"
      ]
     },
     "execution_count": 13,
     "metadata": {},
     "output_type": "execute_result"
    },
    {
     "data": {
      "text/plain": [
       "([<matplotlib.patches.Wedge at 0x115f155c0>,\n",
       "  <matplotlib.patches.Wedge at 0x116046a58>],\n",
       " [<matplotlib.text.Text at 0x11603ff28>,\n",
       "  <matplotlib.text.Text at 0x11604e828>],\n",
       " [<matplotlib.text.Text at 0x1160464e0>,\n",
       "  <matplotlib.text.Text at 0x11604eda0>])"
      ]
     },
     "execution_count": 13,
     "metadata": {},
     "output_type": "execute_result"
    },
    {
     "data": {
      "text/plain": [
       "(-1.1878715515438656,\n",
       " 1.1231293190766627,\n",
       " -1.1205800752252828,\n",
       " 1.1713967424617027)"
      ]
     },
     "execution_count": 13,
     "metadata": {},
     "output_type": "execute_result"
    },
    {
     "data": {
      "image/png": "[encoded data removed]",
      "text/plain": [
       "<matplotlib.figure.Figure at 0x115f15f98>"
      ]
     },
     "metadata": {},
     "output_type": "display_data"
    },
    {
     "data": {
      "text/plain": [
       "([<matplotlib.patches.Wedge at 0x116098c88>,\n",
       "  <matplotlib.patches.Wedge at 0x1163339e8>],\n",
       " [<matplotlib.text.Text at 0x11632ceb8>,\n",
       "  <matplotlib.text.Text at 0x1161397b8>],\n",
       " [<matplotlib.text.Text at 0x116333470>,\n",
       "  <matplotlib.text.Text at 0x116139d30>])"
      ]
     },
     "execution_count": 13,
     "metadata": {},
     "output_type": "execute_result"
    },
    {
     "data": {
      "text/plain": [
       "(-1.1210833933672508,\n",
       " 1.0936852457730111,\n",
       " -1.2120371100431815,\n",
       " 1.1053351074001636)"
      ]
     },
     "execution_count": 13,
     "metadata": {},
     "output_type": "execute_result"
    },
    {
     "data": {
      "image/png": "[encoded data removed]",
      "text/plain": [
       "<matplotlib.figure.Figure at 0x116098c18>"
      ]
     },
     "metadata": {},
     "output_type": "display_data"
    }
   ],
   "source": [
    "#figuring out percents\n",
    "cd_fav_sum = cat_fav_total + dog_fav_total\n",
    "cd_rt_sum = cat_rt_total + dog_rt_total\n",
    "\n",
    "cat_fav_per = (cat_fav_total/cd_fav_sum)*100\n",
    "cat_fav_per\n",
    "dog_fav_per = (dog_fav_total/cd_fav_sum)*100\n",
    "dog_fav_per\n",
    "\n",
    "cat_rt_per = (cat_rt_total/cd_rt_sum)*100\n",
    "cat_rt_per\n",
    "dog_rt_per = (dog_rt_total/cd_rt_sum)*100\n",
    "dog_rt_per\n",
    "\n",
    "#pie charts\n",
    "\n",
    "# Pie chart, where the slices will be ordered and plotted counter-clockwise:\n",
    "labels = ['CATS','DOGS']\n",
    "sizes = [cat_fav_per, dog_fav_per]\n",
    "explode = (0.1, 0)\n",
    "\n",
    "fig1, ax1 = plt.subplots()\n",
    "ax1.pie(sizes, explode=explode, labels=labels, autopct='%1.1f%%',\n",
    "        shadow=True, startangle=90)\n",
    "ax1.axis('equal')  # Equal aspect ratio ensures that pie is drawn as a circle.\n",
    "\n",
    "plt.show()\n",
    "\n",
    "labels = ['CATS','DOGS']\n",
    "sizes = [cat_rt_per, dog_rt_per]\n",
    "explode = (0.1, 0)\n",
    "\n",
    "fig1, ax1 = plt.subplots()\n",
    "ax1.pie(sizes, explode=explode, labels=labels, autopct='%1.1f%%',\n",
    "        shadow=True, startangle=90)\n",
    "ax1.axis('equal')  # Equal aspect ratio ensures that pie is drawn as a circle.\n",
    "\n",
    "plt.show()"
   ]
  },
  {
   "cell_type": "markdown",
   "metadata": {},
   "source": [
    "### It loks like dog posts are more likely to be favorites on average than cat posts on Twitter, but cat posts are more likelt to be retweeted? - this is an interesting change \n",
    "### It is also clear that retweeting is much more common than favoriting posts"
   ]
  },
  {
   "cell_type": "markdown",
   "metadata": {},
   "source": [
    "## Let's look at location and find the most popular place(s) for cat posts vs. dog posts"
   ]
  },
  {
   "cell_type": "code",
   "execution_count": 84,
   "metadata": {},
   "outputs": [
    {
     "data": {
      "text/html": [
       "<div>\n",
       "<style>\n",
       "    .dataframe thead tr:only-child th {\n",
       "        text-align: right;\n",
       "    }\n",
       "\n",
       "    .dataframe thead th {\n",
       "        text-align: left;\n",
       "    }\n",
       "\n",
       "    .dataframe tbody tr th {\n",
       "        vertical-align: top;\n",
       "    }\n",
       "</style>\n",
       "<table border=\"1\" class=\"dataframe\">\n",
       "  <thead>\n",
       "    <tr style=\"text-align: right;\">\n",
       "      <th></th>\n",
       "      <th>Hashtag</th>\n",
       "      <th>tweetCreated</th>\n",
       "      <th>tweetFavoriteCt</th>\n",
       "      <th>tweetID</th>\n",
       "      <th>tweetRetweetCt</th>\n",
       "      <th>tweetSource</th>\n",
       "      <th>userID</th>\n",
       "      <th>userLocation</th>\n",
       "      <th>userName</th>\n",
       "      <th>userScreen</th>\n",
       "      <th>userTimezone</th>\n",
       "    </tr>\n",
       "  </thead>\n",
       "  <tbody>\n",
       "    <tr>\n",
       "      <th>0</th>\n",
       "      <td>cat</td>\n",
       "      <td>2017-11-19 04:09:14</td>\n",
       "      <td>0</td>\n",
       "      <td>932098414392893440</td>\n",
       "      <td>5</td>\n",
       "      <td>Tweedle-deee</td>\n",
       "      <td>771578403300401153</td>\n",
       "      <td>Los Angeles, CA</td>\n",
       "      <td>Daily Cat Fill</td>\n",
       "      <td>DailyCatFill</td>\n",
       "      <td>Pacific Time (US &amp; Canada)</td>\n",
       "    </tr>\n",
       "    <tr>\n",
       "      <th>5</th>\n",
       "      <td>cat</td>\n",
       "      <td>2017-11-19 04:09:07</td>\n",
       "      <td>0</td>\n",
       "      <td>932098385665855488</td>\n",
       "      <td>0</td>\n",
       "      <td>twittbot.net</td>\n",
       "      <td>817971712767574023</td>\n",
       "      <td>NaN</td>\n",
       "      <td>cat movie 博士の猫動画&amp;画像</td>\n",
       "      <td>irohamovie</td>\n",
       "      <td>Pacific Time (US &amp; Canada)</td>\n",
       "    </tr>\n",
       "    <tr>\n",
       "      <th>7</th>\n",
       "      <td>cat</td>\n",
       "      <td>2017-11-19 04:09:05</td>\n",
       "      <td>0</td>\n",
       "      <td>932098375889043456</td>\n",
       "      <td>1</td>\n",
       "      <td>CatBot13</td>\n",
       "      <td>911431574058602496</td>\n",
       "      <td>America</td>\n",
       "      <td>CatBot</td>\n",
       "      <td>CatBot13</td>\n",
       "      <td>Eastern Time (US &amp; Canada)</td>\n",
       "    </tr>\n",
       "    <tr>\n",
       "      <th>8</th>\n",
       "      <td>cat</td>\n",
       "      <td>2017-11-19 04:09:04</td>\n",
       "      <td>0</td>\n",
       "      <td>932098374362214401</td>\n",
       "      <td>2</td>\n",
       "      <td>Twitter for Android</td>\n",
       "      <td>179379870</td>\n",
       "      <td>Beautiful British Columbia</td>\n",
       "      <td>(⌐■_■)</td>\n",
       "      <td>Al_SportsLover</td>\n",
       "      <td>Pacific Time (US &amp; Canada)</td>\n",
       "    </tr>\n",
       "    <tr>\n",
       "      <th>9</th>\n",
       "      <td>cat</td>\n",
       "      <td>2017-11-19 04:09:04</td>\n",
       "      <td>0</td>\n",
       "      <td>932098372344975361</td>\n",
       "      <td>1</td>\n",
       "      <td>Just Love Kawaii</td>\n",
       "      <td>917714684119257090</td>\n",
       "      <td>NaN</td>\n",
       "      <td>Just Love Kawaii</td>\n",
       "      <td>JustLoveKawaii</td>\n",
       "      <td>Pacific Time (US &amp; Canada)</td>\n",
       "    </tr>\n",
       "  </tbody>\n",
       "</table>\n",
       "</div>"
      ],
      "text/plain": [
       "  Hashtag         tweetCreated  tweetFavoriteCt             tweetID  \\\n",
       "0     cat  2017-11-19 04:09:14                0  932098414392893440   \n",
       "5     cat  2017-11-19 04:09:07                0  932098385665855488   \n",
       "7     cat  2017-11-19 04:09:05                0  932098375889043456   \n",
       "8     cat  2017-11-19 04:09:04                0  932098374362214401   \n",
       "9     cat  2017-11-19 04:09:04                0  932098372344975361   \n",
       "\n",
       "   tweetRetweetCt          tweetSource              userID  \\\n",
       "0               5         Tweedle-deee  771578403300401153   \n",
       "5               0         twittbot.net  817971712767574023   \n",
       "7               1             CatBot13  911431574058602496   \n",
       "8               2  Twitter for Android           179379870   \n",
       "9               1     Just Love Kawaii  917714684119257090   \n",
       "\n",
       "                  userLocation             userName      userScreen  \\\n",
       "0              Los Angeles, CA       Daily Cat Fill    DailyCatFill   \n",
       "5                          NaN  cat movie 博士の猫動画&画像      irohamovie   \n",
       "7                      America               CatBot        CatBot13   \n",
       "8  Beautiful British Columbia                (⌐■_■)  Al_SportsLover   \n",
       "9                          NaN     Just Love Kawaii  JustLoveKawaii   \n",
       "\n",
       "                 userTimezone  \n",
       "0  Pacific Time (US & Canada)  \n",
       "5  Pacific Time (US & Canada)  \n",
       "7  Eastern Time (US & Canada)  \n",
       "8  Pacific Time (US & Canada)  \n",
       "9  Pacific Time (US & Canada)  "
      ]
     },
     "execution_count": 84,
     "metadata": {},
     "output_type": "execute_result"
    },
    {
     "data": {
      "text/plain": [
       "37136"
      ]
     },
     "execution_count": 84,
     "metadata": {},
     "output_type": "execute_result"
    }
   ],
   "source": [
    "timecat_df = tcat_df[tcat_df.userTimezone.notnull()]\n",
    "timecat_df = timecat_df[['Hashtag', 'tweetCreated', 'tweetFavoriteCt', 'tweetID', 'tweetRetweetCt', 'tweetSource', \n",
    "                         'userID', 'userLocation', 'userName', 'userScreen', 'userTimezone']]\n",
    "timecat_df.head()\n",
    "timecat_df.size"
   ]
  },
  {
   "cell_type": "code",
   "execution_count": 26,
   "metadata": {},
   "outputs": [
    {
     "data": {
      "text/html": [
       "<div>\n",
       "<style>\n",
       "    .dataframe thead tr:only-child th {\n",
       "        text-align: right;\n",
       "    }\n",
       "\n",
       "    .dataframe thead th {\n",
       "        text-align: left;\n",
       "    }\n",
       "\n",
       "    .dataframe tbody tr th {\n",
       "        vertical-align: top;\n",
       "    }\n",
       "</style>\n",
       "<table border=\"1\" class=\"dataframe\">\n",
       "  <thead>\n",
       "    <tr style=\"text-align: right;\">\n",
       "      <th></th>\n",
       "      <th>tweetRetweetCt</th>\n",
       "      <th>tweetFavoriteCt</th>\n",
       "    </tr>\n",
       "    <tr>\n",
       "      <th>userLocation</th>\n",
       "      <th></th>\n",
       "      <th></th>\n",
       "    </tr>\n",
       "  </thead>\n",
       "  <tbody>\n",
       "    <tr>\n",
       "      <th>Oregon Coast</th>\n",
       "      <td>3.0</td>\n",
       "      <td>0.0</td>\n",
       "    </tr>\n",
       "    <tr>\n",
       "      <th>Lahore, Punjab, Pakistan</th>\n",
       "      <td>18517.0</td>\n",
       "      <td>0.0</td>\n",
       "    </tr>\n",
       "    <tr>\n",
       "      <th>Last Tango in Wentworth, UK</th>\n",
       "      <td>0.0</td>\n",
       "      <td>0.0</td>\n",
       "    </tr>\n",
       "    <tr>\n",
       "      <th>PENNSYLVANIA</th>\n",
       "      <td>3.0</td>\n",
       "      <td>0.0</td>\n",
       "    </tr>\n",
       "    <tr>\n",
       "      <th>UK</th>\n",
       "      <td>0.0</td>\n",
       "      <td>0.0</td>\n",
       "    </tr>\n",
       "  </tbody>\n",
       "</table>\n",
       "</div>"
      ],
      "text/plain": [
       "                                tweetRetweetCt  tweetFavoriteCt\n",
       "userLocation                                                   \n",
       "                  Oregon Coast             3.0              0.0\n",
       " Lahore, Punjab, Pakistan              18517.0              0.0\n",
       " Last Tango in Wentworth, UK               0.0              0.0\n",
       " PENNSYLVANIA                              3.0              0.0\n",
       " UK                                        0.0              0.0"
      ]
     },
     "execution_count": 26,
     "metadata": {},
     "output_type": "execute_result"
    }
   ],
   "source": [
    "#Get rid of none values for the timezone\n",
    "pop_cat = timecat_df.groupby('userLocation')[['tweetRetweetCt', 'tweetFavoriteCt']].mean()\n",
    "pop_cat.head()"
   ]
  },
  {
   "cell_type": "code",
   "execution_count": 60,
   "metadata": {},
   "outputs": [
    {
     "data": {
      "text/html": [
       "<div>\n",
       "<style>\n",
       "    .dataframe thead tr:only-child th {\n",
       "        text-align: right;\n",
       "    }\n",
       "\n",
       "    .dataframe thead th {\n",
       "        text-align: left;\n",
       "    }\n",
       "\n",
       "    .dataframe tbody tr th {\n",
       "        vertical-align: top;\n",
       "    }\n",
       "</style>\n",
       "<table border=\"1\" class=\"dataframe\">\n",
       "  <thead>\n",
       "    <tr style=\"text-align: right;\">\n",
       "      <th></th>\n",
       "      <th>tweetRetweetCt</th>\n",
       "      <th>tweetFavoriteCt</th>\n",
       "    </tr>\n",
       "  </thead>\n",
       "  <tbody>\n",
       "    <tr>\n",
       "      <th>count</th>\n",
       "      <td>1159.000000</td>\n",
       "      <td>1159.000000</td>\n",
       "    </tr>\n",
       "    <tr>\n",
       "      <th>mean</th>\n",
       "      <td>4478.327529</td>\n",
       "      <td>0.365175</td>\n",
       "    </tr>\n",
       "    <tr>\n",
       "      <th>std</th>\n",
       "      <td>7904.801218</td>\n",
       "      <td>1.834889</td>\n",
       "    </tr>\n",
       "    <tr>\n",
       "      <th>min</th>\n",
       "      <td>0.000000</td>\n",
       "      <td>0.000000</td>\n",
       "    </tr>\n",
       "    <tr>\n",
       "      <th>25%</th>\n",
       "      <td>0.000000</td>\n",
       "      <td>0.000000</td>\n",
       "    </tr>\n",
       "    <tr>\n",
       "      <th>50%</th>\n",
       "      <td>3.000000</td>\n",
       "      <td>0.000000</td>\n",
       "    </tr>\n",
       "    <tr>\n",
       "      <th>75%</th>\n",
       "      <td>4630.125000</td>\n",
       "      <td>0.000000</td>\n",
       "    </tr>\n",
       "    <tr>\n",
       "      <th>max</th>\n",
       "      <td>38138.000000</td>\n",
       "      <td>30.000000</td>\n",
       "    </tr>\n",
       "  </tbody>\n",
       "</table>\n",
       "</div>"
      ],
      "text/plain": [
       "       tweetRetweetCt  tweetFavoriteCt\n",
       "count     1159.000000      1159.000000\n",
       "mean      4478.327529         0.365175\n",
       "std       7904.801218         1.834889\n",
       "min          0.000000         0.000000\n",
       "25%          0.000000         0.000000\n",
       "50%          3.000000         0.000000\n",
       "75%       4630.125000         0.000000\n",
       "max      38138.000000        30.000000"
      ]
     },
     "execution_count": 60,
     "metadata": {},
     "output_type": "execute_result"
    }
   ],
   "source": [
    "pop_cat.describe()"
   ]
  },
  {
   "cell_type": "code",
   "execution_count": 99,
   "metadata": {},
   "outputs": [
    {
     "data": {
      "text/html": [
       "<div>\n",
       "<style>\n",
       "    .dataframe thead tr:only-child th {\n",
       "        text-align: right;\n",
       "    }\n",
       "\n",
       "    .dataframe thead th {\n",
       "        text-align: left;\n",
       "    }\n",
       "\n",
       "    .dataframe tbody tr th {\n",
       "        vertical-align: top;\n",
       "    }\n",
       "</style>\n",
       "<table border=\"1\" class=\"dataframe\">\n",
       "  <thead>\n",
       "    <tr style=\"text-align: right;\">\n",
       "      <th></th>\n",
       "      <th>Hashtag</th>\n",
       "      <th>tweetCreated</th>\n",
       "      <th>tweetFavoriteCt</th>\n",
       "      <th>tweetID</th>\n",
       "      <th>tweetRetweetCt</th>\n",
       "      <th>tweetSource</th>\n",
       "      <th>userID</th>\n",
       "      <th>userLocation</th>\n",
       "      <th>userName</th>\n",
       "      <th>userScreen</th>\n",
       "      <th>userTimezone</th>\n",
       "    </tr>\n",
       "  </thead>\n",
       "  <tbody>\n",
       "    <tr>\n",
       "      <th>0</th>\n",
       "      <td>dog</td>\n",
       "      <td>2017-11-19 04:07:57</td>\n",
       "      <td>0</td>\n",
       "      <td>932098092425396224</td>\n",
       "      <td>30</td>\n",
       "      <td>Twitter for iPhone</td>\n",
       "      <td>1277021305</td>\n",
       "      <td>氷の中</td>\n",
       "      <td>柳生ジル</td>\n",
       "      <td>etude_nine</td>\n",
       "      <td>Irkutsk</td>\n",
       "    </tr>\n",
       "    <tr>\n",
       "      <th>1</th>\n",
       "      <td>dog</td>\n",
       "      <td>2017-11-19 04:07:14</td>\n",
       "      <td>0</td>\n",
       "      <td>932097913932488704</td>\n",
       "      <td>0</td>\n",
       "      <td>twittbot.net</td>\n",
       "      <td>741912323556675584</td>\n",
       "      <td>United States</td>\n",
       "      <td>Dog Food for A to Z</td>\n",
       "      <td>dogfoodforatoz</td>\n",
       "      <td>Pacific Time (US &amp; Canada)</td>\n",
       "    </tr>\n",
       "    <tr>\n",
       "      <th>2</th>\n",
       "      <td>dog</td>\n",
       "      <td>2017-11-19 04:07:03</td>\n",
       "      <td>0</td>\n",
       "      <td>932097867178655744</td>\n",
       "      <td>0</td>\n",
       "      <td>dlvr.it</td>\n",
       "      <td>1402068510</td>\n",
       "      <td>NaN</td>\n",
       "      <td>The Pets World</td>\n",
       "      <td>MabyMema</td>\n",
       "      <td>Casablanca</td>\n",
       "    </tr>\n",
       "    <tr>\n",
       "      <th>3</th>\n",
       "      <td>dog</td>\n",
       "      <td>2017-11-19 04:06:46</td>\n",
       "      <td>0</td>\n",
       "      <td>932097793547649024</td>\n",
       "      <td>0</td>\n",
       "      <td>Instagram</td>\n",
       "      <td>239202335</td>\n",
       "      <td>Laplace, La</td>\n",
       "      <td>COURTNEY S. WILSON</td>\n",
       "      <td>PUTTY2000</td>\n",
       "      <td>Pacific Time (US &amp; Canada)</td>\n",
       "    </tr>\n",
       "    <tr>\n",
       "      <th>4</th>\n",
       "      <td>dog</td>\n",
       "      <td>2017-11-19 04:06:44</td>\n",
       "      <td>0</td>\n",
       "      <td>932097786304258048</td>\n",
       "      <td>0</td>\n",
       "      <td>IFTTT</td>\n",
       "      <td>11497892</td>\n",
       "      <td>東京</td>\n",
       "      <td>デカチワ</td>\n",
       "      <td>dekachiwa</td>\n",
       "      <td>Tokyo</td>\n",
       "    </tr>\n",
       "  </tbody>\n",
       "</table>\n",
       "</div>"
      ],
      "text/plain": [
       "  Hashtag         tweetCreated  tweetFavoriteCt             tweetID  \\\n",
       "0     dog  2017-11-19 04:07:57                0  932098092425396224   \n",
       "1     dog  2017-11-19 04:07:14                0  932097913932488704   \n",
       "2     dog  2017-11-19 04:07:03                0  932097867178655744   \n",
       "3     dog  2017-11-19 04:06:46                0  932097793547649024   \n",
       "4     dog  2017-11-19 04:06:44                0  932097786304258048   \n",
       "\n",
       "   tweetRetweetCt         tweetSource              userID   userLocation  \\\n",
       "0              30  Twitter for iPhone          1277021305            氷の中   \n",
       "1               0        twittbot.net  741912323556675584  United States   \n",
       "2               0             dlvr.it          1402068510            NaN   \n",
       "3               0           Instagram           239202335    Laplace, La   \n",
       "4               0               IFTTT            11497892             東京   \n",
       "\n",
       "              userName      userScreen                userTimezone  \n",
       "0                 柳生ジル      etude_nine                     Irkutsk  \n",
       "1  Dog Food for A to Z  dogfoodforatoz  Pacific Time (US & Canada)  \n",
       "2       The Pets World        MabyMema                  Casablanca  \n",
       "3   COURTNEY S. WILSON       PUTTY2000  Pacific Time (US & Canada)  \n",
       "4                 デカチワ       dekachiwa                       Tokyo  "
      ]
     },
     "execution_count": 99,
     "metadata": {},
     "output_type": "execute_result"
    },
    {
     "data": {
      "text/plain": [
       "88869"
      ]
     },
     "execution_count": 99,
     "metadata": {},
     "output_type": "execute_result"
    }
   ],
   "source": [
    "timedog_df = tdog_df[tdog_df.userTimezone.notnull()]\n",
    "timedog_df = timedog_df[['Hashtag', 'tweetCreated', 'tweetFavoriteCt', 'tweetID', 'tweetRetweetCt', 'tweetSource', \n",
    "                         'userID', 'userLocation', 'userName', 'userScreen', 'userTimezone']]\n",
    "timedog_df.head()\n",
    "timedog_df.size"
   ]
  },
  {
   "cell_type": "code",
   "execution_count": 98,
   "metadata": {},
   "outputs": [
    {
     "data": {
      "text/html": [
       "<div>\n",
       "<style>\n",
       "    .dataframe thead tr:only-child th {\n",
       "        text-align: right;\n",
       "    }\n",
       "\n",
       "    .dataframe thead th {\n",
       "        text-align: left;\n",
       "    }\n",
       "\n",
       "    .dataframe tbody tr th {\n",
       "        vertical-align: top;\n",
       "    }\n",
       "</style>\n",
       "<table border=\"1\" class=\"dataframe\">\n",
       "  <thead>\n",
       "    <tr style=\"text-align: right;\">\n",
       "      <th></th>\n",
       "      <th>tweetRetweetCt</th>\n",
       "      <th>tweetFavoriteCt</th>\n",
       "    </tr>\n",
       "    <tr>\n",
       "      <th>userLocation</th>\n",
       "      <th></th>\n",
       "      <th></th>\n",
       "    </tr>\n",
       "  </thead>\n",
       "  <tbody>\n",
       "    <tr>\n",
       "      <th>Oregon Coast</th>\n",
       "      <td>3.0</td>\n",
       "      <td>0.0</td>\n",
       "    </tr>\n",
       "    <tr>\n",
       "      <th>Mesa, AZ</th>\n",
       "      <td>9.0</td>\n",
       "      <td>0.0</td>\n",
       "    </tr>\n",
       "    <tr>\n",
       "      <th>19° 1'3.41N,  72°51'22.19E</th>\n",
       "      <td>3.0</td>\n",
       "      <td>0.0</td>\n",
       "    </tr>\n",
       "    <tr>\n",
       "      <th>Arizona</th>\n",
       "      <td>3.0</td>\n",
       "      <td>0.0</td>\n",
       "    </tr>\n",
       "    <tr>\n",
       "      <th>Colorado now - Heaven Bound</th>\n",
       "      <td>6.0</td>\n",
       "      <td>0.0</td>\n",
       "    </tr>\n",
       "  </tbody>\n",
       "</table>\n",
       "</div>"
      ],
      "text/plain": [
       "                                tweetRetweetCt  tweetFavoriteCt\n",
       "userLocation                                                   \n",
       "                  Oregon Coast             3.0              0.0\n",
       "  Mesa, AZ                                 9.0              0.0\n",
       " 19° 1'3.41N,  72°51'22.19E                3.0              0.0\n",
       " Arizona                                   3.0              0.0\n",
       " Colorado now - Heaven Bound               6.0              0.0"
      ]
     },
     "execution_count": 98,
     "metadata": {},
     "output_type": "execute_result"
    }
   ],
   "source": [
    "pop_dog = timedog_df.groupby('userLocation')[['tweetRetweetCt', 'tweetFavoriteCt']].mean()\n",
    "pop_dog.head()"
   ]
  },
  {
   "cell_type": "code",
   "execution_count": 30,
   "metadata": {},
   "outputs": [
    {
     "data": {
      "text/html": [
       "<div>\n",
       "<style>\n",
       "    .dataframe thead tr:only-child th {\n",
       "        text-align: right;\n",
       "    }\n",
       "\n",
       "    .dataframe thead th {\n",
       "        text-align: left;\n",
       "    }\n",
       "\n",
       "    .dataframe tbody tr th {\n",
       "        vertical-align: top;\n",
       "    }\n",
       "</style>\n",
       "<table border=\"1\" class=\"dataframe\">\n",
       "  <thead>\n",
       "    <tr style=\"text-align: right;\">\n",
       "      <th></th>\n",
       "      <th>tweetRetweetCt</th>\n",
       "      <th>tweetFavoriteCt</th>\n",
       "    </tr>\n",
       "  </thead>\n",
       "  <tbody>\n",
       "    <tr>\n",
       "      <th>count</th>\n",
       "      <td>1742.000000</td>\n",
       "      <td>1742.000000</td>\n",
       "    </tr>\n",
       "    <tr>\n",
       "      <th>mean</th>\n",
       "      <td>41.941208</td>\n",
       "      <td>0.814792</td>\n",
       "    </tr>\n",
       "    <tr>\n",
       "      <th>std</th>\n",
       "      <td>271.277113</td>\n",
       "      <td>4.614692</td>\n",
       "    </tr>\n",
       "    <tr>\n",
       "      <th>min</th>\n",
       "      <td>0.000000</td>\n",
       "      <td>0.000000</td>\n",
       "    </tr>\n",
       "    <tr>\n",
       "      <th>25%</th>\n",
       "      <td>0.000000</td>\n",
       "      <td>0.000000</td>\n",
       "    </tr>\n",
       "    <tr>\n",
       "      <th>50%</th>\n",
       "      <td>0.720779</td>\n",
       "      <td>0.000000</td>\n",
       "    </tr>\n",
       "    <tr>\n",
       "      <th>75%</th>\n",
       "      <td>8.000000</td>\n",
       "      <td>0.302198</td>\n",
       "    </tr>\n",
       "    <tr>\n",
       "      <th>max</th>\n",
       "      <td>6110.000000</td>\n",
       "      <td>123.000000</td>\n",
       "    </tr>\n",
       "  </tbody>\n",
       "</table>\n",
       "</div>"
      ],
      "text/plain": [
       "       tweetRetweetCt  tweetFavoriteCt\n",
       "count     1742.000000      1742.000000\n",
       "mean        41.941208         0.814792\n",
       "std        271.277113         4.614692\n",
       "min          0.000000         0.000000\n",
       "25%          0.000000         0.000000\n",
       "50%          0.720779         0.000000\n",
       "75%          8.000000         0.302198\n",
       "max       6110.000000       123.000000"
      ]
     },
     "execution_count": 30,
     "metadata": {},
     "output_type": "execute_result"
    }
   ],
   "source": [
    "pop_dog.describe()"
   ]
  },
  {
   "cell_type": "markdown",
   "metadata": {},
   "source": [
    "#### What can we gather from this so far:\n",
    "- dogs are retweeted more often than cats, but cats are liked more (Nov, 5) (THIS CHANGED SUDDENLY)  \n",
    "    -just kidding. cats are retweeted more and dogs are favorited more. (Anytime after Nov, 10)  \n",
    "    -with old data the above was true but now it is false, that is very interesting.\n",
    "- cat mean: rt: 4478, fav: 0.36\n",
    "- dog mean: rt: 41.7, fav: 0.81\n",
    "- it looks like the cat df has at least 1 extremely popular post with over 30,000 rt\n",
    "- the most popular dog post is 1/5 of that\n",
    "\n",
    "## But let's go a little deeper"
   ]
  },
  {
   "cell_type": "code",
   "execution_count": 89,
   "metadata": {},
   "outputs": [
    {
     "data": {
      "text/plain": [
       "38138"
      ]
     },
     "execution_count": 89,
     "metadata": {},
     "output_type": "execute_result"
    },
    {
     "data": {
      "text/plain": [
       "[488, 532, 737, 831]"
      ]
     },
     "execution_count": 89,
     "metadata": {},
     "output_type": "execute_result"
    },
    {
     "data": {
      "text/plain": [
       "\"❁❁ nas's feyouncé ❁❁ \""
      ]
     },
     "execution_count": 89,
     "metadata": {},
     "output_type": "execute_result"
    },
    {
     "data": {
      "text/plain": [
       "'cat'"
      ]
     },
     "execution_count": 89,
     "metadata": {},
     "output_type": "execute_result"
    },
    {
     "data": {
      "text/plain": [
       "nan"
      ]
     },
     "execution_count": 89,
     "metadata": {},
     "output_type": "execute_result"
    },
    {
     "data": {
      "text/plain": [
       "'cat'"
      ]
     },
     "execution_count": 89,
     "metadata": {},
     "output_type": "execute_result"
    },
    {
     "data": {
      "text/plain": [
       "'singapore'"
      ]
     },
     "execution_count": 89,
     "metadata": {},
     "output_type": "execute_result"
    },
    {
     "data": {
      "text/plain": [
       "'cat'"
      ]
     },
     "execution_count": 89,
     "metadata": {},
     "output_type": "execute_result"
    },
    {
     "data": {
      "text/plain": [
       "'Singapore'"
      ]
     },
     "execution_count": 89,
     "metadata": {},
     "output_type": "execute_result"
    },
    {
     "data": {
      "text/plain": [
       "'cat'"
      ]
     },
     "execution_count": 89,
     "metadata": {},
     "output_type": "execute_result"
    }
   ],
   "source": [
    "# finding the locations of the max retweets and the hashtags (cats)\n",
    "timecat_df['tweetRetweetCt'].max()\n",
    "#the max is 38138 retweets\n",
    "timecat_df.index[timecat_df['tweetRetweetCt'] == timecat_df['tweetRetweetCt'].max()].tolist()\n",
    "# this returns a list of 4: 488, 532, 737, 831\n",
    "timecat_df['userLocation'][488] #this one os from probably portugal \n",
    "timecat_df['Hashtag'][488]      #hashtag: cat\n",
    "\n",
    "timecat_df['userLocation'][532] #this one is empty\n",
    "timecat_df['Hashtag'][532]      #hashtag: cat\n",
    "\n",
    "timecat_df['userLocation'][737] #this one is from singapore\n",
    "timecat_df['Hashtag'][737]      #hashtag: cat\n",
    "\n",
    "timecat_df['userLocation'][831] #this one is from singapore\n",
    "timecat_df['Hashtag'][831]      #hashtag: cat"
   ]
  },
  {
   "cell_type": "markdown",
   "metadata": {},
   "source": [
    "#### Noted trends: the most retweeted cat tweets seem to be from singapore, and the cat hashtag seems to be the most popular."
   ]
  },
  {
   "cell_type": "code",
   "execution_count": 92,
   "metadata": {},
   "outputs": [
    {
     "data": {
      "text/plain": [
       "6110"
      ]
     },
     "execution_count": 92,
     "metadata": {},
     "output_type": "execute_result"
    },
    {
     "data": {
      "text/plain": [
       "[3162, 3176, 3190]"
      ]
     },
     "execution_count": 92,
     "metadata": {},
     "output_type": "execute_result"
    },
    {
     "data": {
      "text/plain": [
       "nan"
      ]
     },
     "execution_count": 92,
     "metadata": {},
     "output_type": "execute_result"
    },
    {
     "data": {
      "text/plain": [
       "'dog'"
      ]
     },
     "execution_count": 92,
     "metadata": {},
     "output_type": "execute_result"
    },
    {
     "data": {
      "text/plain": [
       "'Poquoson, Virginia USA'"
      ]
     },
     "execution_count": 92,
     "metadata": {},
     "output_type": "execute_result"
    },
    {
     "data": {
      "text/plain": [
       "'dog'"
      ]
     },
     "execution_count": 92,
     "metadata": {},
     "output_type": "execute_result"
    },
    {
     "data": {
      "text/plain": [
       "'Phoenix - 85020'"
      ]
     },
     "execution_count": 92,
     "metadata": {},
     "output_type": "execute_result"
    },
    {
     "data": {
      "text/plain": [
       "'dog'"
      ]
     },
     "execution_count": 92,
     "metadata": {},
     "output_type": "execute_result"
    }
   ],
   "source": [
    "# finding the locations of the max retweets and the hashtags (dogs)\n",
    "timedog_df['tweetRetweetCt'].max()\n",
    "#the max is 6110 retweets\n",
    "timedog_df.index[timedog_df['tweetRetweetCt'] == timedog_df['tweetRetweetCt'].max()].tolist()\n",
    "# this returns a list of 3: 3162, 3176, 3190\n",
    "timedog_df['userLocation'][3162] #this one is empty\n",
    "timedog_df['Hashtag'][3162]      #hashtag: dog\n",
    "\n",
    "timedog_df['userLocation'][3176] #this one is from Poquoson, Virginia\n",
    "timedog_df['Hashtag'][3176]      #hashtag: dog\n",
    "\n",
    "timedog_df['userLocation'][3190] #this one is from Phoenix, Arizona\n",
    "timedog_df['Hashtag'][3190]      #hashtag: dog"
   ]
  },
  {
   "cell_type": "markdown",
   "metadata": {},
   "source": [
    "#### Noted trends: Popularly retweeted dog tweets seem to come from America and dog seems to be the prefered hashtag"
   ]
  },
  {
   "cell_type": "code",
   "execution_count": 94,
   "metadata": {},
   "outputs": [
    {
     "data": {
      "text/plain": [
       "118"
      ]
     },
     "execution_count": 94,
     "metadata": {},
     "output_type": "execute_result"
    },
    {
     "data": {
      "text/plain": [
       "[3489]"
      ]
     },
     "execution_count": 94,
     "metadata": {},
     "output_type": "execute_result"
    },
    {
     "data": {
      "text/plain": [
       "'United States'"
      ]
     },
     "execution_count": 94,
     "metadata": {},
     "output_type": "execute_result"
    },
    {
     "data": {
      "text/plain": [
       "'cat'"
      ]
     },
     "execution_count": 94,
     "metadata": {},
     "output_type": "execute_result"
    }
   ],
   "source": [
    "# finding the locations of the max favorites and the hashtags (cats)\n",
    "timecat_df['tweetFavoriteCt'].max()\n",
    "#the max is 118\n",
    "timecat_df.index[timecat_df['tweetFavoriteCt'] == timecat_df['tweetFavoriteCt'].max()].tolist()\n",
    "# this returns a list of 1: 3489\n",
    "timecat_df['userLocation'][3489] #this one is form somewhere in the US\n",
    "timecat_df['Hashtag'][3489]      #hashtag: cat"
   ]
  },
  {
   "cell_type": "markdown",
   "metadata": {},
   "source": [
    "#### Noted trend: the most favorited cat tweet is from America, and the hashtag is still cat, so it seems there is a strong preference for the more simple hashtags rather than the newer/more particular ones"
   ]
  },
  {
   "cell_type": "code",
   "execution_count": 100,
   "metadata": {},
   "outputs": [
    {
     "data": {
      "text/plain": [
       "140"
      ]
     },
     "execution_count": 100,
     "metadata": {},
     "output_type": "execute_result"
    },
    {
     "data": {
      "text/plain": [
       "[6825]"
      ]
     },
     "execution_count": 100,
     "metadata": {},
     "output_type": "execute_result"
    },
    {
     "data": {
      "text/plain": [
       "'茨城県取手市'"
      ]
     },
     "execution_count": 100,
     "metadata": {},
     "output_type": "execute_result"
    },
    {
     "data": {
      "text/plain": [
       "'dog'"
      ]
     },
     "execution_count": 100,
     "metadata": {},
     "output_type": "execute_result"
    }
   ],
   "source": [
    "# finding the locations of the max favorites and the hashtags (dogs)\n",
    "timedog_df['tweetFavoriteCt'].max()\n",
    "#the max is 118\n",
    "timedog_df.index[timedog_df['tweetFavoriteCt'] == timedog_df['tweetFavoriteCt'].max()].tolist()\n",
    "# this returns a list of 1: 6825\n",
    "timedog_df['userLocation'][6825] #this one is empty\n",
    "timedog_df['Hashtag'][6825]      #hashtag: dog"
   ]
  },
  {
   "cell_type": "markdown",
   "metadata": {},
   "source": [
    "#### Noted trend: the most favorited dog tweet is from somewhere in Japan ([Toride, Ibaraki](https://en.wikipedia.org/wiki/Toride,_Ibaraki)), and the hashtag is still dog, so it seems there is a strong preference for the more simple hashtags rather than the newer/more particular ones"
   ]
  },
  {
   "cell_type": "markdown",
   "metadata": {},
   "source": [
    "## Moving on to Timezone  "
   ]
  },
  {
   "cell_type": "code",
   "execution_count": 114,
   "metadata": {},
   "outputs": [
    {
     "data": {
      "text/html": [
       "<div>\n",
       "<style>\n",
       "    .dataframe thead tr:only-child th {\n",
       "        text-align: right;\n",
       "    }\n",
       "\n",
       "    .dataframe thead th {\n",
       "        text-align: left;\n",
       "    }\n",
       "\n",
       "    .dataframe tbody tr th {\n",
       "        vertical-align: top;\n",
       "    }\n",
       "</style>\n",
       "<table border=\"1\" class=\"dataframe\">\n",
       "  <thead>\n",
       "    <tr style=\"text-align: right;\">\n",
       "      <th></th>\n",
       "      <th>tweetRetweetCt</th>\n",
       "      <th>tweetFavoriteCt</th>\n",
       "    </tr>\n",
       "    <tr>\n",
       "      <th>userTimezone</th>\n",
       "      <th></th>\n",
       "      <th></th>\n",
       "    </tr>\n",
       "  </thead>\n",
       "  <tbody>\n",
       "    <tr>\n",
       "      <th>Abu Dhabi</th>\n",
       "      <td>18517.000000</td>\n",
       "      <td>0.000000</td>\n",
       "    </tr>\n",
       "    <tr>\n",
       "      <th>Adelaide</th>\n",
       "      <td>6172.666667</td>\n",
       "      <td>0.500000</td>\n",
       "    </tr>\n",
       "    <tr>\n",
       "      <th>Alaska</th>\n",
       "      <td>2388.615385</td>\n",
       "      <td>0.205128</td>\n",
       "    </tr>\n",
       "    <tr>\n",
       "      <th>America/Anguilla</th>\n",
       "      <td>0.000000</td>\n",
       "      <td>0.000000</td>\n",
       "    </tr>\n",
       "    <tr>\n",
       "      <th>America/Chicago</th>\n",
       "      <td>1854.600000</td>\n",
       "      <td>0.300000</td>\n",
       "    </tr>\n",
       "  </tbody>\n",
       "</table>\n",
       "</div>"
      ],
      "text/plain": [
       "                  tweetRetweetCt  tweetFavoriteCt\n",
       "userTimezone                                     \n",
       "Abu Dhabi           18517.000000         0.000000\n",
       "Adelaide             6172.666667         0.500000\n",
       "Alaska               2388.615385         0.205128\n",
       "America/Anguilla        0.000000         0.000000\n",
       "America/Chicago      1854.600000         0.300000"
      ]
     },
     "execution_count": 114,
     "metadata": {},
     "output_type": "execute_result"
    }
   ],
   "source": [
    "tz_cat = timecat_df.groupby('userTimezone')[['tweetRetweetCt', 'tweetFavoriteCt']].mean()\n",
    "tz_cat.head()"
   ]
  },
  {
   "cell_type": "code",
   "execution_count": 102,
   "metadata": {},
   "outputs": [
    {
     "data": {
      "text/html": [
       "<div>\n",
       "<style>\n",
       "    .dataframe thead tr:only-child th {\n",
       "        text-align: right;\n",
       "    }\n",
       "\n",
       "    .dataframe thead th {\n",
       "        text-align: left;\n",
       "    }\n",
       "\n",
       "    .dataframe tbody tr th {\n",
       "        vertical-align: top;\n",
       "    }\n",
       "</style>\n",
       "<table border=\"1\" class=\"dataframe\">\n",
       "  <thead>\n",
       "    <tr style=\"text-align: right;\">\n",
       "      <th></th>\n",
       "      <th>tweetRetweetCt</th>\n",
       "      <th>tweetFavoriteCt</th>\n",
       "    </tr>\n",
       "  </thead>\n",
       "  <tbody>\n",
       "    <tr>\n",
       "      <th>count</th>\n",
       "      <td>108.000000</td>\n",
       "      <td>108.000000</td>\n",
       "    </tr>\n",
       "    <tr>\n",
       "      <th>mean</th>\n",
       "      <td>4958.203298</td>\n",
       "      <td>0.509712</td>\n",
       "    </tr>\n",
       "    <tr>\n",
       "      <th>std</th>\n",
       "      <td>6468.719789</td>\n",
       "      <td>1.480354</td>\n",
       "    </tr>\n",
       "    <tr>\n",
       "      <th>min</th>\n",
       "      <td>0.000000</td>\n",
       "      <td>0.000000</td>\n",
       "    </tr>\n",
       "    <tr>\n",
       "      <th>25%</th>\n",
       "      <td>2.925000</td>\n",
       "      <td>0.000000</td>\n",
       "    </tr>\n",
       "    <tr>\n",
       "      <th>50%</th>\n",
       "      <td>1964.207407</td>\n",
       "      <td>0.000000</td>\n",
       "    </tr>\n",
       "    <tr>\n",
       "      <th>75%</th>\n",
       "      <td>8115.061905</td>\n",
       "      <td>0.308355</td>\n",
       "    </tr>\n",
       "    <tr>\n",
       "      <th>max</th>\n",
       "      <td>18857.000000</td>\n",
       "      <td>11.600000</td>\n",
       "    </tr>\n",
       "  </tbody>\n",
       "</table>\n",
       "</div>"
      ],
      "text/plain": [
       "       tweetRetweetCt  tweetFavoriteCt\n",
       "count      108.000000       108.000000\n",
       "mean      4958.203298         0.509712\n",
       "std       6468.719789         1.480354\n",
       "min          0.000000         0.000000\n",
       "25%          2.925000         0.000000\n",
       "50%       1964.207407         0.000000\n",
       "75%       8115.061905         0.308355\n",
       "max      18857.000000        11.600000"
      ]
     },
     "execution_count": 102,
     "metadata": {},
     "output_type": "execute_result"
    }
   ],
   "source": [
    "tz_cat.describe()"
   ]
  },
  {
   "cell_type": "code",
   "execution_count": 103,
   "metadata": {},
   "outputs": [
    {
     "data": {
      "text/html": [
       "<div>\n",
       "<style>\n",
       "    .dataframe thead tr:only-child th {\n",
       "        text-align: right;\n",
       "    }\n",
       "\n",
       "    .dataframe thead th {\n",
       "        text-align: left;\n",
       "    }\n",
       "\n",
       "    .dataframe tbody tr th {\n",
       "        vertical-align: top;\n",
       "    }\n",
       "</style>\n",
       "<table border=\"1\" class=\"dataframe\">\n",
       "  <thead>\n",
       "    <tr style=\"text-align: right;\">\n",
       "      <th></th>\n",
       "      <th>tweetRetweetCt</th>\n",
       "      <th>tweetFavoriteCt</th>\n",
       "    </tr>\n",
       "    <tr>\n",
       "      <th>userTimezone</th>\n",
       "      <th></th>\n",
       "      <th></th>\n",
       "    </tr>\n",
       "  </thead>\n",
       "  <tbody>\n",
       "    <tr>\n",
       "      <th>Abu Dhabi</th>\n",
       "      <td>128.200000</td>\n",
       "      <td>0.000000</td>\n",
       "    </tr>\n",
       "    <tr>\n",
       "      <th>Adelaide</th>\n",
       "      <td>1.111111</td>\n",
       "      <td>1.111111</td>\n",
       "    </tr>\n",
       "    <tr>\n",
       "      <th>Alaska</th>\n",
       "      <td>28.753425</td>\n",
       "      <td>0.438356</td>\n",
       "    </tr>\n",
       "    <tr>\n",
       "      <th>Almaty</th>\n",
       "      <td>409.000000</td>\n",
       "      <td>0.000000</td>\n",
       "    </tr>\n",
       "    <tr>\n",
       "      <th>America/Argentina/Buenos_Aires</th>\n",
       "      <td>0.000000</td>\n",
       "      <td>1.000000</td>\n",
       "    </tr>\n",
       "  </tbody>\n",
       "</table>\n",
       "</div>"
      ],
      "text/plain": [
       "                                tweetRetweetCt  tweetFavoriteCt\n",
       "userTimezone                                                   \n",
       "Abu Dhabi                           128.200000         0.000000\n",
       "Adelaide                              1.111111         1.111111\n",
       "Alaska                               28.753425         0.438356\n",
       "Almaty                              409.000000         0.000000\n",
       "America/Argentina/Buenos_Aires        0.000000         1.000000"
      ]
     },
     "execution_count": 103,
     "metadata": {},
     "output_type": "execute_result"
    }
   ],
   "source": [
    "tz_dog = timedog_df.groupby('userTimezone')[['tweetRetweetCt', 'tweetFavoriteCt']].mean()\n",
    "tz_dog.head()"
   ]
  },
  {
   "cell_type": "code",
   "execution_count": 104,
   "metadata": {},
   "outputs": [
    {
     "data": {
      "text/html": [
       "<div>\n",
       "<style>\n",
       "    .dataframe thead tr:only-child th {\n",
       "        text-align: right;\n",
       "    }\n",
       "\n",
       "    .dataframe thead th {\n",
       "        text-align: left;\n",
       "    }\n",
       "\n",
       "    .dataframe tbody tr th {\n",
       "        vertical-align: top;\n",
       "    }\n",
       "</style>\n",
       "<table border=\"1\" class=\"dataframe\">\n",
       "  <thead>\n",
       "    <tr style=\"text-align: right;\">\n",
       "      <th></th>\n",
       "      <th>tweetRetweetCt</th>\n",
       "      <th>tweetFavoriteCt</th>\n",
       "    </tr>\n",
       "  </thead>\n",
       "  <tbody>\n",
       "    <tr>\n",
       "      <th>count</th>\n",
       "      <td>134.000000</td>\n",
       "      <td>134.000000</td>\n",
       "    </tr>\n",
       "    <tr>\n",
       "      <th>mean</th>\n",
       "      <td>59.464546</td>\n",
       "      <td>0.567645</td>\n",
       "    </tr>\n",
       "    <tr>\n",
       "      <th>std</th>\n",
       "      <td>115.471011</td>\n",
       "      <td>0.992410</td>\n",
       "    </tr>\n",
       "    <tr>\n",
       "      <th>min</th>\n",
       "      <td>0.000000</td>\n",
       "      <td>0.000000</td>\n",
       "    </tr>\n",
       "    <tr>\n",
       "      <th>25%</th>\n",
       "      <td>1.000000</td>\n",
       "      <td>0.000000</td>\n",
       "    </tr>\n",
       "    <tr>\n",
       "      <th>50%</th>\n",
       "      <td>10.016667</td>\n",
       "      <td>0.250000</td>\n",
       "    </tr>\n",
       "    <tr>\n",
       "      <th>75%</th>\n",
       "      <td>36.192630</td>\n",
       "      <td>0.829545</td>\n",
       "    </tr>\n",
       "    <tr>\n",
       "      <th>max</th>\n",
       "      <td>612.400000</td>\n",
       "      <td>9.000000</td>\n",
       "    </tr>\n",
       "  </tbody>\n",
       "</table>\n",
       "</div>"
      ],
      "text/plain": [
       "       tweetRetweetCt  tweetFavoriteCt\n",
       "count      134.000000       134.000000\n",
       "mean        59.464546         0.567645\n",
       "std        115.471011         0.992410\n",
       "min          0.000000         0.000000\n",
       "25%          1.000000         0.000000\n",
       "50%         10.016667         0.250000\n",
       "75%         36.192630         0.829545\n",
       "max        612.400000         9.000000"
      ]
     },
     "execution_count": 104,
     "metadata": {},
     "output_type": "execute_result"
    }
   ],
   "source": [
    "tz_dog.describe()"
   ]
  },
  {
   "cell_type": "markdown",
   "metadata": {},
   "source": [
    "## Finding the most popular retweet timezones  \n",
    "### First, cats"
   ]
  },
  {
   "cell_type": "code",
   "execution_count": 107,
   "metadata": {},
   "outputs": [
    {
     "data": {
      "text/plain": [
       "18857.0"
      ]
     },
     "execution_count": 107,
     "metadata": {},
     "output_type": "execute_result"
    },
    {
     "data": {
      "text/plain": [
       "['Dublin']"
      ]
     },
     "execution_count": 107,
     "metadata": {},
     "output_type": "execute_result"
    }
   ],
   "source": [
    "# finding the timezone of the max retweets (cats)\n",
    "tz_cat['tweetRetweetCt'].max()\n",
    "#the max is 18857 retweets\n",
    "tz_cat.index[tz_cat['tweetRetweetCt'] == tz_cat['tweetRetweetCt'].max()].tolist()"
   ]
  },
  {
   "cell_type": "markdown",
   "metadata": {},
   "source": [
    "#### What's happening here:\n",
    "- the most popular timezone for cat retweets is Dublin, Germany\n",
    "- full bar plot can be seen below"
   ]
  },
  {
   "cell_type": "code",
   "execution_count": 168,
   "metadata": {},
   "outputs": [
    {
     "data": {
      "text/plain": [
       "<matplotlib.text.Text at 0x13d3bfe48>"
      ]
     },
     "execution_count": 168,
     "metadata": {},
     "output_type": "execute_result"
    },
    {
     "data": {
      "text/plain": [
       "<matplotlib.text.Text at 0x13ba81898>"
      ]
     },
     "execution_count": 168,
     "metadata": {},
     "output_type": "execute_result"
    },
    {
     "data": {
      "image/png": "[encoded data removed]",
      "text/plain": [
       "<matplotlib.figure.Figure at 0x13c270cc0>"
      ]
     },
     "metadata": {},
     "output_type": "display_data"
    }
   ],
   "source": [
    "#bar plot for cat retweet counts\n",
    "ax = tz_cat['tweetRetweetCt'].plot(kind='barh', title =\"Cat Timezone Retweet Count\", figsize=(10, 25), \n",
    "                                    legend=True, fontsize=10)\n",
    "ax.set_ylabel(\"Timezone\", fontsize=12)\n",
    "ax.set_xlabel(\"Count\", fontsize=12)\n",
    "plt.show()"
   ]
  },
  {
   "cell_type": "code",
   "execution_count": null,
   "metadata": {
    "collapsed": true
   },
   "outputs": [],
   "source": []
  }
 ],
 "metadata": {
  "kernelspec": {
   "display_name": "Python 3",
   "language": "python",
   "name": "python3"
  },
  "language_info": {
   "codemirror_mode": {
    "name": "ipython",
    "version": 3
   },
   "file_extension": ".py",
   "mimetype": "text/x-python",
   "name": "python",
   "nbconvert_exporter": "python",
   "pygments_lexer": "ipython3",
   "version": "3.6.1"
  }
 },
 "nbformat": 4,
 "nbformat_minor": 2
}
