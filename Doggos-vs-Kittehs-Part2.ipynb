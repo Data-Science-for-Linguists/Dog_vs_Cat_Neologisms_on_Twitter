{
 "cells": [
  {
   "cell_type": "markdown",
   "metadata": {
    "collapsed": true
   },
   "source": [
    "# Doggos-vs-Kittehs-Part 2  \n",
    "Margaret Jones (mmj32)  \n",
    "Univeristy of Pittsburgh  \n",
    "Data Science for Linguists  "
   ]
  },
  {
   "cell_type": "markdown",
   "metadata": {},
   "source": [
    "# Pulling in the data"
   ]
  },
  {
   "cell_type": "code",
   "execution_count": 2,
   "metadata": {
    "collapsed": true
   },
   "outputs": [],
   "source": [
    "#First, The Imports\n",
    "import tweepy\n",
    "import pandas as pd\n",
    "import matplotlib.pyplot as plt\n",
    "from pprint import pprint\n",
    "\n",
    "# Every returned Out[] is displayed, not just the last one. (Thanks NaRae!)\n",
    "from IPython.core.interactiveshell import InteractiveShell\n",
    "InteractiveShell.ast_node_interactivity = \"all\""
   ]
  },
  {
   "cell_type": "code",
   "execution_count": 3,
   "metadata": {
    "collapsed": true
   },
   "outputs": [],
   "source": [
    "# filepath for the saved csv files\n",
    "filepath = \"/Users/Margaret/Documents/Data_Science/Project_Margaret/\""
   ]
  },
  {
   "cell_type": "code",
   "execution_count": 4,
   "metadata": {
    "collapsed": true
   },
   "outputs": [],
   "source": [
    "#read in old csv files\n",
    "tcat_df = pd.read_csv(filepath + 'cat_tweets.csv')\n",
    "tdog_df = pd.read_csv(filepath + 'dog_tweets.csv')"
   ]
  },
  {
   "cell_type": "code",
   "execution_count": 5,
   "metadata": {},
   "outputs": [
    {
     "data": {
      "text/plain": [
       "79185"
      ]
     },
     "execution_count": 5,
     "metadata": {},
     "output_type": "execute_result"
    },
    {
     "data": {
      "text/plain": [
       "197595"
      ]
     },
     "execution_count": 5,
     "metadata": {},
     "output_type": "execute_result"
    }
   ],
   "source": [
    "tcat_df.size\n",
    "tdog_df.size"
   ]
  },
  {
   "cell_type": "markdown",
   "metadata": {},
   "source": [
    "# A quick review"
   ]
  },
  {
   "cell_type": "code",
   "execution_count": 6,
   "metadata": {
    "collapsed": true
   },
   "outputs": [],
   "source": [
    "#let's take a closer look at that, shall we?\n",
    "#getting sums\n",
    "cat_fav_total = tcat_df['tweetFavoriteCt'].sum()\n",
    "cat_rt_total = tcat_df['tweetRetweetCt'].sum()\n",
    "\n",
    "dog_fav_total = tdog_df['tweetFavoriteCt'].sum()\n",
    "dog_rt_total = tdog_df['tweetRetweetCt'].sum()"
   ]
  },
  {
   "cell_type": "code",
   "execution_count": 7,
   "metadata": {},
   "outputs": [
    {
     "data": {
      "text/html": [
       "<div>\n",
       "<style>\n",
       "    .dataframe thead tr:only-child th {\n",
       "        text-align: right;\n",
       "    }\n",
       "\n",
       "    .dataframe thead th {\n",
       "        text-align: left;\n",
       "    }\n",
       "\n",
       "    .dataframe tbody tr th {\n",
       "        vertical-align: top;\n",
       "    }\n",
       "</style>\n",
       "<table border=\"1\" class=\"dataframe\">\n",
       "  <thead>\n",
       "    <tr style=\"text-align: right;\">\n",
       "      <th></th>\n",
       "      <th>CATS</th>\n",
       "      <th>DOGS</th>\n",
       "    </tr>\n",
       "  </thead>\n",
       "  <tbody>\n",
       "    <tr>\n",
       "      <th>Favorites</th>\n",
       "      <td>3838</td>\n",
       "      <td>NaN</td>\n",
       "    </tr>\n",
       "  </tbody>\n",
       "</table>\n",
       "</div>"
      ],
      "text/plain": [
       "           CATS DOGS\n",
       "Favorites  3838  NaN"
      ]
     },
     "execution_count": 7,
     "metadata": {},
     "output_type": "execute_result"
    },
    {
     "data": {
      "text/html": [
       "<div>\n",
       "<style>\n",
       "    .dataframe thead tr:only-child th {\n",
       "        text-align: right;\n",
       "    }\n",
       "\n",
       "    .dataframe thead th {\n",
       "        text-align: left;\n",
       "    }\n",
       "\n",
       "    .dataframe tbody tr th {\n",
       "        vertical-align: top;\n",
       "    }\n",
       "</style>\n",
       "<table border=\"1\" class=\"dataframe\">\n",
       "  <thead>\n",
       "    <tr style=\"text-align: right;\">\n",
       "      <th></th>\n",
       "      <th>CATS</th>\n",
       "      <th>DOGS</th>\n",
       "    </tr>\n",
       "  </thead>\n",
       "  <tbody>\n",
       "    <tr>\n",
       "      <th>Retweets</th>\n",
       "      <td>12010831</td>\n",
       "      <td>NaN</td>\n",
       "    </tr>\n",
       "  </tbody>\n",
       "</table>\n",
       "</div>"
      ],
      "text/plain": [
       "              CATS DOGS\n",
       "Retweets  12010831  NaN"
      ]
     },
     "execution_count": 7,
     "metadata": {},
     "output_type": "execute_result"
    },
    {
     "data": {
      "text/html": [
       "<div>\n",
       "<style>\n",
       "    .dataframe thead tr:only-child th {\n",
       "        text-align: right;\n",
       "    }\n",
       "\n",
       "    .dataframe thead th {\n",
       "        text-align: left;\n",
       "    }\n",
       "\n",
       "    .dataframe tbody tr th {\n",
       "        vertical-align: top;\n",
       "    }\n",
       "</style>\n",
       "<table border=\"1\" class=\"dataframe\">\n",
       "  <thead>\n",
       "    <tr style=\"text-align: right;\">\n",
       "      <th></th>\n",
       "      <th>CATS</th>\n",
       "      <th>DOGS</th>\n",
       "    </tr>\n",
       "  </thead>\n",
       "  <tbody>\n",
       "    <tr>\n",
       "      <th>Favorites</th>\n",
       "      <td>3838</td>\n",
       "      <td>10625</td>\n",
       "    </tr>\n",
       "  </tbody>\n",
       "</table>\n",
       "</div>"
      ],
      "text/plain": [
       "           CATS   DOGS\n",
       "Favorites  3838  10625"
      ]
     },
     "execution_count": 7,
     "metadata": {},
     "output_type": "execute_result"
    },
    {
     "data": {
      "text/html": [
       "<div>\n",
       "<style>\n",
       "    .dataframe thead tr:only-child th {\n",
       "        text-align: right;\n",
       "    }\n",
       "\n",
       "    .dataframe thead th {\n",
       "        text-align: left;\n",
       "    }\n",
       "\n",
       "    .dataframe tbody tr th {\n",
       "        vertical-align: top;\n",
       "    }\n",
       "</style>\n",
       "<table border=\"1\" class=\"dataframe\">\n",
       "  <thead>\n",
       "    <tr style=\"text-align: right;\">\n",
       "      <th></th>\n",
       "      <th>CATS</th>\n",
       "      <th>DOGS</th>\n",
       "    </tr>\n",
       "  </thead>\n",
       "  <tbody>\n",
       "    <tr>\n",
       "      <th>Retweets</th>\n",
       "      <td>12010831</td>\n",
       "      <td>564744</td>\n",
       "    </tr>\n",
       "  </tbody>\n",
       "</table>\n",
       "</div>"
      ],
      "text/plain": [
       "              CATS    DOGS\n",
       "Retweets  12010831  564744"
      ]
     },
     "execution_count": 7,
     "metadata": {},
     "output_type": "execute_result"
    },
    {
     "data": {
      "text/plain": [
       "<matplotlib.axes._subplots.AxesSubplot at 0x11d675438>"
      ]
     },
     "execution_count": 7,
     "metadata": {},
     "output_type": "execute_result"
    },
    {
     "data": {
      "image/png": "[encoded data removed]",
      "text/plain": [
       "<matplotlib.figure.Figure at 0x1125e7da0>"
      ]
     },
     "metadata": {},
     "output_type": "display_data"
    },
    {
     "data": {
      "text/plain": [
       "<matplotlib.axes._subplots.AxesSubplot at 0x11c2ef6d8>"
      ]
     },
     "execution_count": 7,
     "metadata": {},
     "output_type": "execute_result"
    },
    {
     "data": {
      "image/png": "[encoded data removed]",
      "text/plain": [
       "<matplotlib.figure.Figure at 0x11c303940>"
      ]
     },
     "metadata": {},
     "output_type": "display_data"
    }
   ],
   "source": [
    "# okay, now for the bar graph, again\n",
    "fav = pd.DataFrame(columns = ['CATS', 'DOGS'])\n",
    "rt = pd.DataFrame(columns = ['CATS', 'DOGS'])\n",
    "fav.set_value('Favorites', 'CATS', cat_fav_total)\n",
    "rt.set_value('Retweets', 'CATS', cat_rt_total)\n",
    "fav.set_value('Favorites', 'DOGS', dog_fav_total)\n",
    "rt.set_value('Retweets', 'DOGS', dog_rt_total)\n",
    "\n",
    "fav.plot.bar(figsize=(4,4))\n",
    "plt.show()\n",
    "rt.plot.bar(figsize=(4,4))\n",
    "plt.show()"
   ]
  },
  {
   "cell_type": "markdown",
   "metadata": {},
   "source": [
    "# Let's look specifically at hashtag\n",
    "\n",
    "### Cats first"
   ]
  },
  {
   "cell_type": "code",
   "execution_count": 18,
   "metadata": {},
   "outputs": [
    {
     "data": {
      "text/html": [
       "<div>\n",
       "<style>\n",
       "    .dataframe thead tr:only-child th {\n",
       "        text-align: right;\n",
       "    }\n",
       "\n",
       "    .dataframe thead th {\n",
       "        text-align: left;\n",
       "    }\n",
       "\n",
       "    .dataframe tbody tr th {\n",
       "        vertical-align: top;\n",
       "    }\n",
       "</style>\n",
       "<table border=\"1\" class=\"dataframe\">\n",
       "  <thead>\n",
       "    <tr style=\"text-align: right;\">\n",
       "      <th></th>\n",
       "      <th>Hashtag</th>\n",
       "      <th>tweetRetweetCt</th>\n",
       "      <th>tweetFavoriteCt</th>\n",
       "    </tr>\n",
       "  </thead>\n",
       "  <tbody>\n",
       "    <tr>\n",
       "      <th>0</th>\n",
       "      <td>cat</td>\n",
       "      <td>5</td>\n",
       "      <td>0</td>\n",
       "    </tr>\n",
       "    <tr>\n",
       "      <th>1</th>\n",
       "      <td>cat</td>\n",
       "      <td>12</td>\n",
       "      <td>0</td>\n",
       "    </tr>\n",
       "    <tr>\n",
       "      <th>2</th>\n",
       "      <td>cat</td>\n",
       "      <td>6</td>\n",
       "      <td>0</td>\n",
       "    </tr>\n",
       "    <tr>\n",
       "      <th>3</th>\n",
       "      <td>cat</td>\n",
       "      <td>1</td>\n",
       "      <td>0</td>\n",
       "    </tr>\n",
       "    <tr>\n",
       "      <th>4</th>\n",
       "      <td>cat</td>\n",
       "      <td>5</td>\n",
       "      <td>0</td>\n",
       "    </tr>\n",
       "  </tbody>\n",
       "</table>\n",
       "</div>"
      ],
      "text/plain": [
       "  Hashtag  tweetRetweetCt  tweetFavoriteCt\n",
       "0     cat               5                0\n",
       "1     cat              12                0\n",
       "2     cat               6                0\n",
       "3     cat               1                0\n",
       "4     cat               5                0"
      ]
     },
     "execution_count": 18,
     "metadata": {},
     "output_type": "execute_result"
    }
   ],
   "source": [
    "hash_cat = tcat_df[['Hashtag','tweetRetweetCt', 'tweetFavoriteCt']]\n",
    "hash_cat.head()"
   ]
  },
  {
   "cell_type": "code",
   "execution_count": 90,
   "metadata": {},
   "outputs": [
    {
     "data": {
      "text/plain": [
       "12000759"
      ]
     },
     "execution_count": 90,
     "metadata": {},
     "output_type": "execute_result"
    },
    {
     "data": {
      "text/plain": [
       "7409"
      ]
     },
     "execution_count": 90,
     "metadata": {},
     "output_type": "execute_result"
    },
    {
     "data": {
      "text/plain": [
       "1330"
      ]
     },
     "execution_count": 90,
     "metadata": {},
     "output_type": "execute_result"
    },
    {
     "data": {
      "text/plain": [
       "1333"
      ]
     },
     "execution_count": 90,
     "metadata": {},
     "output_type": "execute_result"
    }
   ],
   "source": [
    "## COUNTING THE NUMBER OF RETWEETS PER CAT HASHTAG \n",
    "#separating out #cat\n",
    "i = 0\n",
    "hcat_rt = 0\n",
    "for v in hash_cat['Hashtag']:\n",
    "    if v == 'cat':\n",
    "        hcat_rt += hash_cat['tweetRetweetCt'][i]\n",
    "    i +=1\n",
    "hcat_rt\n",
    "\n",
    "#separating out #cats\n",
    "i = 0\n",
    "hcats_rt = 0\n",
    "for v in hash_cat['Hashtag']:\n",
    "    if v == 'cats':\n",
    "        hcats_rt += hash_cat['tweetRetweetCt'][i]\n",
    "    i +=1\n",
    "hcats_rt\n",
    "\n",
    "#separating out #kitteh\n",
    "i = 0\n",
    "hkitteh_rt = 0\n",
    "for v in hash_cat['Hashtag']:\n",
    "    if v == 'kitteh':\n",
    "        hkitteh_rt += hash_cat['tweetRetweetCt'][i]\n",
    "    i +=1\n",
    "hkitteh_rt\n",
    "\n",
    "#separating out #toebeans\n",
    "i = 0\n",
    "htoebeans_rt = 0\n",
    "for v in hash_cat['Hashtag']:\n",
    "    if v == 'toebeans':\n",
    "        htoebeans_rt += hash_cat['tweetRetweetCt'][i]\n",
    "    i +=1\n",
    "htoebeans_rt"
   ]
  },
  {
   "cell_type": "code",
   "execution_count": 84,
   "metadata": {},
   "outputs": [
    {
     "data": {
      "text/plain": [
       "2278"
      ]
     },
     "execution_count": 84,
     "metadata": {},
     "output_type": "execute_result"
    },
    {
     "data": {
      "text/plain": [
       "55"
      ]
     },
     "execution_count": 84,
     "metadata": {},
     "output_type": "execute_result"
    },
    {
     "data": {
      "text/plain": [
       "361"
      ]
     },
     "execution_count": 84,
     "metadata": {},
     "output_type": "execute_result"
    },
    {
     "data": {
      "text/plain": [
       "1144"
      ]
     },
     "execution_count": 84,
     "metadata": {},
     "output_type": "execute_result"
    }
   ],
   "source": [
    "## COUNTING THE NUMBER OF FAVORITES PER CAT HASHTAG \n",
    "#separating out #cat\n",
    "i = 0\n",
    "hcat_fav = 0\n",
    "for v in hash_cat['Hashtag']:\n",
    "    if v == 'cat':\n",
    "        hcat_fav += hash_cat['tweetFavoriteCt'][i]\n",
    "    i +=1\n",
    "hcat_fav\n",
    "\n",
    "#separating out #cats\n",
    "i = 0\n",
    "hcats_fav = 0\n",
    "for v in hash_cat['Hashtag']:\n",
    "    if v == 'cats':\n",
    "        hcats_fav += hash_cat['tweetFavoriteCt'][i]\n",
    "    i +=1\n",
    "hcats_fav\n",
    "\n",
    "#separating out #kitteh\n",
    "i = 0\n",
    "hkitteh_fav = 0\n",
    "for v in hash_cat['Hashtag']:\n",
    "    if v == 'kitteh':\n",
    "        hkitteh_fav += hash_cat['tweetFavoriteCt'][i]\n",
    "    i +=1\n",
    "hkitteh_fav\n",
    "\n",
    "#separating out #toebeans\n",
    "i = 0\n",
    "htoebeans_fav = 0\n",
    "for v in hash_cat['Hashtag']:\n",
    "    if v == 'toebeans':\n",
    "        htoebeans_fav += hash_cat['tweetFavoriteCt'][i]\n",
    "    i +=1\n",
    "htoebeans_fav"
   ]
  },
  {
   "cell_type": "markdown",
   "metadata": {},
   "source": [
    "### Dogs"
   ]
  },
  {
   "cell_type": "code",
   "execution_count": 56,
   "metadata": {},
   "outputs": [
    {
     "data": {
      "text/html": [
       "<div>\n",
       "<style>\n",
       "    .dataframe thead tr:only-child th {\n",
       "        text-align: right;\n",
       "    }\n",
       "\n",
       "    .dataframe thead th {\n",
       "        text-align: left;\n",
       "    }\n",
       "\n",
       "    .dataframe tbody tr th {\n",
       "        vertical-align: top;\n",
       "    }\n",
       "</style>\n",
       "<table border=\"1\" class=\"dataframe\">\n",
       "  <thead>\n",
       "    <tr style=\"text-align: right;\">\n",
       "      <th></th>\n",
       "      <th>Hashtag</th>\n",
       "      <th>tweetRetweetCt</th>\n",
       "      <th>tweetFavoriteCt</th>\n",
       "    </tr>\n",
       "  </thead>\n",
       "  <tbody>\n",
       "    <tr>\n",
       "      <th>0</th>\n",
       "      <td>dog</td>\n",
       "      <td>30</td>\n",
       "      <td>0</td>\n",
       "    </tr>\n",
       "    <tr>\n",
       "      <th>1</th>\n",
       "      <td>dog</td>\n",
       "      <td>0</td>\n",
       "      <td>0</td>\n",
       "    </tr>\n",
       "    <tr>\n",
       "      <th>2</th>\n",
       "      <td>dog</td>\n",
       "      <td>0</td>\n",
       "      <td>0</td>\n",
       "    </tr>\n",
       "    <tr>\n",
       "      <th>3</th>\n",
       "      <td>dog</td>\n",
       "      <td>0</td>\n",
       "      <td>0</td>\n",
       "    </tr>\n",
       "    <tr>\n",
       "      <th>4</th>\n",
       "      <td>dog</td>\n",
       "      <td>0</td>\n",
       "      <td>0</td>\n",
       "    </tr>\n",
       "  </tbody>\n",
       "</table>\n",
       "</div>"
      ],
      "text/plain": [
       "  Hashtag  tweetRetweetCt  tweetFavoriteCt\n",
       "0     dog              30                0\n",
       "1     dog               0                0\n",
       "2     dog               0                0\n",
       "3     dog               0                0\n",
       "4     dog               0                0"
      ]
     },
     "execution_count": 56,
     "metadata": {},
     "output_type": "execute_result"
    }
   ],
   "source": [
    "hash_dog = tdog_df[['Hashtag','tweetRetweetCt', 'tweetFavoriteCt']]\n",
    "hash_dog.head()"
   ]
  },
  {
   "cell_type": "code",
   "execution_count": 87,
   "metadata": {},
   "outputs": [
    {
     "data": {
      "text/plain": [
       "139489"
      ]
     },
     "execution_count": 87,
     "metadata": {},
     "output_type": "execute_result"
    },
    {
     "data": {
      "text/plain": [
       "44477"
      ]
     },
     "execution_count": 87,
     "metadata": {},
     "output_type": "execute_result"
    },
    {
     "data": {
      "text/plain": [
       "369994"
      ]
     },
     "execution_count": 87,
     "metadata": {},
     "output_type": "execute_result"
    },
    {
     "data": {
      "text/plain": [
       "10784"
      ]
     },
     "execution_count": 87,
     "metadata": {},
     "output_type": "execute_result"
    }
   ],
   "source": [
    "## COUNTING THE NUMBER OF RETWEETS PER DOG HASHTAG \n",
    "#separating out #dog\n",
    "i = 0\n",
    "hdog_rt = 0\n",
    "for v in hash_dog['Hashtag']:\n",
    "    if v == 'dog':\n",
    "        hdog_rt += hash_dog['tweetRetweetCt'][i]\n",
    "    i +=1\n",
    "hdog_rt\n",
    "\n",
    "#separating out #dogs\n",
    "i = 0\n",
    "hdogs_rt = 0\n",
    "for v in hash_dog['Hashtag']:\n",
    "    if v == 'dogs':\n",
    "        hdogs_rt += hash_dog['tweetRetweetCt'][i]\n",
    "    i +=1\n",
    "hdogs_rt\n",
    "\n",
    "#separating out #doge\n",
    "i = 0\n",
    "hdoge_rt = 0\n",
    "for v in hash_dog['Hashtag']:\n",
    "    if v == 'doge':\n",
    "        hdoge_rt += hash_dog['tweetRetweetCt'][i]\n",
    "    i +=1\n",
    "hdoge_rt\n",
    "\n",
    "#separating out #dogs\n",
    "i = 0\n",
    "hdoggo_rt = 0\n",
    "for v in hash_dog['Hashtag']:\n",
    "    if v == 'doggo':\n",
    "        hdoggo_rt += hash_dog['tweetRetweetCt'][i]\n",
    "    i +=1\n",
    "hdoggo_rt"
   ]
  },
  {
   "cell_type": "code",
   "execution_count": 86,
   "metadata": {},
   "outputs": [
    {
     "data": {
      "text/plain": [
       "2365"
      ]
     },
     "execution_count": 86,
     "metadata": {},
     "output_type": "execute_result"
    },
    {
     "data": {
      "text/plain": [
       "567"
      ]
     },
     "execution_count": 86,
     "metadata": {},
     "output_type": "execute_result"
    },
    {
     "data": {
      "text/plain": [
       "2143"
      ]
     },
     "execution_count": 86,
     "metadata": {},
     "output_type": "execute_result"
    },
    {
     "data": {
      "text/plain": [
       "5550"
      ]
     },
     "execution_count": 86,
     "metadata": {},
     "output_type": "execute_result"
    }
   ],
   "source": [
    "## COUNTING THE NUMBER OF RETWEETS PER DOG HASHTAG \n",
    "#separating out #dog\n",
    "i = 0\n",
    "hdog_fav = 0\n",
    "for v in hash_dog['Hashtag']:\n",
    "    if v == 'dog':\n",
    "        hdog_fav += hash_dog['tweetFavoriteCt'][i]\n",
    "    i +=1\n",
    "hdog_fav\n",
    "\n",
    "#separating out #dogs\n",
    "i = 0\n",
    "hdogs_fav = 0\n",
    "for v in hash_dog['Hashtag']:\n",
    "    if v == 'dogs':\n",
    "        hdogs_fav += hash_dog['tweetFavoriteCt'][i]\n",
    "    i +=1\n",
    "hdogs_fav\n",
    "\n",
    "#separating out #doge\n",
    "i = 0\n",
    "hdoge_fav = 0\n",
    "for v in hash_dog['Hashtag']:\n",
    "    if v == 'doge':\n",
    "        hdoge_fav += hash_dog['tweetFavoriteCt'][i]\n",
    "    i +=1\n",
    "hdoge_fav\n",
    "\n",
    "#separating out #dogs\n",
    "i = 0\n",
    "hdoggo_fav = 0\n",
    "for v in hash_dog['Hashtag']:\n",
    "    if v == 'doggo':\n",
    "        hdoggo_fav += hash_dog['tweetFavoriteCt'][i]\n",
    "    i +=1\n",
    "hdoggo_fav"
   ]
  },
  {
   "cell_type": "markdown",
   "metadata": {},
   "source": [
    "### Some more exploding pie charts"
   ]
  },
  {
   "cell_type": "code",
   "execution_count": 89,
   "metadata": {},
   "outputs": [
    {
     "data": {
      "text/plain": [
       "([<matplotlib.patches.Wedge at 0x11cb9c128>,\n",
       "  <matplotlib.patches.Wedge at 0x11cc2e358>,\n",
       "  <matplotlib.patches.Wedge at 0x11cc37c18>,\n",
       "  <matplotlib.patches.Wedge at 0x11c3a7518>,\n",
       "  <matplotlib.patches.Wedge at 0x11c3addd8>,\n",
       "  <matplotlib.patches.Wedge at 0x11c3be6d8>,\n",
       "  <matplotlib.patches.Wedge at 0x11c3c6f98>,\n",
       "  <matplotlib.patches.Wedge at 0x11c3d6898>],\n",
       " [<matplotlib.text.Text at 0x11cc26828>,\n",
       "  <matplotlib.text.Text at 0x11cc37128>,\n",
       "  <matplotlib.text.Text at 0x11c3a09e8>,\n",
       "  <matplotlib.text.Text at 0x11c3ad2e8>,\n",
       "  <matplotlib.text.Text at 0x11c3b6ba8>,\n",
       "  <matplotlib.text.Text at 0x11c3c64a8>,\n",
       "  <matplotlib.text.Text at 0x11c3ced68>,\n",
       "  <matplotlib.text.Text at 0x11cc40668>],\n",
       " [<matplotlib.text.Text at 0x11cc26da0>,\n",
       "  <matplotlib.text.Text at 0x11cc376a0>,\n",
       "  <matplotlib.text.Text at 0x11c3a0f60>,\n",
       "  <matplotlib.text.Text at 0x11c3ad860>,\n",
       "  <matplotlib.text.Text at 0x11c3be160>,\n",
       "  <matplotlib.text.Text at 0x11c3c6a20>,\n",
       "  <matplotlib.text.Text at 0x11c3d6320>,\n",
       "  <matplotlib.text.Text at 0x11cc40be0>])"
      ]
     },
     "execution_count": 89,
     "metadata": {},
     "output_type": "execute_result"
    },
    {
     "data": {
      "text/plain": [
       "(-1.1786447740658623,\n",
       " 1.0363378674045489,\n",
       " -1.6525072617473355,\n",
       " 1.64788342993279)"
      ]
     },
     "execution_count": 89,
     "metadata": {},
     "output_type": "execute_result"
    },
    {
     "data": {
      "image/png": "[encoded data removed]",
      "text/plain": [
       "<matplotlib.figure.Figure at 0x11cb9c240>"
      ]
     },
     "metadata": {},
     "output_type": "display_data"
    }
   ],
   "source": [
    "# Pie chart, where the slices will be ordered and plotted counter-clockwise:\n",
    "labels = ['cat','cats', 'kitteh', 'toebeans', 'dog', 'dogs', 'doggo', 'doge']\n",
    "sizes = [hcat_rt, hcats_rt, hkitteh_rt, htoebeans_rt, hdog_rt, hdogs_rt, hdoggo_rt, hdoge_rt ]\n",
    "explode = (0.5, 0.5, 0.5, 0.5, 0.5, 0.5, 0.5, 0.5)\n",
    "\n",
    "fig1, ax1 = plt.subplots()\n",
    "ax1.pie(sizes, explode=explode, labels=labels, autopct='%1.1f%%',\n",
    "        shadow=True, startangle=90)\n",
    "ax1.axis('equal')  # Equal aspect ratio ensures that pie is drawn as a circle.\n",
    "\n",
    "plt.show()"
   ]
  },
  {
   "cell_type": "markdown",
   "metadata": {},
   "source": [
    "### okay so my means of retweets, cat is the most populat hashtag by far. But let's remove it and see how the others distribute..."
   ]
  },
  {
   "cell_type": "code",
   "execution_count": 92,
   "metadata": {},
   "outputs": [
    {
     "data": {
      "text/plain": [
       "([<matplotlib.patches.Wedge at 0x11c412160>,\n",
       "  <matplotlib.patches.Wedge at 0x11cf34da0>,\n",
       "  <matplotlib.patches.Wedge at 0x11cf806a0>,\n",
       "  <matplotlib.patches.Wedge at 0x11cf88f60>,\n",
       "  <matplotlib.patches.Wedge at 0x11cf98710>,\n",
       "  <matplotlib.patches.Wedge at 0x11cf9ffd0>,\n",
       "  <matplotlib.patches.Wedge at 0x11cfaf8d0>],\n",
       " [<matplotlib.text.Text at 0x11cf342b0>,\n",
       "  <matplotlib.text.Text at 0x11cf79b70>,\n",
       "  <matplotlib.text.Text at 0x11cf88470>,\n",
       "  <matplotlib.text.Text at 0x11cf8ebe0>,\n",
       "  <matplotlib.text.Text at 0x11cf9f4e0>,\n",
       "  <matplotlib.text.Text at 0x11cfa7da0>,\n",
       "  <matplotlib.text.Text at 0x11cfb76a0>],\n",
       " [<matplotlib.text.Text at 0x11cf34828>,\n",
       "  <matplotlib.text.Text at 0x11cf80128>,\n",
       "  <matplotlib.text.Text at 0x11cf889e8>,\n",
       "  <matplotlib.text.Text at 0x11cf98198>,\n",
       "  <matplotlib.text.Text at 0x11cf9fa58>,\n",
       "  <matplotlib.text.Text at 0x11cfaf358>,\n",
       "  <matplotlib.text.Text at 0x11cfb7c18>])"
      ]
     },
     "execution_count": 92,
     "metadata": {},
     "output_type": "execute_result"
    },
    {
     "data": {
      "text/plain": [
       "(-1.2028207684297623,\n",
       " 1.2072394698045146,\n",
       " -1.1638741642331603,\n",
       " 1.2077176549369624)"
      ]
     },
     "execution_count": 92,
     "metadata": {},
     "output_type": "execute_result"
    },
    {
     "data": {
      "image/png": "[encoded data removed]",
      "text/plain": [
       "<matplotlib.figure.Figure at 0x11c4121d0>"
      ]
     },
     "metadata": {},
     "output_type": "display_data"
    }
   ],
   "source": [
    "# Pie chart, where the slices will be ordered and plotted counter-clockwise:\n",
    "labels = ['cats', 'kitteh', 'toebeans', 'dog', 'dogs', 'doggo', 'doge']\n",
    "sizes = [hcats_rt, hkitteh_rt, htoebeans_rt, hdog_rt, hdogs_rt, hdoggo_rt, hdoge_rt ]\n",
    "explode = (0.1, 0.1, 0.1, 0.1, 0.1, 0.1, 0.1)\n",
    "\n",
    "fig1, ax1 = plt.subplots()\n",
    "ax1.pie(sizes, explode=explode, labels=labels, autopct='%1.1f%%',\n",
    "        shadow=True, startangle=90)\n",
    "ax1.axis('equal')  # Equal aspect ratio ensures that pie is drawn as a circle.\n",
    "\n",
    "plt.show()"
   ]
  },
  {
   "cell_type": "markdown",
   "metadata": {},
   "source": [
    "### So other than #cat it seems like the dog hashtags retweet more than the cat tweets  \n",
    "#### let's break this down further"
   ]
  },
  {
   "cell_type": "code",
   "execution_count": 93,
   "metadata": {},
   "outputs": [
    {
     "data": {
      "text/plain": [
       "([<matplotlib.patches.Wedge at 0x11cfbf6a0>,\n",
       "  <matplotlib.patches.Wedge at 0x11d0cb5c0>,\n",
       "  <matplotlib.patches.Wedge at 0x11d0d6e80>],\n",
       " [<matplotlib.text.Text at 0x11d0c4a90>,\n",
       "  <matplotlib.text.Text at 0x11d0d6390>,\n",
       "  <matplotlib.text.Text at 0x11d0dec50>],\n",
       " [<matplotlib.text.Text at 0x11d0cb048>,\n",
       "  <matplotlib.text.Text at 0x11d0d6908>,\n",
       "  <matplotlib.text.Text at 0x11d0e6208>])"
      ]
     },
     "execution_count": 93,
     "metadata": {},
     "output_type": "execute_result"
    },
    {
     "data": {
      "text/plain": [
       "(-1.2017941089200854,\n",
       " 1.212995256394122,\n",
       " -1.192933519563907,\n",
       " 1.2002617254366041)"
      ]
     },
     "execution_count": 93,
     "metadata": {},
     "output_type": "execute_result"
    },
    {
     "data": {
      "image/png": "[encoded data removed]",
      "text/plain": [
       "<matplotlib.figure.Figure at 0x11cbd9080>"
      ]
     },
     "metadata": {},
     "output_type": "display_data"
    },
    {
     "data": {
      "text/plain": [
       "([<matplotlib.patches.Wedge at 0x11d02ed68>,\n",
       "  <matplotlib.patches.Wedge at 0x11d120588>,\n",
       "  <matplotlib.patches.Wedge at 0x11d129e10>,\n",
       "  <matplotlib.patches.Wedge at 0x11d136710>],\n",
       " [<matplotlib.text.Text at 0x11d119a58>,\n",
       "  <matplotlib.text.Text at 0x11d129320>,\n",
       "  <matplotlib.text.Text at 0x11d131be0>,\n",
       "  <matplotlib.text.Text at 0x11d1424e0>],\n",
       " [<matplotlib.text.Text at 0x11d119fd0>,\n",
       "  <matplotlib.text.Text at 0x11d129898>,\n",
       "  <matplotlib.text.Text at 0x11d136198>,\n",
       "  <matplotlib.text.Text at 0x11d142a58>])"
      ]
     },
     "execution_count": 93,
     "metadata": {},
     "output_type": "execute_result"
    },
    {
     "data": {
      "text/plain": [
       "(-1.208352854211431,\n",
       " 1.2022360857818759,\n",
       " -1.1610208483697912,\n",
       " 1.1776796064295183)"
      ]
     },
     "execution_count": 93,
     "metadata": {},
     "output_type": "execute_result"
    },
    {
     "data": {
      "image/png": "[encoded data removed]",
      "text/plain": [
       "<matplotlib.figure.Figure at 0x11cffc320>"
      ]
     },
     "metadata": {},
     "output_type": "display_data"
    }
   ],
   "source": [
    "# Pie chart, where the slices will be ordered and plotted counter-clockwise:\n",
    "labels = ['cats', 'kitteh', 'toebeans']\n",
    "sizes = [hcats_rt, hkitteh_rt, htoebeans_rt]\n",
    "explode = (0.1, 0.1, 0.1)\n",
    "\n",
    "fig1, ax1 = plt.subplots()\n",
    "ax1.pie(sizes, explode=explode, labels=labels, autopct='%1.1f%%',\n",
    "        shadow=True, startangle=90)\n",
    "ax1.axis('equal')  # Equal aspect ratio ensures that pie is drawn as a circle.\n",
    "\n",
    "plt.show()\n",
    "\n",
    "# Pie chart, where the slices will be ordered and plotted counter-clockwise:\n",
    "labels = ['dog', 'dogs', 'doggo', 'doge']\n",
    "sizes = [hdog_rt, hdogs_rt, hdoggo_rt, hdoge_rt ]\n",
    "explode = (0.1, 0.1, 0.1, 0.1)\n",
    "\n",
    "fig1, ax1 = plt.subplots()\n",
    "ax1.pie(sizes, explode=explode, labels=labels, autopct='%1.1f%%',\n",
    "        shadow=True, startangle=90)\n",
    "ax1.axis('equal')  # Equal aspect ratio ensures that pie is drawn as a circle.\n",
    "\n",
    "plt.show()"
   ]
  },
  {
   "cell_type": "markdown",
   "metadata": {},
   "source": [
    "### So for cat retweets (excluding #cat) kitteh and toebeans seem to share the same percentage, and then cats is the second most popular  \n",
    "### For dogs, it is ordered as such: #doge, #dog, #dogs, #doggo"
   ]
  },
  {
   "cell_type": "markdown",
   "metadata": {},
   "source": [
    "## Let's do the same thing but with favorites"
   ]
  },
  {
   "cell_type": "code",
   "execution_count": 94,
   "metadata": {},
   "outputs": [
    {
     "data": {
      "text/plain": [
       "([<matplotlib.patches.Wedge at 0x11cc62240>,\n",
       "  <matplotlib.patches.Wedge at 0x11d326470>,\n",
       "  <matplotlib.patches.Wedge at 0x11d32ed30>,\n",
       "  <matplotlib.patches.Wedge at 0x11d33d630>,\n",
       "  <matplotlib.patches.Wedge at 0x11d346ef0>,\n",
       "  <matplotlib.patches.Wedge at 0x11d3587f0>,\n",
       "  <matplotlib.patches.Wedge at 0x11d3660f0>,\n",
       "  <matplotlib.patches.Wedge at 0x11d36f9b0>],\n",
       " [<matplotlib.text.Text at 0x11d31d940>,\n",
       "  <matplotlib.text.Text at 0x11d32e240>,\n",
       "  <matplotlib.text.Text at 0x11d335b00>,\n",
       "  <matplotlib.text.Text at 0x11d346400>,\n",
       "  <matplotlib.text.Text at 0x11d34fcc0>,\n",
       "  <matplotlib.text.Text at 0x11d35e5c0>,\n",
       "  <matplotlib.text.Text at 0x11d366e80>,\n",
       "  <matplotlib.text.Text at 0x11d377780>],\n",
       " [<matplotlib.text.Text at 0x11d31deb8>,\n",
       "  <matplotlib.text.Text at 0x11d32e7b8>,\n",
       "  <matplotlib.text.Text at 0x11d33d0b8>,\n",
       "  <matplotlib.text.Text at 0x11d346978>,\n",
       "  <matplotlib.text.Text at 0x11d358278>,\n",
       "  <matplotlib.text.Text at 0x11d35eb38>,\n",
       "  <matplotlib.text.Text at 0x11d36f438>,\n",
       "  <matplotlib.text.Text at 0x11d377cf8>])"
      ]
     },
     "execution_count": 94,
     "metadata": {},
     "output_type": "execute_result"
    },
    {
     "data": {
      "text/plain": [
       "(-1.2118564998714854,\n",
       " 1.2008997432360842,\n",
       " -1.182983974057269,\n",
       " 1.1975668696970021)"
      ]
     },
     "execution_count": 94,
     "metadata": {},
     "output_type": "execute_result"
    },
    {
     "data": {
      "image/png": "[encoded data removed]",
      "text/plain": [
       "<matplotlib.figure.Figure at 0x11cc62898>"
      ]
     },
     "metadata": {},
     "output_type": "display_data"
    }
   ],
   "source": [
    "# Pie chart, where the slices will be ordered and plotted counter-clockwise:\n",
    "labels = ['cat','cats', 'kitteh', 'toebeans', 'dog', 'dogs', 'doggo', 'doge']\n",
    "sizes = [hcat_fav, hcats_fav, hkitteh_fav, htoebeans_fav, hdog_fav, hdogs_fav, hdoggo_fav, hdoge_fav]\n",
    "explode = (0.1, 0.1, 0.1, 0.1, 0.1, 0.1, 0.1, 0.1)\n",
    "\n",
    "fig1, ax1 = plt.subplots()\n",
    "ax1.pie(sizes, explode=explode, labels=labels, autopct='%1.1f%%',\n",
    "        shadow=True, startangle=90)\n",
    "ax1.axis('equal')  # Equal aspect ratio ensures that pie is drawn as a circle.\n",
    "\n",
    "plt.show()"
   ]
  },
  {
   "cell_type": "markdown",
   "metadata": {},
   "source": [
    "## For this is it pretty clear that the dogs get more favorites \n",
    "\n",
    "### Only cats"
   ]
  },
  {
   "cell_type": "code",
   "execution_count": 95,
   "metadata": {},
   "outputs": [
    {
     "data": {
      "text/plain": [
       "([<matplotlib.patches.Wedge at 0x11d119cf8>,\n",
       "  <matplotlib.patches.Wedge at 0x11cbdf5c0>,\n",
       "  <matplotlib.patches.Wedge at 0x11cbf6c18>,\n",
       "  <matplotlib.patches.Wedge at 0x11cb9c390>],\n",
       " [<matplotlib.text.Text at 0x11cbd6668>,\n",
       "  <matplotlib.text.Text at 0x11cbe6630>,\n",
       "  <matplotlib.text.Text at 0x11cb9ce80>,\n",
       "  <matplotlib.text.Text at 0x11c2901d0>],\n",
       " [<matplotlib.text.Text at 0x11cbdfa58>,\n",
       "  <matplotlib.text.Text at 0x11cbe6b70>,\n",
       "  <matplotlib.text.Text at 0x11cb9cb70>,\n",
       "  <matplotlib.text.Text at 0x11d63fa58>])"
      ]
     },
     "execution_count": 95,
     "metadata": {},
     "output_type": "execute_result"
    },
    {
     "data": {
      "text/plain": [
       "(-1.2176858409136184,\n",
       " 1.2027205081133758,\n",
       " -1.1455016747390809,\n",
       " 1.1642564890316611)"
      ]
     },
     "execution_count": 95,
     "metadata": {},
     "output_type": "execute_result"
    },
    {
     "data": {
      "image/png": "[encoded data removed]",
      "text/plain": [
       "<matplotlib.figure.Figure at 0x11d119b38>"
      ]
     },
     "metadata": {},
     "output_type": "display_data"
    }
   ],
   "source": [
    "# Pie chart, where the slices will be ordered and plotted counter-clockwise:\n",
    "labels = ['cat','cats', 'kitteh', 'toebeans']\n",
    "sizes = [hcat_fav, hcats_fav, hkitteh_fav, htoebeans_fav]\n",
    "explode = (0.1, 0.1, 0.1, 0.1)\n",
    "\n",
    "fig1, ax1 = plt.subplots()\n",
    "ax1.pie(sizes, explode=explode, labels=labels, autopct='%1.1f%%',\n",
    "        shadow=True, startangle=90)\n",
    "ax1.axis('equal')  # Equal aspect ratio ensures that pie is drawn as a circle.\n",
    "\n",
    "plt.show()"
   ]
  },
  {
   "cell_type": "markdown",
   "metadata": {},
   "source": [
    "## Scale: #cat, #toebeans, #kitteh, #cats  \n",
    "\n",
    "### Now, dogs"
   ]
  },
  {
   "cell_type": "code",
   "execution_count": 96,
   "metadata": {},
   "outputs": [
    {
     "data": {
      "text/plain": [
       "([<matplotlib.patches.Wedge at 0x11d0f0470>,\n",
       "  <matplotlib.patches.Wedge at 0x11d64ce10>,\n",
       "  <matplotlib.patches.Wedge at 0x11c32fa58>,\n",
       "  <matplotlib.patches.Wedge at 0x11c3ff550>],\n",
       " [<matplotlib.text.Text at 0x11cbb4e10>,\n",
       "  <matplotlib.text.Text at 0x11c2b1da0>,\n",
       "  <matplotlib.text.Text at 0x11c2c10f0>,\n",
       "  <matplotlib.text.Text at 0x11cb6ff28>],\n",
       " [<matplotlib.text.Text at 0x11cbb47b8>,\n",
       "  <matplotlib.text.Text at 0x11c2b1358>,\n",
       "  <matplotlib.text.Text at 0x11c2c15c0>,\n",
       "  <matplotlib.text.Text at 0x11cb1c0f0>])"
      ]
     },
     "execution_count": 96,
     "metadata": {},
     "output_type": "execute_result"
    },
    {
     "data": {
      "text/plain": [
       "(-1.2068592869706243,\n",
       " 1.1386614029051518,\n",
       " -1.2151528637608773,\n",
       " 1.1899087015793579)"
      ]
     },
     "execution_count": 96,
     "metadata": {},
     "output_type": "execute_result"
    },
    {
     "data": {
      "image/png": "[encoded data removed]",
      "text/plain": [
       "<matplotlib.figure.Figure at 0x11d0f0a90>"
      ]
     },
     "metadata": {},
     "output_type": "display_data"
    }
   ],
   "source": [
    "# Pie chart, where the slices will be ordered and plotted counter-clockwise:\n",
    "labels = ['dog', 'dogs', 'doggo', 'doge']\n",
    "sizes = [hdog_fav, hdogs_fav, hdoggo_fav, hdoge_fav]\n",
    "explode = (0.1, 0.1, 0.1, 0.1)\n",
    "\n",
    "fig1, ax1 = plt.subplots()\n",
    "ax1.pie(sizes, explode=explode, labels=labels, autopct='%1.1f%%',\n",
    "        shadow=True, startangle=90)\n",
    "ax1.axis('equal')  # Equal aspect ratio ensures that pie is drawn as a circle.\n",
    "\n",
    "plt.show()"
   ]
  },
  {
   "cell_type": "markdown",
   "metadata": {},
   "source": [
    "### Ordering: #doggo, #dog, #doge, #dogs"
   ]
  },
  {
   "cell_type": "markdown",
   "metadata": {},
   "source": [
    "# From this point:  \n",
    "- I have to go back and do some cleaning and re-reun some code. I've added to the dataset but then not gone back and updated my comments acordingly. Now that I'm done gathering data, it would be worth it to go back and up date all of these sections. After I do this, I feel I will be at a god ending point for this project. \n",
    "- This final piece on hashtags shows how the popularity pans out over retweets and favorites which is what I was aming for at the beginning. Cat neologisms do not seem to be as popular as dog noelogisms according to this data. In my paper, I will discuss this idea further and my reasoning further. "
   ]
  },
  {
   "cell_type": "code",
   "execution_count": null,
   "metadata": {
    "collapsed": true
   },
   "outputs": [],
   "source": []
  }
 ],
 "metadata": {
  "kernelspec": {
   "display_name": "Python 3",
   "language": "python",
   "name": "python3"
  },
  "language_info": {
   "codemirror_mode": {
    "name": "ipython",
    "version": 3
   },
   "file_extension": ".py",
   "mimetype": "text/x-python",
   "name": "python",
   "nbconvert_exporter": "python",
   "pygments_lexer": "ipython3",
   "version": "3.6.1"
  }
 },
 "nbformat": 4,
 "nbformat_minor": 2
}
