{
 "cells": [
  {
   "cell_type": "markdown",
   "metadata": {},
   "source": [
    "# LIVE TWEETS!  \n",
    "This is going to be very similar to the main project, however, this will let you go through the same thing with your own live tweets! All you have to do is add your own cusumerKey and consumerSecret and you're all good to go!  \n",
    "You even get to pick your own hashtags to compare!"
   ]
  },
  {
   "cell_type": "code",
   "execution_count": null,
   "metadata": {
    "collapsed": true
   },
   "outputs": [],
   "source": [
    "#First, The Imports\n",
    "import tweepy\n",
    "import pandas as pd\n",
    "import matplotlib.pyplot as plt\n",
    "from pprint import pprint\n",
    "\n",
    "# Every returned Out[] is displayed, not just the last one. (Thanks NaRae!)\n",
    "from IPython.core.interactiveshell import InteractiveShell\n",
    "InteractiveShell.ast_node_interactivity = \"all\""
   ]
  },
  {
   "cell_type": "markdown",
   "metadata": {},
   "source": [
    "### Please insert your consumerKey and comsumerSecret in the cell below:"
   ]
  },
  {
   "cell_type": "code",
   "execution_count": null,
   "metadata": {
    "collapsed": true
   },
   "outputs": [],
   "source": [
    "# the key variables\n",
    "consumerKey = \"XXXXX\"\n",
    "consumerSecret =\"XXXXX\""
   ]
  },
  {
   "cell_type": "code",
   "execution_count": null,
   "metadata": {
    "collapsed": true
   },
   "outputs": [],
   "source": [
    "#authentication\n",
    "auth = tweepy.OAuthHandler(consumerKey, consumerSecret)\n",
    "\n",
    "#connecting to Twitter API\n",
    "api = tweepy.API(auth)"
   ]
  },
  {
   "cell_type": "markdown",
   "metadata": {},
   "source": [
    "### This time around, pick your own hashtags to compare! You'll need 4 (2 related to one topic, and 2 related to another, please enter them in the variables in the cell below:"
   ]
  },
  {
   "cell_type": "code",
   "execution_count": null,
   "metadata": {
    "collapsed": true
   },
   "outputs": [],
   "source": [
    "# topic 1\n",
    "a = 'XXX'\n",
    "#topic 1, word 1\n",
    "a1 = '%23' + 'XXX'\n",
    "#topic 1, word 2\n",
    "a2 = '%23' + \"XXX\"\n",
    "\n",
    "#topic 2\n",
    "b = 'XXX'\n",
    "#topic 2, word 1\n",
    "b1 = '%23' + \"XXX\"\n",
    "#topic 2, word 2\n",
    "b2 = '%23' + \"XXX\""
   ]
  },
  {
   "cell_type": "code",
   "execution_count": null,
   "metadata": {
    "collapsed": true
   },
   "outputs": [],
   "source": [
    "#getting topic 1 and topic 2 search results\n",
    "ra1 = api.search(q = a1)\n",
    "ra2 = api.search(q = a2)\n",
    "rb1 = api.search(q = b1)\n",
    "rb2 = api.search(q = b2)"
   ]
  },
  {
   "cell_type": "code",
   "execution_count": null,
   "metadata": {},
   "outputs": [],
   "source": [
    "#Get the first 1000 items based on the search query\n",
    "for tweet in tweepy.Cursor(api.search, q=a1).items(1000):\n",
    "    ra1.append(tweet)\n",
    "for tweet in tweepy.Cursor(api.search, q=a2).items(1000):\n",
    "    ra2.append(tweet)\n",
    "for tweet in tweepy.Cursor(api.search, q=b1).items(1000):\n",
    "    rb1.append(tweet)\n",
    "for tweet in tweepy.Cursor(api.search, q=b2).items(1000):\n",
    "    rb2.append(tweet)"
   ]
  },
  {
   "cell_type": "code",
   "execution_count": null,
   "metadata": {},
   "outputs": [],
   "source": [
    "#Verify the number of items returned\n",
    "len(ra1)\n",
    "len(ra2)\n",
    "len(rb1)\n",
    "len(rb2)"
   ]
  },
  {
   "cell_type": "markdown",
   "metadata": {},
   "source": [
    "### AWESOME! Now, let's take a look at the first tweet form each hashtag and learn a little about them!"
   ]
  },
  {
   "cell_type": "code",
   "execution_count": null,
   "metadata": {},
   "outputs": [],
   "source": [
    "#this is an example of a tweet\n",
    "tweeta1 = ra1[1] #get the data of the first tweet.\n",
    "\n",
    "#then, print tweet. \n",
    "print(tweeta1.text)\n",
    "\n",
    "#other additional info about the tweet for reference\n",
    "tweeta1.lang                    #the language of the tweet \n",
    "tweeta1.user.screen_name        #this is the username\n",
    "tweeta1.user.description        #self description of user by user posted on profile\n",
    "tweeta1.created_at              #date and time tweet was created\n",
    "tweeta1.id                      #Tweet ID #\n",
    "tweeta1.favorite_count          #how many likes the tweet received"
   ]
  },
  {
   "cell_type": "code",
   "execution_count": null,
   "metadata": {},
   "outputs": [],
   "source": [
    "#this is an example of a tweet\n",
    "tweeta2 = ra2[1] #get the data of the first tweet.\n",
    "\n",
    "#then, print tweet. \n",
    "print(tweeta2.text)\n",
    "\n",
    "#other additional info about the tweet for reference\n",
    "tweeta2.lang                    #the language of the tweet\n",
    "tweeta2.user.screen_name        #this is the username\n",
    "tweeta2.user.description        #self description of user by user posted on profile\n",
    "tweeta2.created_at              #date and time tweet was created\n",
    "tweeta2.id                      #Tweet ID #\n",
    "tweeta2.favorite_count          #how many likes the tweet received"
   ]
  },
  {
   "cell_type": "code",
   "execution_count": null,
   "metadata": {},
   "outputs": [],
   "source": [
    "#this is an example of a tweet\n",
    "tweetb1 = rb1[1] #get the data of the first tweet.\n",
    "\n",
    "#then, print tweet. \n",
    "print(tweetb1.text)\n",
    "\n",
    "#other additional info about the tweet for reference\n",
    "tweetb1.lang                    #the language of the tweet\n",
    "tweetb1.user.screen_name        #this is the username\n",
    "tweetb1.user.description        #self description of user by user posted on profile\n",
    "tweetb1.created_at              #date and time tweet was created\n",
    "tweetb1.id                      #Tweet ID #\n",
    "tweetb1.favorite_count          #how many likes the tweet received"
   ]
  },
  {
   "cell_type": "code",
   "execution_count": null,
   "metadata": {},
   "outputs": [],
   "source": [
    "#this is an example of a tweet\n",
    "tweetb2 = rb2[1] #get the data of the first tweet.\n",
    "\n",
    "#then, print tweet. \n",
    "print(tweetb2.text)\n",
    "\n",
    "#other additional info about the tweet for reference\n",
    "tweetb2.lang                    #the language of the tweet\n",
    "tweetb2.user.screen_name        #this is the username\n",
    "tweetb2.user.description        #self description of user by user posted on profile\n",
    "tweetb2.created_at              #date and time tweet was created\n",
    "tweetb2.id                      #Tweet ID #\n",
    "tweetb2.favorite_count          #how many likes the tweet received"
   ]
  },
  {
   "cell_type": "markdown",
   "metadata": {},
   "source": [
    "### Sweet! Now let's clean these tweets into a dataframe and get going!"
   ]
  },
  {
   "cell_type": "code",
   "execution_count": null,
   "metadata": {
    "collapsed": true
   },
   "outputs": [],
   "source": [
    "# this is a function found here: http://blog.impiyush.com/2015/03/data-analysis-using-twitter-api-and.html\n",
    "# I am using this to clean my data into a dataframe, it has been altered slightly (mostly deletion) for my project.\n",
    "def toDataFrame(tweets):\n",
    "\n",
    "    DataSet = pd.DataFrame()\n",
    "\n",
    "    DataSet['tweetID'] = [tweet.id for tweet in tweets]\n",
    "    DataSet['tweetRetweetCt'] = [tweet.retweet_count for tweet \n",
    "    in tweets]\n",
    "    DataSet['tweetFavoriteCt'] = [tweet.favorite_count for tweet \n",
    "    in tweets]\n",
    "    DataSet['tweetSource'] = [tweet.source for tweet in tweets]\n",
    "    DataSet['tweetCreated'] = [tweet.created_at for tweet in tweets]\n",
    "\n",
    "\n",
    "    DataSet['userID'] = [tweet.user.id for tweet in tweets]\n",
    "    DataSet['userScreen'] = [tweet.user.screen_name for tweet \n",
    "    in tweets]\n",
    "    DataSet['userName'] = [tweet.user.name for tweet in tweets]\n",
    "    DataSet['userLocation'] = [tweet.user.location for tweet in tweets]\n",
    "    DataSet['userTimezone'] = [tweet.user.time_zone for tweet \n",
    "    in tweets]\n",
    "\n",
    "    return DataSet"
   ]
  },
  {
   "cell_type": "code",
   "execution_count": null,
   "metadata": {},
   "outputs": [],
   "source": [
    "#Do this funciton on the tweets, then connect the dataframes\n",
    "a1_df = toDataFrame(ra1)\n",
    "a2_df = toDataFrame(ra2)\n",
    "b1_df = toDataFrame(rb1)\n",
    "b2_df = toDataFrame(rb2)\n",
    "\n",
    "#Adding a column to say which hashtag it came from\n",
    "a1_df['Hashtag'] = a1\n",
    "a2_df['Hashtag'] = a2 \n",
    "b1_df['Hashtag'] = b1\n",
    "b2_df['Hashtag'] = b2\n",
    "\n",
    "# now to combine into 2 larger ones\n",
    "a_df = pd.concat([a1_df, a2_df])\n",
    "b_df = pd.concat([b1_df, b2_df])\n",
    "\n",
    "#Take a look at the new dataframes\n",
    "a_df.head()\n",
    "b_df.head()"
   ]
  },
  {
   "cell_type": "code",
   "execution_count": null,
   "metadata": {
    "collapsed": true
   },
   "outputs": [],
   "source": [
    "#write your dataframes to a csv file, if you want to be able to use it later.\n",
    "# Write out the DF as a new CSV file\n",
    "a_df.to_csv('a_tweets.csv')\n",
    "b_df.to_csv('b_tweets.csv')"
   ]
  },
  {
   "cell_type": "markdown",
   "metadata": {},
   "source": [
    "### Now that the data has been cleaned a bit, let's start comparing!  \n",
    "### Size comparison:"
   ]
  },
  {
   "cell_type": "code",
   "execution_count": null,
   "metadata": {},
   "outputs": [],
   "source": [
    "a_df.size\n",
    "b_df.size"
   ]
  },
  {
   "cell_type": "markdown",
   "metadata": {},
   "source": [
    "### Number of favorites vs. retweets comparison"
   ]
  },
  {
   "cell_type": "code",
   "execution_count": null,
   "metadata": {
    "collapsed": true
   },
   "outputs": [],
   "source": [
    "a_fav_total = a_df['tweetFavoriteCt'].sum()\n",
    "a_rt_total = a_df['tweetRetweetCt'].sum()\n",
    "\n",
    "b_fav_total = b_df['tweetFavoriteCt'].sum()\n",
    "b_rt_total = b_df['tweetRetweetCt'].sum()"
   ]
  },
  {
   "cell_type": "code",
   "execution_count": null,
   "metadata": {},
   "outputs": [],
   "source": [
    "# okay, now for the bar graph, again\n",
    "fav = pd.DataFrame(columns = [a, b])\n",
    "rt = pd.DataFrame(columns = [a, b])\n",
    "fav.set_value('Favorites', a, a_fav_total)\n",
    "rt.set_value('Retweets', a, a_rt_total)\n",
    "fav.set_value('Favorites', b, b_fav_total)\n",
    "rt.set_value('Retweets', b, b_rt_total)\n",
    "\n",
    "fav.plot.bar(figsize=(4,4))\n",
    "plt.show()\n",
    "rt.plot.bar(figsize=(4,4))\n",
    "plt.show()"
   ]
  },
  {
   "cell_type": "code",
   "execution_count": null,
   "metadata": {},
   "outputs": [],
   "source": [
    "#figuring out percents\n",
    "ab_fav_sum = a_fav_total + b_fav_total\n",
    "ab_rt_sum = a_rt_total + b_rt_total\n",
    "\n",
    "a_fav_per = (a_fav_total/ab_fav_sum)*100\n",
    "a_fav_per\n",
    "b_fav_per = (b_fav_total/ab_fav_sum)*100\n",
    "b_fav_per\n",
    "\n",
    "a_rt_per = (a_rt_total/ab_rt_sum)*100\n",
    "a_rt_per\n",
    "b_rt_per = (b_rt_total/ab_rt_sum)*100\n",
    "b_rt_per\n",
    "\n",
    "#pie charts\n",
    "\n",
    "# Pie chart, where the slices will be ordered and plotted counter-clockwise:\n",
    "labels = [a,b]\n",
    "sizes = [a_fav_per, b_fav_per]\n",
    "explode = (0.1, 0)\n",
    "\n",
    "fig1, ax1 = plt.subplots()\n",
    "ax1.pie(sizes, explode=explode, labels=labels, autopct='%1.1f%%',\n",
    "        shadow=True, startangle=90)\n",
    "ax1.axis('equal')  # Equal aspect ratio ensures that pie is drawn as a circle.\n",
    "\n",
    "plt.show()\n",
    "\n",
    "labels = [a,b]\n",
    "sizes = [a_rt_per, b_rt_per]\n",
    "explode = (0.1, 0)\n",
    "\n",
    "fig1, ax1 = plt.subplots()\n",
    "ax1.pie(sizes, explode=explode, labels=labels, autopct='%1.1f%%',\n",
    "        shadow=True, startangle=90)\n",
    "ax1.axis('equal')  # Equal aspect ratio ensures that pie is drawn as a circle.\n",
    "\n",
    "plt.show()\n",
    "\n",
    "#Favrites and then RT"
   ]
  },
  {
   "cell_type": "code",
   "execution_count": null,
   "metadata": {
    "collapsed": true
   },
   "outputs": [],
   "source": []
  }
 ],
 "metadata": {
  "kernelspec": {
   "display_name": "Python 3",
   "language": "python",
   "name": "python3"
  },
  "language_info": {
   "codemirror_mode": {
    "name": "ipython",
    "version": 3
   },
   "file_extension": ".py",
   "mimetype": "text/x-python",
   "name": "python",
   "nbconvert_exporter": "python",
   "pygments_lexer": "ipython3",
   "version": "3.6.1"
  }
 },
 "nbformat": 4,
 "nbformat_minor": 2
}
